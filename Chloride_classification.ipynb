{
 "cells": [
  {
   "cell_type": "markdown",
   "metadata": {},
   "source": [
    "## <div class=\"alert alert-block alert-info\"><b>Project:</b> Classification of Concrete Chloride Resistance</div>"
   ]
  },
  {
   "cell_type": "markdown",
   "metadata": {},
   "source": [
    "# About the project"
   ]
  },
  {
   "cell_type": "markdown",
   "metadata": {},
   "source": [
    "\n",
    "**Background:** Chloride attack is one of the most serious threats to the durability of reinforced concrete (RC) structures exposed to coastal environments and chloride-containing deicing salts. The chloride resistance of concrete to chloride ion penetration can be divided into five levels based on the values of the non-steady-state migration coefficients $(D_{nssm})$, as shown in the table below. \n",
    "\n",
    "|Chloride Migration coefficient $D_{nssm}$ (x$10^{-12} m^2/s$)|Resistance to Chloride Penetration\n",
    "|-|-\n",
    "|>15  |Low\n",
    "|10–15|Moderate\n",
    "|5–10|High\n",
    "|2.5–5|Very high\n",
    "|<2.5|Exemely high\n",
    "\n",
    "**Problem statement:** Chloride ion diffusivity is one of the most important indicators of durability of RC structures exposed to chloride-laden environments. Concrete chloride diffusion coefficient is typically determined in a laboratory using various test procedures such as ASTM C1556–11, NT Build 443, and NT Build 492. Unlike the other tests, the Nordic standard NT Build 492 test is completed in a relatively short period of time, making it a widely accepted test method. To distinguish the NT Build 492 test method from other tests, the diffusion coefficient obtained using this method is referred to as the non-steady-state migration coefficient or $(D_{nssm})$. Despite the fact that the NT Build 492 test method provides quick results, it is typically performed by an experienced operator 28 days after concrete preparation in the lab, making the whole process a resource- and time-consuming task. Hence, determining the concrete's resistance level to chloride penetration in a timely and resource-efficient manner is critical for the durability of RC structures exposed to the coastal environment and deicing salt. \n",
    "\n",
    "**Objective:** The objectives are twofold: i) devising a machine learning based approach for predicting the degree of resistance of concrete to chloride penetration for the durability design and service-life assessment of chloride-exposed reinforced concrete buildings, and ii) investigating the importance of concrete mix components in predicting the resistance of concrete to chloride penetration and contributing to a better understanding of the durability and service life of reinforced concrete buildings in coastal region or subjected to chloride-loaded environments.\n",
    "\n",
    "**Data:** A comprehensive dataset of mix ingredients of different concrete types with their chloride resistance level is used to train and validate the models.\n"
   ]
  },
  {
   "cell_type": "markdown",
   "metadata": {},
   "source": [
    "# Data"
   ]
  },
  {
   "cell_type": "markdown",
   "metadata": {},
   "source": [
    "The database comprises information on the concrete mix proportions of various concrete types. The concrete mix has eight features that describe the type and proportion of its components. These are w/b ratio, contents of binders (cement, slag, FA, SF, and lime filler) in units of $kg/m^3$, amount of fine, coarse, and total aggregates in units of $kg/m^3$, contents of chemical additives (plasticizers, superplasticizers, and air-entraining agents (AEA) in$\\%$ $by$ $binder$ $weight$ $of$ $the$ $binder$. The database also includes the age of the concrete in which the migration tests were performed and the degree of resistance of the concrete to chloride penetration. The following table describes the data in greater detail. "
   ]
  },
  {
   "cell_type": "markdown",
   "metadata": {},
   "source": [
    "|No.|Feature subcategory |Description |Unit\n",
    "|-|-|-|-\n",
    "|1| Cement types |-|[-]\n",
    "|2|Water content | - | [kg/m3] \n",
    "|3|Cement content  | - | [kg/m3] \n",
    "|4|Mineral admixtures content  | Slag | [kg/m3] \n",
    "|5| | Fly ash  | [kg/m3] \n",
    "|6| | Silica fume | [kg/m3] \n",
    "|7| | Lime filler  | [kg/m3] \n",
    "|8|Water-to-binder ratio | - | [-]\n",
    "|9|Aggregates content | Fine aggregate  | [kg/m3] \n",
    "|10| | Coarse aggregate  | [kg/m3] \n",
    "|11| | Total aggregate | [kg/m3] \n",
    "|12|Chemical admixtures content  | Plasticizer | [% by binder wt.]\n",
    "|13| |Superplasticizer  | [% by binder wt.]\n",
    "|14| | Air-entraining agent  | [% by binder wt.]\n",
    "|15|Concrete age at migration test| - | [days]\n",
    "|16|Concrete’s resistance to chloride penetration | - | [-]"
   ]
  },
  {
   "cell_type": "markdown",
   "metadata": {},
   "source": [
    "# Method"
   ]
  },
  {
   "cell_type": "markdown",
   "metadata": {},
   "source": [
    "In this project, **K-Nearest Neighbors**, **Naive Bayes**, **Support Vector Machine**, **Decision Trees**, and **Random Forests** machine learning algorithms are used to build a model that classifies chloride resistance of concrete to chloride ion penetration. These algorithms had never been used before to solve the same problem. "
   ]
  },
  {
   "cell_type": "code",
   "execution_count": 1,
   "metadata": {},
   "outputs": [],
   "source": [
    "# Import the necessary libraries\n",
    "import pandas as pd\n",
    "import numpy as np\n",
    "import scipy as sp\n",
    "import seaborn as sns\n",
    "import mglearn\n",
    "import sklearn.metrics as metrics\n",
    "import matplotlib.pyplot as plt\n",
    "from pandas import concat\n",
    "from sklearn import preprocessing\n",
    "from sklearn.model_selection import train_test_split\n",
    "from sklearn.model_selection import GridSearchCV\n",
    "from sklearn.metrics import confusion_matrix, accuracy_score\n",
    "from sklearn.model_selection import cross_val_score\n",
    "from sklearn.model_selection import RepeatedKFold\n",
    "from sklearn.preprocessing import MinMaxScaler\n",
    "from sklearn.preprocessing import LabelEncoder\n",
    "from sklearn.tree import DecisionTreeClassifier\n",
    "from sklearn.neighbors import KNeighborsClassifier\n",
    "from sklearn.ensemble import RandomForestClassifier\n",
    "from sklearn.metrics import roc_auc_score\n",
    "from sklearn.ensemble import IsolationForest\n",
    "from pandas.plotting import scatter_matrix\n",
    "from sklearn.preprocessing import StandardScaler\n",
    "from datetime import datetime"
   ]
  },
  {
   "cell_type": "markdown",
   "metadata": {},
   "source": [
    "## Retrive the data"
   ]
  },
  {
   "cell_type": "code",
   "execution_count": 2,
   "metadata": {},
   "outputs": [
    {
     "data": {
      "text/html": [
       "<div>\n",
       "<style scoped>\n",
       "    .dataframe tbody tr th:only-of-type {\n",
       "        vertical-align: middle;\n",
       "    }\n",
       "\n",
       "    .dataframe tbody tr th {\n",
       "        vertical-align: top;\n",
       "    }\n",
       "\n",
       "    .dataframe thead th {\n",
       "        text-align: right;\n",
       "    }\n",
       "</style>\n",
       "<table border=\"1\" class=\"dataframe\">\n",
       "  <thead>\n",
       "    <tr style=\"text-align: right;\">\n",
       "      <th></th>\n",
       "      <th>w/b</th>\n",
       "      <th>Water</th>\n",
       "      <th>Cement type</th>\n",
       "      <th>Cement</th>\n",
       "      <th>Slag</th>\n",
       "      <th>Fly ash</th>\n",
       "      <th>Silica fume</th>\n",
       "      <th>Lime filler</th>\n",
       "      <th>Fine aggregate</th>\n",
       "      <th>Coarse aggregate</th>\n",
       "      <th>...</th>\n",
       "      <th>Comp. str. test age</th>\n",
       "      <th>Compressive strength</th>\n",
       "      <th>Air content</th>\n",
       "      <th>Spreed</th>\n",
       "      <th>Slump</th>\n",
       "      <th>Fresh density</th>\n",
       "      <th>Dry  density</th>\n",
       "      <th>Migration test age</th>\n",
       "      <th>Dnssm</th>\n",
       "      <th>Migration resistance</th>\n",
       "    </tr>\n",
       "  </thead>\n",
       "  <tbody>\n",
       "    <tr>\n",
       "      <th>0</th>\n",
       "      <td>0.45</td>\n",
       "      <td>180.0</td>\n",
       "      <td>NaN</td>\n",
       "      <td>400.0</td>\n",
       "      <td>0.0</td>\n",
       "      <td>0.0</td>\n",
       "      <td>0.0</td>\n",
       "      <td>0.0</td>\n",
       "      <td>640.0</td>\n",
       "      <td>960.0</td>\n",
       "      <td>...</td>\n",
       "      <td>126.0</td>\n",
       "      <td>63.22</td>\n",
       "      <td>NaN</td>\n",
       "      <td>NaN</td>\n",
       "      <td>NaN</td>\n",
       "      <td>NaN</td>\n",
       "      <td>NaN</td>\n",
       "      <td>120</td>\n",
       "      <td>2.85</td>\n",
       "      <td>Very high</td>\n",
       "    </tr>\n",
       "    <tr>\n",
       "      <th>1</th>\n",
       "      <td>0.45</td>\n",
       "      <td>180.0</td>\n",
       "      <td>NaN</td>\n",
       "      <td>380.0</td>\n",
       "      <td>0.0</td>\n",
       "      <td>0.0</td>\n",
       "      <td>20.0</td>\n",
       "      <td>0.0</td>\n",
       "      <td>640.0</td>\n",
       "      <td>960.0</td>\n",
       "      <td>...</td>\n",
       "      <td>126.0</td>\n",
       "      <td>63.46</td>\n",
       "      <td>NaN</td>\n",
       "      <td>NaN</td>\n",
       "      <td>NaN</td>\n",
       "      <td>NaN</td>\n",
       "      <td>NaN</td>\n",
       "      <td>120</td>\n",
       "      <td>1.75</td>\n",
       "      <td>Extremely high</td>\n",
       "    </tr>\n",
       "    <tr>\n",
       "      <th>2</th>\n",
       "      <td>0.45</td>\n",
       "      <td>180.0</td>\n",
       "      <td>NaN</td>\n",
       "      <td>360.0</td>\n",
       "      <td>0.0</td>\n",
       "      <td>0.0</td>\n",
       "      <td>40.0</td>\n",
       "      <td>0.0</td>\n",
       "      <td>640.0</td>\n",
       "      <td>960.0</td>\n",
       "      <td>...</td>\n",
       "      <td>126.0</td>\n",
       "      <td>70.88</td>\n",
       "      <td>NaN</td>\n",
       "      <td>NaN</td>\n",
       "      <td>NaN</td>\n",
       "      <td>NaN</td>\n",
       "      <td>NaN</td>\n",
       "      <td>120</td>\n",
       "      <td>0.90</td>\n",
       "      <td>Extremely high</td>\n",
       "    </tr>\n",
       "  </tbody>\n",
       "</table>\n",
       "<p>3 rows × 24 columns</p>\n",
       "</div>"
      ],
      "text/plain": [
       "    w/b  Water Cement type  Cement  Slag  Fly ash  Silica fume  Lime filler  \\\n",
       "0  0.45  180.0         NaN   400.0   0.0      0.0          0.0          0.0   \n",
       "1  0.45  180.0         NaN   380.0   0.0      0.0         20.0          0.0   \n",
       "2  0.45  180.0         NaN   360.0   0.0      0.0         40.0          0.0   \n",
       "\n",
       "   Fine aggregate  Coarse aggregate  ...  Comp. str. test age  \\\n",
       "0           640.0             960.0  ...                126.0   \n",
       "1           640.0             960.0  ...                126.0   \n",
       "2           640.0             960.0  ...                126.0   \n",
       "\n",
       "   Compressive strength  Air content  Spreed  Slump  Fresh density  \\\n",
       "0                 63.22          NaN     NaN    NaN            NaN   \n",
       "1                 63.46          NaN     NaN    NaN            NaN   \n",
       "2                 70.88          NaN     NaN    NaN            NaN   \n",
       "\n",
       "   Dry  density  Migration test age  Dnssm  Migration resistance  \n",
       "0           NaN                 120   2.85             Very high  \n",
       "1           NaN                 120   1.75        Extremely high  \n",
       "2           NaN                 120   0.90        Extremely high  \n",
       "\n",
       "[3 rows x 24 columns]"
      ]
     },
     "execution_count": 2,
     "metadata": {},
     "output_type": "execute_result"
    }
   ],
   "source": [
    "# Import the data\n",
    "df = pd.read_excel('RawData.xlsx')\n",
    "df.head(3)"
   ]
  },
  {
   "cell_type": "markdown",
   "metadata": {},
   "source": [
    "## Data Exploration "
   ]
  },
  {
   "cell_type": "code",
   "execution_count": 3,
   "metadata": {},
   "outputs": [
    {
     "data": {
      "text/plain": [
       "(843, 24)"
      ]
     },
     "execution_count": 3,
     "metadata": {},
     "output_type": "execute_result"
    }
   ],
   "source": [
    "# check the size of the dataframe \n",
    "df.shape"
   ]
  },
  {
   "cell_type": "code",
   "execution_count": 4,
   "metadata": {},
   "outputs": [
    {
     "data": {
      "text/plain": [
       "4818"
      ]
     },
     "execution_count": 4,
     "metadata": {},
     "output_type": "execute_result"
    }
   ],
   "source": [
    "# Check number of nan\n",
    "df.isnull().sum().sum() "
   ]
  },
  {
   "cell_type": "markdown",
   "metadata": {},
   "source": [
    "# Preprocessing "
   ]
  },
  {
   "cell_type": "code",
   "execution_count": 5,
   "metadata": {},
   "outputs": [
    {
     "data": {
      "text/html": [
       "<div>\n",
       "<style scoped>\n",
       "    .dataframe tbody tr th:only-of-type {\n",
       "        vertical-align: middle;\n",
       "    }\n",
       "\n",
       "    .dataframe tbody tr th {\n",
       "        vertical-align: top;\n",
       "    }\n",
       "\n",
       "    .dataframe thead th {\n",
       "        text-align: right;\n",
       "    }\n",
       "</style>\n",
       "<table border=\"1\" class=\"dataframe\">\n",
       "  <thead>\n",
       "    <tr style=\"text-align: right;\">\n",
       "      <th></th>\n",
       "      <th>w/b</th>\n",
       "      <th>Water</th>\n",
       "      <th>Cement type</th>\n",
       "      <th>Cement</th>\n",
       "      <th>Slag</th>\n",
       "      <th>Fly ash</th>\n",
       "      <th>Silica fume</th>\n",
       "      <th>Lime filler</th>\n",
       "      <th>Fine aggregate</th>\n",
       "      <th>Coarse aggregate</th>\n",
       "      <th>Total aggregate</th>\n",
       "      <th>Plasticizer</th>\n",
       "      <th>Superplasticizer</th>\n",
       "      <th>Air entraining</th>\n",
       "      <th>Migration test age</th>\n",
       "      <th>Migration resistance</th>\n",
       "    </tr>\n",
       "  </thead>\n",
       "  <tbody>\n",
       "    <tr>\n",
       "      <th>0</th>\n",
       "      <td>0.45</td>\n",
       "      <td>180.0</td>\n",
       "      <td>NaN</td>\n",
       "      <td>400.0</td>\n",
       "      <td>0.0</td>\n",
       "      <td>0.0</td>\n",
       "      <td>0.0</td>\n",
       "      <td>0.0</td>\n",
       "      <td>640.0</td>\n",
       "      <td>960.0</td>\n",
       "      <td>1600.0</td>\n",
       "      <td>0.0</td>\n",
       "      <td>0.0</td>\n",
       "      <td>0.0</td>\n",
       "      <td>120</td>\n",
       "      <td>Very high</td>\n",
       "    </tr>\n",
       "    <tr>\n",
       "      <th>1</th>\n",
       "      <td>0.45</td>\n",
       "      <td>180.0</td>\n",
       "      <td>NaN</td>\n",
       "      <td>380.0</td>\n",
       "      <td>0.0</td>\n",
       "      <td>0.0</td>\n",
       "      <td>20.0</td>\n",
       "      <td>0.0</td>\n",
       "      <td>640.0</td>\n",
       "      <td>960.0</td>\n",
       "      <td>1600.0</td>\n",
       "      <td>0.0</td>\n",
       "      <td>0.0</td>\n",
       "      <td>0.0</td>\n",
       "      <td>120</td>\n",
       "      <td>Extremely high</td>\n",
       "    </tr>\n",
       "    <tr>\n",
       "      <th>2</th>\n",
       "      <td>0.45</td>\n",
       "      <td>180.0</td>\n",
       "      <td>NaN</td>\n",
       "      <td>360.0</td>\n",
       "      <td>0.0</td>\n",
       "      <td>0.0</td>\n",
       "      <td>40.0</td>\n",
       "      <td>0.0</td>\n",
       "      <td>640.0</td>\n",
       "      <td>960.0</td>\n",
       "      <td>1600.0</td>\n",
       "      <td>0.0</td>\n",
       "      <td>0.0</td>\n",
       "      <td>0.0</td>\n",
       "      <td>120</td>\n",
       "      <td>Extremely high</td>\n",
       "    </tr>\n",
       "  </tbody>\n",
       "</table>\n",
       "</div>"
      ],
      "text/plain": [
       "    w/b  Water Cement type  Cement  Slag  Fly ash  Silica fume  Lime filler  \\\n",
       "0  0.45  180.0         NaN   400.0   0.0      0.0          0.0          0.0   \n",
       "1  0.45  180.0         NaN   380.0   0.0      0.0         20.0          0.0   \n",
       "2  0.45  180.0         NaN   360.0   0.0      0.0         40.0          0.0   \n",
       "\n",
       "   Fine aggregate  Coarse aggregate  Total aggregate  Plasticizer  \\\n",
       "0           640.0             960.0           1600.0          0.0   \n",
       "1           640.0             960.0           1600.0          0.0   \n",
       "2           640.0             960.0           1600.0          0.0   \n",
       "\n",
       "   Superplasticizer  Air entraining  Migration test age Migration resistance  \n",
       "0               0.0             0.0                 120            Very high  \n",
       "1               0.0             0.0                 120       Extremely high  \n",
       "2               0.0             0.0                 120       Extremely high  "
      ]
     },
     "execution_count": 5,
     "metadata": {},
     "output_type": "execute_result"
    }
   ],
   "source": [
    "# Drop features that represent the fresh and hardened properties of concrete.\n",
    "df0 = df.drop(df.columns[[14, 15, 16,17,18, 19, 20, 22]], axis=1)\n",
    "\n",
    "df0.head(3)"
   ]
  },
  {
   "cell_type": "markdown",
   "metadata": {},
   "source": [
    "## Handling of missed data"
   ]
  },
  {
   "cell_type": "code",
   "execution_count": 6,
   "metadata": {},
   "outputs": [
    {
     "data": {
      "text/plain": [
       "1462"
      ]
     },
     "execution_count": 6,
     "metadata": {},
     "output_type": "execute_result"
    }
   ],
   "source": [
    "# Check number of nan\n",
    "df0.isnull().sum().sum() "
   ]
  },
  {
   "cell_type": "code",
   "execution_count": 7,
   "metadata": {},
   "outputs": [
    {
     "data": {
      "text/html": [
       "<div>\n",
       "<style scoped>\n",
       "    .dataframe tbody tr th:only-of-type {\n",
       "        vertical-align: middle;\n",
       "    }\n",
       "\n",
       "    .dataframe tbody tr th {\n",
       "        vertical-align: top;\n",
       "    }\n",
       "\n",
       "    .dataframe thead th {\n",
       "        text-align: right;\n",
       "    }\n",
       "</style>\n",
       "<table border=\"1\" class=\"dataframe\">\n",
       "  <thead>\n",
       "    <tr style=\"text-align: right;\">\n",
       "      <th></th>\n",
       "      <th>w/b</th>\n",
       "      <th>Water</th>\n",
       "      <th>Cement type</th>\n",
       "      <th>Cement</th>\n",
       "      <th>Slag</th>\n",
       "      <th>Fly ash</th>\n",
       "      <th>Silica fume</th>\n",
       "      <th>Lime filler</th>\n",
       "      <th>Fine aggregate</th>\n",
       "      <th>Coarse aggregate</th>\n",
       "      <th>Total aggregate</th>\n",
       "      <th>Plasticizer</th>\n",
       "      <th>Superplasticizer</th>\n",
       "      <th>Air entraining</th>\n",
       "      <th>Migration test age</th>\n",
       "      <th>Migration resistance</th>\n",
       "    </tr>\n",
       "  </thead>\n",
       "  <tbody>\n",
       "    <tr>\n",
       "      <th>0</th>\n",
       "      <td>0.55</td>\n",
       "      <td>192.5</td>\n",
       "      <td>CEM I</td>\n",
       "      <td>350.0</td>\n",
       "      <td>0.0</td>\n",
       "      <td>0.0</td>\n",
       "      <td>0.0</td>\n",
       "      <td>0.0</td>\n",
       "      <td>699.988</td>\n",
       "      <td>1062.249</td>\n",
       "      <td>1762.237</td>\n",
       "      <td>0.0</td>\n",
       "      <td>0.0</td>\n",
       "      <td>0.0</td>\n",
       "      <td>28</td>\n",
       "      <td>Low</td>\n",
       "    </tr>\n",
       "    <tr>\n",
       "      <th>1</th>\n",
       "      <td>0.55</td>\n",
       "      <td>192.5</td>\n",
       "      <td>CEM II/A-D</td>\n",
       "      <td>329.0</td>\n",
       "      <td>0.0</td>\n",
       "      <td>0.0</td>\n",
       "      <td>21.0</td>\n",
       "      <td>0.0</td>\n",
       "      <td>694.766</td>\n",
       "      <td>1059.600</td>\n",
       "      <td>1754.366</td>\n",
       "      <td>0.0</td>\n",
       "      <td>0.0</td>\n",
       "      <td>0.0</td>\n",
       "      <td>28</td>\n",
       "      <td>Moderate</td>\n",
       "    </tr>\n",
       "    <tr>\n",
       "      <th>2</th>\n",
       "      <td>0.55</td>\n",
       "      <td>192.5</td>\n",
       "      <td>CEM II/A-V</td>\n",
       "      <td>297.5</td>\n",
       "      <td>0.0</td>\n",
       "      <td>52.5</td>\n",
       "      <td>0.0</td>\n",
       "      <td>0.0</td>\n",
       "      <td>692.233</td>\n",
       "      <td>1056.951</td>\n",
       "      <td>1749.184</td>\n",
       "      <td>0.0</td>\n",
       "      <td>0.0</td>\n",
       "      <td>0.0</td>\n",
       "      <td>28</td>\n",
       "      <td>Low</td>\n",
       "    </tr>\n",
       "  </tbody>\n",
       "</table>\n",
       "</div>"
      ],
      "text/plain": [
       "    w/b  Water Cement type  Cement  Slag  Fly ash  Silica fume  Lime filler  \\\n",
       "0  0.55  192.5       CEM I   350.0   0.0      0.0          0.0          0.0   \n",
       "1  0.55  192.5  CEM II/A-D   329.0   0.0      0.0         21.0          0.0   \n",
       "2  0.55  192.5  CEM II/A-V   297.5   0.0     52.5          0.0          0.0   \n",
       "\n",
       "   Fine aggregate  Coarse aggregate  Total aggregate  Plasticizer  \\\n",
       "0         699.988          1062.249         1762.237          0.0   \n",
       "1         694.766          1059.600         1754.366          0.0   \n",
       "2         692.233          1056.951         1749.184          0.0   \n",
       "\n",
       "   Superplasticizer  Air entraining  Migration test age Migration resistance  \n",
       "0               0.0             0.0                  28                  Low  \n",
       "1               0.0             0.0                  28             Moderate  \n",
       "2               0.0             0.0                  28                  Low  "
      ]
     },
     "execution_count": 7,
     "metadata": {},
     "output_type": "execute_result"
    }
   ],
   "source": [
    "# Drop all rows with NaN values and reset index after drop\n",
    "df0 = df0.dropna().reset_index(drop=True)\n",
    "df0.head(3)"
   ]
  },
  {
   "cell_type": "code",
   "execution_count": 8,
   "metadata": {},
   "outputs": [
    {
     "data": {
      "text/plain": [
       "0"
      ]
     },
     "execution_count": 8,
     "metadata": {},
     "output_type": "execute_result"
    }
   ],
   "source": [
    "# Sanity check\n",
    "df0.isnull().sum().sum() "
   ]
  },
  {
   "cell_type": "code",
   "execution_count": 9,
   "metadata": {},
   "outputs": [
    {
     "data": {
      "text/plain": [
       "(204, 16)"
      ]
     },
     "execution_count": 9,
     "metadata": {},
     "output_type": "execute_result"
    }
   ],
   "source": [
    "# check the size of a dataframe \"df_all_ing\"\n",
    "df0.shape"
   ]
  },
  {
   "cell_type": "code",
   "execution_count": 10,
   "metadata": {},
   "outputs": [
    {
     "data": {
      "text/html": [
       "<div>\n",
       "<style scoped>\n",
       "    .dataframe tbody tr th:only-of-type {\n",
       "        vertical-align: middle;\n",
       "    }\n",
       "\n",
       "    .dataframe tbody tr th {\n",
       "        vertical-align: top;\n",
       "    }\n",
       "\n",
       "    .dataframe thead th {\n",
       "        text-align: right;\n",
       "    }\n",
       "</style>\n",
       "<table border=\"1\" class=\"dataframe\">\n",
       "  <thead>\n",
       "    <tr style=\"text-align: right;\">\n",
       "      <th></th>\n",
       "      <th>w/b</th>\n",
       "      <th>Water</th>\n",
       "      <th>Cement</th>\n",
       "      <th>Slag</th>\n",
       "      <th>Fly ash</th>\n",
       "      <th>Silica fume</th>\n",
       "      <th>Lime filler</th>\n",
       "      <th>Fine aggregate</th>\n",
       "      <th>Coarse aggregate</th>\n",
       "      <th>Total aggregate</th>\n",
       "      <th>Plasticizer</th>\n",
       "      <th>Superplasticizer</th>\n",
       "      <th>Air entraining</th>\n",
       "      <th>Migration test age</th>\n",
       "    </tr>\n",
       "  </thead>\n",
       "  <tbody>\n",
       "    <tr>\n",
       "      <th>count</th>\n",
       "      <td>204.000000</td>\n",
       "      <td>204.000000</td>\n",
       "      <td>204.000000</td>\n",
       "      <td>204.000000</td>\n",
       "      <td>204.000000</td>\n",
       "      <td>204.000000</td>\n",
       "      <td>204.0</td>\n",
       "      <td>204.000000</td>\n",
       "      <td>204.000000</td>\n",
       "      <td>204.000000</td>\n",
       "      <td>204.0</td>\n",
       "      <td>204.000000</td>\n",
       "      <td>204.0</td>\n",
       "      <td>204.000000</td>\n",
       "    </tr>\n",
       "    <tr>\n",
       "      <th>mean</th>\n",
       "      <td>0.424000</td>\n",
       "      <td>175.991176</td>\n",
       "      <td>361.850000</td>\n",
       "      <td>18.438725</td>\n",
       "      <td>44.122059</td>\n",
       "      <td>8.361765</td>\n",
       "      <td>0.0</td>\n",
       "      <td>798.830755</td>\n",
       "      <td>797.205485</td>\n",
       "      <td>1596.036240</td>\n",
       "      <td>0.0</td>\n",
       "      <td>0.414598</td>\n",
       "      <td>0.0</td>\n",
       "      <td>65.568627</td>\n",
       "    </tr>\n",
       "    <tr>\n",
       "      <th>std</th>\n",
       "      <td>0.079792</td>\n",
       "      <td>22.640191</td>\n",
       "      <td>96.903092</td>\n",
       "      <td>57.348913</td>\n",
       "      <td>133.697922</td>\n",
       "      <td>35.459964</td>\n",
       "      <td>0.0</td>\n",
       "      <td>223.797309</td>\n",
       "      <td>306.175360</td>\n",
       "      <td>291.545939</td>\n",
       "      <td>0.0</td>\n",
       "      <td>0.541004</td>\n",
       "      <td>0.0</td>\n",
       "      <td>83.702147</td>\n",
       "    </tr>\n",
       "    <tr>\n",
       "      <th>min</th>\n",
       "      <td>0.300000</td>\n",
       "      <td>122.500000</td>\n",
       "      <td>52.000000</td>\n",
       "      <td>0.000000</td>\n",
       "      <td>0.000000</td>\n",
       "      <td>0.000000</td>\n",
       "      <td>0.0</td>\n",
       "      <td>235.000000</td>\n",
       "      <td>0.000000</td>\n",
       "      <td>630.000000</td>\n",
       "      <td>0.0</td>\n",
       "      <td>0.000000</td>\n",
       "      <td>0.0</td>\n",
       "      <td>3.000000</td>\n",
       "    </tr>\n",
       "    <tr>\n",
       "      <th>25%</th>\n",
       "      <td>0.360000</td>\n",
       "      <td>158.000000</td>\n",
       "      <td>297.875000</td>\n",
       "      <td>0.000000</td>\n",
       "      <td>0.000000</td>\n",
       "      <td>0.000000</td>\n",
       "      <td>0.0</td>\n",
       "      <td>685.258250</td>\n",
       "      <td>451.500000</td>\n",
       "      <td>1415.820000</td>\n",
       "      <td>0.0</td>\n",
       "      <td>0.000000</td>\n",
       "      <td>0.0</td>\n",
       "      <td>28.000000</td>\n",
       "    </tr>\n",
       "    <tr>\n",
       "      <th>50%</th>\n",
       "      <td>0.400000</td>\n",
       "      <td>175.000000</td>\n",
       "      <td>350.000000</td>\n",
       "      <td>0.000000</td>\n",
       "      <td>0.000000</td>\n",
       "      <td>0.000000</td>\n",
       "      <td>0.0</td>\n",
       "      <td>765.000000</td>\n",
       "      <td>915.530000</td>\n",
       "      <td>1720.000000</td>\n",
       "      <td>0.0</td>\n",
       "      <td>0.200000</td>\n",
       "      <td>0.0</td>\n",
       "      <td>28.000000</td>\n",
       "    </tr>\n",
       "    <tr>\n",
       "      <th>75%</th>\n",
       "      <td>0.450000</td>\n",
       "      <td>191.000000</td>\n",
       "      <td>444.375000</td>\n",
       "      <td>0.000000</td>\n",
       "      <td>0.000000</td>\n",
       "      <td>0.000000</td>\n",
       "      <td>0.0</td>\n",
       "      <td>956.750000</td>\n",
       "      <td>1059.950000</td>\n",
       "      <td>1801.000000</td>\n",
       "      <td>0.0</td>\n",
       "      <td>0.700000</td>\n",
       "      <td>0.0</td>\n",
       "      <td>90.000000</td>\n",
       "    </tr>\n",
       "    <tr>\n",
       "      <th>max</th>\n",
       "      <td>0.651786</td>\n",
       "      <td>222.000000</td>\n",
       "      <td>525.000000</td>\n",
       "      <td>312.300000</td>\n",
       "      <td>735.000000</td>\n",
       "      <td>468.500000</td>\n",
       "      <td>0.0</td>\n",
       "      <td>1574.100000</td>\n",
       "      <td>1240.000000</td>\n",
       "      <td>1950.000000</td>\n",
       "      <td>0.0</td>\n",
       "      <td>4.166667</td>\n",
       "      <td>0.0</td>\n",
       "      <td>365.000000</td>\n",
       "    </tr>\n",
       "  </tbody>\n",
       "</table>\n",
       "</div>"
      ],
      "text/plain": [
       "              w/b       Water      Cement        Slag     Fly ash  \\\n",
       "count  204.000000  204.000000  204.000000  204.000000  204.000000   \n",
       "mean     0.424000  175.991176  361.850000   18.438725   44.122059   \n",
       "std      0.079792   22.640191   96.903092   57.348913  133.697922   \n",
       "min      0.300000  122.500000   52.000000    0.000000    0.000000   \n",
       "25%      0.360000  158.000000  297.875000    0.000000    0.000000   \n",
       "50%      0.400000  175.000000  350.000000    0.000000    0.000000   \n",
       "75%      0.450000  191.000000  444.375000    0.000000    0.000000   \n",
       "max      0.651786  222.000000  525.000000  312.300000  735.000000   \n",
       "\n",
       "       Silica fume  Lime filler  Fine aggregate  Coarse aggregate  \\\n",
       "count   204.000000        204.0      204.000000        204.000000   \n",
       "mean      8.361765          0.0      798.830755        797.205485   \n",
       "std      35.459964          0.0      223.797309        306.175360   \n",
       "min       0.000000          0.0      235.000000          0.000000   \n",
       "25%       0.000000          0.0      685.258250        451.500000   \n",
       "50%       0.000000          0.0      765.000000        915.530000   \n",
       "75%       0.000000          0.0      956.750000       1059.950000   \n",
       "max     468.500000          0.0     1574.100000       1240.000000   \n",
       "\n",
       "       Total aggregate  Plasticizer  Superplasticizer  Air entraining  \\\n",
       "count       204.000000        204.0        204.000000           204.0   \n",
       "mean       1596.036240          0.0          0.414598             0.0   \n",
       "std         291.545939          0.0          0.541004             0.0   \n",
       "min         630.000000          0.0          0.000000             0.0   \n",
       "25%        1415.820000          0.0          0.000000             0.0   \n",
       "50%        1720.000000          0.0          0.200000             0.0   \n",
       "75%        1801.000000          0.0          0.700000             0.0   \n",
       "max        1950.000000          0.0          4.166667             0.0   \n",
       "\n",
       "       Migration test age  \n",
       "count          204.000000  \n",
       "mean            65.568627  \n",
       "std             83.702147  \n",
       "min              3.000000  \n",
       "25%             28.000000  \n",
       "50%             28.000000  \n",
       "75%             90.000000  \n",
       "max            365.000000  "
      ]
     },
     "execution_count": 10,
     "metadata": {},
     "output_type": "execute_result"
    }
   ],
   "source": [
    "# computes and displays summary statistics for dataframe \"df_all_ing\"\n",
    "df0.describe()"
   ]
  },
  {
   "cell_type": "markdown",
   "metadata": {},
   "source": [
    "### Data exploration through visualization "
   ]
  },
  {
   "cell_type": "code",
   "execution_count": 11,
   "metadata": {},
   "outputs": [
    {
     "data": {
      "image/png": "[encoded data removed]",
      "text/plain": [
       "<Figure size 1152x432 with 2 Axes>"
      ]
     },
     "metadata": {
      "needs_background": "light"
     },
     "output_type": "display_data"
    }
   ],
   "source": [
    "# Plot correlation heatmap\n",
    "plt.figure(figsize=(16, 6))\n",
    "heatmap = sns.heatmap(df0.corr(), vmin=-1, cmap=\"YlGnBu\", vmax=1, annot=True)\n",
    "heatmap.set_title('Correlation Heatmap', fontdict={'fontsize':12}, pad=12);"
   ]
  },
  {
   "cell_type": "code",
   "execution_count": 12,
   "metadata": {},
   "outputs": [],
   "source": [
    "# Write the prediction in an Excel sheet to visualize with another tool.\n",
    "df0.to_excel(\"df_corr_class.xlsx\",sheet_name='Corr') "
   ]
  },
  {
   "cell_type": "markdown",
   "metadata": {},
   "source": [
    "It can be noticed from the pair plot and a heat map that features (*Lime filler*, *Plasticizer*, and *Air entraining*) have only zero values after all NaN are removed from the dataframe. Hence, these features are useless for the analysis."
   ]
  },
  {
   "cell_type": "code",
   "execution_count": 13,
   "metadata": {
    "scrolled": true
   },
   "outputs": [],
   "source": [
    "# create a scatter matrix from the dataframe, color by y_train\n",
    "from pandas.plotting import scatter_matrix\n",
    "#grr = scatter_matrix(df0.loc[:,['w/b','Cement','Slag','Fly ash','Silica fume','Fine aggregate']], c=y, figsize=(15, 15), marker='o',\n",
    "   #                     hist_kwds={'bins': 20}, s=20, alpha=.8, cmap=mglearn.cm3)"
   ]
  },
  {
   "cell_type": "markdown",
   "metadata": {},
   "source": [
    "To develop models that classify chloride resistance of concrete to chloride ion penetration, two scenarios (**Scenarios: 1** and **Scenario: 2**) are considered. The main difference between the two scenarios is the number of input features describing the ingredients of the concrete mix. **Scenario: 1** considers all of the features described in the preceding table, whereas **Scenario: 2** considers only a subset of the features via the implementation feature selection process. "
   ]
  },
  {
   "cell_type": "markdown",
   "metadata": {},
   "source": [
    "# <div class=\"alert alert-block alert-info\"><b><font color='red'> Scenario: 1 <font color='red'> </b> </div>"
   ]
  },
  {
   "cell_type": "code",
   "execution_count": 14,
   "metadata": {},
   "outputs": [
    {
     "data": {
      "text/html": [
       "<div>\n",
       "<style scoped>\n",
       "    .dataframe tbody tr th:only-of-type {\n",
       "        vertical-align: middle;\n",
       "    }\n",
       "\n",
       "    .dataframe tbody tr th {\n",
       "        vertical-align: top;\n",
       "    }\n",
       "\n",
       "    .dataframe thead th {\n",
       "        text-align: right;\n",
       "    }\n",
       "</style>\n",
       "<table border=\"1\" class=\"dataframe\">\n",
       "  <thead>\n",
       "    <tr style=\"text-align: right;\">\n",
       "      <th></th>\n",
       "      <th>w/b</th>\n",
       "      <th>Water</th>\n",
       "      <th>Cement type</th>\n",
       "      <th>Cement</th>\n",
       "      <th>Slag</th>\n",
       "      <th>Fly ash</th>\n",
       "      <th>Silica fume</th>\n",
       "      <th>Fine aggregate</th>\n",
       "      <th>Coarse aggregate</th>\n",
       "      <th>Total aggregate</th>\n",
       "      <th>Superplasticizer</th>\n",
       "      <th>Migration test age</th>\n",
       "      <th>Migration resistance</th>\n",
       "    </tr>\n",
       "  </thead>\n",
       "  <tbody>\n",
       "    <tr>\n",
       "      <th>0</th>\n",
       "      <td>0.55</td>\n",
       "      <td>192.5</td>\n",
       "      <td>CEM I</td>\n",
       "      <td>350.0</td>\n",
       "      <td>0.0</td>\n",
       "      <td>0.0</td>\n",
       "      <td>0.0</td>\n",
       "      <td>699.988</td>\n",
       "      <td>1062.249</td>\n",
       "      <td>1762.237</td>\n",
       "      <td>0.0</td>\n",
       "      <td>28</td>\n",
       "      <td>Low</td>\n",
       "    </tr>\n",
       "    <tr>\n",
       "      <th>1</th>\n",
       "      <td>0.55</td>\n",
       "      <td>192.5</td>\n",
       "      <td>CEM II/A-D</td>\n",
       "      <td>329.0</td>\n",
       "      <td>0.0</td>\n",
       "      <td>0.0</td>\n",
       "      <td>21.0</td>\n",
       "      <td>694.766</td>\n",
       "      <td>1059.600</td>\n",
       "      <td>1754.366</td>\n",
       "      <td>0.0</td>\n",
       "      <td>28</td>\n",
       "      <td>Moderate</td>\n",
       "    </tr>\n",
       "  </tbody>\n",
       "</table>\n",
       "</div>"
      ],
      "text/plain": [
       "    w/b  Water Cement type  Cement  Slag  Fly ash  Silica fume  \\\n",
       "0  0.55  192.5       CEM I   350.0   0.0      0.0          0.0   \n",
       "1  0.55  192.5  CEM II/A-D   329.0   0.0      0.0         21.0   \n",
       "\n",
       "   Fine aggregate  Coarse aggregate  Total aggregate  Superplasticizer  \\\n",
       "0         699.988          1062.249         1762.237               0.0   \n",
       "1         694.766          1059.600         1754.366               0.0   \n",
       "\n",
       "   Migration test age Migration resistance  \n",
       "0                  28                  Low  \n",
       "1                  28             Moderate  "
      ]
     },
     "execution_count": 14,
     "metadata": {},
     "output_type": "execute_result"
    }
   ],
   "source": [
    "# Remove unnecessary  features \n",
    "df2= df0.drop(columns=['Lime filler','Plasticizer','Air entraining'])\n",
    "df2.head(2)"
   ]
  },
  {
   "cell_type": "code",
   "execution_count": 15,
   "metadata": {},
   "outputs": [
    {
     "data": {
      "text/html": [
       "<div>\n",
       "<style scoped>\n",
       "    .dataframe tbody tr th:only-of-type {\n",
       "        vertical-align: middle;\n",
       "    }\n",
       "\n",
       "    .dataframe tbody tr th {\n",
       "        vertical-align: top;\n",
       "    }\n",
       "\n",
       "    .dataframe thead th {\n",
       "        text-align: right;\n",
       "    }\n",
       "</style>\n",
       "<table border=\"1\" class=\"dataframe\">\n",
       "  <thead>\n",
       "    <tr style=\"text-align: right;\">\n",
       "      <th></th>\n",
       "      <th>w/b</th>\n",
       "      <th>Water</th>\n",
       "      <th>Cement</th>\n",
       "      <th>Slag</th>\n",
       "      <th>Fly ash</th>\n",
       "      <th>Silica fume</th>\n",
       "      <th>Fine aggregate</th>\n",
       "      <th>Coarse aggregate</th>\n",
       "      <th>Total aggregate</th>\n",
       "      <th>Superplasticizer</th>\n",
       "      <th>Migration test age</th>\n",
       "    </tr>\n",
       "  </thead>\n",
       "  <tbody>\n",
       "    <tr>\n",
       "      <th>count</th>\n",
       "      <td>204.000000</td>\n",
       "      <td>204.000000</td>\n",
       "      <td>204.000000</td>\n",
       "      <td>204.000000</td>\n",
       "      <td>204.000000</td>\n",
       "      <td>204.000000</td>\n",
       "      <td>204.000000</td>\n",
       "      <td>204.000000</td>\n",
       "      <td>204.000000</td>\n",
       "      <td>204.000000</td>\n",
       "      <td>204.000000</td>\n",
       "    </tr>\n",
       "    <tr>\n",
       "      <th>mean</th>\n",
       "      <td>0.424000</td>\n",
       "      <td>175.991176</td>\n",
       "      <td>361.850000</td>\n",
       "      <td>18.438725</td>\n",
       "      <td>44.122059</td>\n",
       "      <td>8.361765</td>\n",
       "      <td>798.830755</td>\n",
       "      <td>797.205485</td>\n",
       "      <td>1596.036240</td>\n",
       "      <td>0.414598</td>\n",
       "      <td>65.568627</td>\n",
       "    </tr>\n",
       "    <tr>\n",
       "      <th>std</th>\n",
       "      <td>0.079792</td>\n",
       "      <td>22.640191</td>\n",
       "      <td>96.903092</td>\n",
       "      <td>57.348913</td>\n",
       "      <td>133.697922</td>\n",
       "      <td>35.459964</td>\n",
       "      <td>223.797309</td>\n",
       "      <td>306.175360</td>\n",
       "      <td>291.545939</td>\n",
       "      <td>0.541004</td>\n",
       "      <td>83.702147</td>\n",
       "    </tr>\n",
       "    <tr>\n",
       "      <th>min</th>\n",
       "      <td>0.300000</td>\n",
       "      <td>122.500000</td>\n",
       "      <td>52.000000</td>\n",
       "      <td>0.000000</td>\n",
       "      <td>0.000000</td>\n",
       "      <td>0.000000</td>\n",
       "      <td>235.000000</td>\n",
       "      <td>0.000000</td>\n",
       "      <td>630.000000</td>\n",
       "      <td>0.000000</td>\n",
       "      <td>3.000000</td>\n",
       "    </tr>\n",
       "    <tr>\n",
       "      <th>25%</th>\n",
       "      <td>0.360000</td>\n",
       "      <td>158.000000</td>\n",
       "      <td>297.875000</td>\n",
       "      <td>0.000000</td>\n",
       "      <td>0.000000</td>\n",
       "      <td>0.000000</td>\n",
       "      <td>685.258250</td>\n",
       "      <td>451.500000</td>\n",
       "      <td>1415.820000</td>\n",
       "      <td>0.000000</td>\n",
       "      <td>28.000000</td>\n",
       "    </tr>\n",
       "    <tr>\n",
       "      <th>50%</th>\n",
       "      <td>0.400000</td>\n",
       "      <td>175.000000</td>\n",
       "      <td>350.000000</td>\n",
       "      <td>0.000000</td>\n",
       "      <td>0.000000</td>\n",
       "      <td>0.000000</td>\n",
       "      <td>765.000000</td>\n",
       "      <td>915.530000</td>\n",
       "      <td>1720.000000</td>\n",
       "      <td>0.200000</td>\n",
       "      <td>28.000000</td>\n",
       "    </tr>\n",
       "    <tr>\n",
       "      <th>75%</th>\n",
       "      <td>0.450000</td>\n",
       "      <td>191.000000</td>\n",
       "      <td>444.375000</td>\n",
       "      <td>0.000000</td>\n",
       "      <td>0.000000</td>\n",
       "      <td>0.000000</td>\n",
       "      <td>956.750000</td>\n",
       "      <td>1059.950000</td>\n",
       "      <td>1801.000000</td>\n",
       "      <td>0.700000</td>\n",
       "      <td>90.000000</td>\n",
       "    </tr>\n",
       "    <tr>\n",
       "      <th>max</th>\n",
       "      <td>0.651786</td>\n",
       "      <td>222.000000</td>\n",
       "      <td>525.000000</td>\n",
       "      <td>312.300000</td>\n",
       "      <td>735.000000</td>\n",
       "      <td>468.500000</td>\n",
       "      <td>1574.100000</td>\n",
       "      <td>1240.000000</td>\n",
       "      <td>1950.000000</td>\n",
       "      <td>4.166667</td>\n",
       "      <td>365.000000</td>\n",
       "    </tr>\n",
       "  </tbody>\n",
       "</table>\n",
       "</div>"
      ],
      "text/plain": [
       "              w/b       Water      Cement        Slag     Fly ash  \\\n",
       "count  204.000000  204.000000  204.000000  204.000000  204.000000   \n",
       "mean     0.424000  175.991176  361.850000   18.438725   44.122059   \n",
       "std      0.079792   22.640191   96.903092   57.348913  133.697922   \n",
       "min      0.300000  122.500000   52.000000    0.000000    0.000000   \n",
       "25%      0.360000  158.000000  297.875000    0.000000    0.000000   \n",
       "50%      0.400000  175.000000  350.000000    0.000000    0.000000   \n",
       "75%      0.450000  191.000000  444.375000    0.000000    0.000000   \n",
       "max      0.651786  222.000000  525.000000  312.300000  735.000000   \n",
       "\n",
       "       Silica fume  Fine aggregate  Coarse aggregate  Total aggregate  \\\n",
       "count   204.000000      204.000000        204.000000       204.000000   \n",
       "mean      8.361765      798.830755        797.205485      1596.036240   \n",
       "std      35.459964      223.797309        306.175360       291.545939   \n",
       "min       0.000000      235.000000          0.000000       630.000000   \n",
       "25%       0.000000      685.258250        451.500000      1415.820000   \n",
       "50%       0.000000      765.000000        915.530000      1720.000000   \n",
       "75%       0.000000      956.750000       1059.950000      1801.000000   \n",
       "max     468.500000     1574.100000       1240.000000      1950.000000   \n",
       "\n",
       "       Superplasticizer  Migration test age  \n",
       "count        204.000000          204.000000  \n",
       "mean           0.414598           65.568627  \n",
       "std            0.541004           83.702147  \n",
       "min            0.000000            3.000000  \n",
       "25%            0.000000           28.000000  \n",
       "50%            0.200000           28.000000  \n",
       "75%            0.700000           90.000000  \n",
       "max            4.166667          365.000000  "
      ]
     },
     "execution_count": 15,
     "metadata": {},
     "output_type": "execute_result"
    }
   ],
   "source": [
    "df2.describe()"
   ]
  },
  {
   "cell_type": "code",
   "execution_count": 16,
   "metadata": {},
   "outputs": [
    {
     "data": {
      "text/plain": [
       "High              97\n",
       "Low               33\n",
       "Very high         32\n",
       "Moderate          26\n",
       "Extremely high    16\n",
       "Name: Migration resistance, dtype: int64"
      ]
     },
     "execution_count": 16,
     "metadata": {},
     "output_type": "execute_result"
    }
   ],
   "source": [
    "# count the target class labels before outliers removed \n",
    "\n",
    "df2['Migration resistance'].value_counts()"
   ]
  },
  {
   "cell_type": "code",
   "execution_count": 17,
   "metadata": {},
   "outputs": [
    {
     "data": {
      "text/plain": [
       "Text(0, 0.5, 'Counts')"
      ]
     },
     "execution_count": 17,
     "metadata": {},
     "output_type": "execute_result"
    },
    {
     "data": {
      "image/png": "[encoded data removed]",
      "text/plain": [
       "<Figure size 432x288 with 1 Axes>"
      ]
     },
     "metadata": {
      "needs_background": "light"
     },
     "output_type": "display_data"
    }
   ],
   "source": [
    "# Visualize the distribution of the lables\n",
    "color = ['blue','orange', 'green', 'black','red']\n",
    "df2['Migration resistance'].value_counts().plot(kind='bar', color = color);\n",
    "plt.xticks(rotation=30, horizontalalignment=\"center\")\n",
    "plt.title('Distribution of lables before outliers removed')\n",
    "plt.xlabel(\"Resistance level\")\n",
    "plt.ylabel(\"Counts\")"
   ]
  },
  {
   "cell_type": "markdown",
   "metadata": {},
   "source": [
    "## Encoding Categorical Data "
   ]
  },
  {
   "cell_type": "code",
   "execution_count": 18,
   "metadata": {},
   "outputs": [
    {
     "data": {
      "text/plain": [
       "w/b                     float64\n",
       "Water                   float64\n",
       "Cement type              object\n",
       "Cement                  float64\n",
       "Slag                    float64\n",
       "Fly ash                 float64\n",
       "Silica fume             float64\n",
       "Fine aggregate          float64\n",
       "Coarse aggregate        float64\n",
       "Total aggregate         float64\n",
       "Superplasticizer        float64\n",
       "Migration test age        int64\n",
       "Migration resistance     object\n",
       "dtype: object"
      ]
     },
     "execution_count": 18,
     "metadata": {},
     "output_type": "execute_result"
    }
   ],
   "source": [
    "# Examine  the data types of all features considered in the dataframe\n",
    "df2.dtypes"
   ]
  },
  {
   "cell_type": "markdown",
   "metadata": {},
   "source": [
    "It can be noticed that the data types of cement type and Migration resistance read as object. This is because the data of these features are non-numerical. The data type of this feature shall be transformed from non-numerical labels to numerical labels using label encoder."
   ]
  },
  {
   "cell_type": "markdown",
   "metadata": {},
   "source": [
    "Now let's convert a \"Cement type\" and \"Migration resistance\" column to a category as it is a prerequisite for encoding."
   ]
  },
  {
   "cell_type": "code",
   "execution_count": 19,
   "metadata": {},
   "outputs": [
    {
     "data": {
      "text/plain": [
       "w/b                      float64\n",
       "Water                    float64\n",
       "Cement type             category\n",
       "Cement                   float64\n",
       "Slag                     float64\n",
       "Fly ash                  float64\n",
       "Silica fume              float64\n",
       "Fine aggregate           float64\n",
       "Coarse aggregate         float64\n",
       "Total aggregate          float64\n",
       "Superplasticizer         float64\n",
       "Migration test age         int64\n",
       "Migration resistance    category\n",
       "dtype: object"
      ]
     },
     "execution_count": 19,
     "metadata": {},
     "output_type": "execute_result"
    }
   ],
   "source": [
    "df2 = df2.astype({\"Cement type\": \"category\", \"Migration resistance\": \"category\"})\n",
    "# Sanity check\n",
    "df2.dtypes"
   ]
  },
  {
   "cell_type": "markdown",
   "metadata": {},
   "source": [
    "Let's take a look at the labels for the cement type. "
   ]
  },
  {
   "cell_type": "code",
   "execution_count": 20,
   "metadata": {},
   "outputs": [
    {
     "data": {
      "text/plain": [
       "[CEM I, CEM II/A-D, CEM II/A-V, CEM II/B-V, CEM III/A, CEM II/B-S, CEM IV/A]\n",
       "Categories (7, object): [CEM I, CEM II/A-D, CEM II/A-V, CEM II/B-V, CEM III/A, CEM II/B-S, CEM IV/A]"
      ]
     },
     "execution_count": 20,
     "metadata": {},
     "output_type": "execute_result"
    }
   ],
   "source": [
    "df2['Cement type'].unique()"
   ]
  },
  {
   "cell_type": "markdown",
   "metadata": {},
   "source": [
    "There are only seven different types of cement, which can be divided into four categories (CEM I, CEM II, CEM III, and CEM IV). Although they are divided into four major groups, there are no orders or scales for group numbering. As a result, the cement type categorical data is considered nominal rather than ordinal. When converting categorical data (with nominal data type) to numeric data, one-hot encoding is the best option. It assigns binary numbers to each category (0 or 1). "
   ]
  },
  {
   "cell_type": "markdown",
   "metadata": {},
   "source": [
    "Let us now investigate the class labels of the feature Migration resistance. "
   ]
  },
  {
   "cell_type": "code",
   "execution_count": 21,
   "metadata": {},
   "outputs": [
    {
     "data": {
      "text/plain": [
       "[Low, Moderate, High, Very high, Extremely high]\n",
       "Categories (5, object): [Low, Moderate, High, Very high, Extremely high]"
      ]
     },
     "execution_count": 21,
     "metadata": {},
     "output_type": "execute_result"
    }
   ],
   "source": [
    "df2['Migration resistance'].unique()"
   ]
  },
  {
   "cell_type": "markdown",
   "metadata": {},
   "source": [
    "Though label encoding techniques that encode labels with values ranging from 0 to no of class -1 are the best option for converting the labels of the feature \"Migration resistance,\" they could be manually encoded to avoid random labeling."
   ]
  },
  {
   "cell_type": "markdown",
   "metadata": {},
   "source": [
    "### One-Hot Encoding for \"Cement type\""
   ]
  },
  {
   "cell_type": "code",
   "execution_count": 22,
   "metadata": {},
   "outputs": [
    {
     "data": {
      "text/html": [
       "<div>\n",
       "<style scoped>\n",
       "    .dataframe tbody tr th:only-of-type {\n",
       "        vertical-align: middle;\n",
       "    }\n",
       "\n",
       "    .dataframe tbody tr th {\n",
       "        vertical-align: top;\n",
       "    }\n",
       "\n",
       "    .dataframe thead th {\n",
       "        text-align: right;\n",
       "    }\n",
       "</style>\n",
       "<table border=\"1\" class=\"dataframe\">\n",
       "  <thead>\n",
       "    <tr style=\"text-align: right;\">\n",
       "      <th></th>\n",
       "      <th>w/b</th>\n",
       "      <th>Water</th>\n",
       "      <th>Cement</th>\n",
       "      <th>Slag</th>\n",
       "      <th>Fly ash</th>\n",
       "      <th>Silica fume</th>\n",
       "      <th>Fine aggregate</th>\n",
       "      <th>Coarse aggregate</th>\n",
       "      <th>Total aggregate</th>\n",
       "      <th>Superplasticizer</th>\n",
       "      <th>Migration test age</th>\n",
       "      <th>Migration resistance</th>\n",
       "      <th>Cement type_CEM I</th>\n",
       "      <th>Cement type_CEM II/A-D</th>\n",
       "      <th>Cement type_CEM II/A-V</th>\n",
       "      <th>Cement type_CEM II/B-S</th>\n",
       "      <th>Cement type_CEM II/B-V</th>\n",
       "      <th>Cement type_CEM III/A</th>\n",
       "      <th>Cement type_CEM IV/A</th>\n",
       "    </tr>\n",
       "  </thead>\n",
       "  <tbody>\n",
       "    <tr>\n",
       "      <th>0</th>\n",
       "      <td>0.55</td>\n",
       "      <td>192.5</td>\n",
       "      <td>350.0</td>\n",
       "      <td>0.0</td>\n",
       "      <td>0.0</td>\n",
       "      <td>0.0</td>\n",
       "      <td>699.988</td>\n",
       "      <td>1062.249</td>\n",
       "      <td>1762.237</td>\n",
       "      <td>0.0</td>\n",
       "      <td>28</td>\n",
       "      <td>Low</td>\n",
       "      <td>1</td>\n",
       "      <td>0</td>\n",
       "      <td>0</td>\n",
       "      <td>0</td>\n",
       "      <td>0</td>\n",
       "      <td>0</td>\n",
       "      <td>0</td>\n",
       "    </tr>\n",
       "    <tr>\n",
       "      <th>1</th>\n",
       "      <td>0.55</td>\n",
       "      <td>192.5</td>\n",
       "      <td>329.0</td>\n",
       "      <td>0.0</td>\n",
       "      <td>0.0</td>\n",
       "      <td>21.0</td>\n",
       "      <td>694.766</td>\n",
       "      <td>1059.600</td>\n",
       "      <td>1754.366</td>\n",
       "      <td>0.0</td>\n",
       "      <td>28</td>\n",
       "      <td>Moderate</td>\n",
       "      <td>0</td>\n",
       "      <td>1</td>\n",
       "      <td>0</td>\n",
       "      <td>0</td>\n",
       "      <td>0</td>\n",
       "      <td>0</td>\n",
       "      <td>0</td>\n",
       "    </tr>\n",
       "  </tbody>\n",
       "</table>\n",
       "</div>"
      ],
      "text/plain": [
       "    w/b  Water  Cement  Slag  Fly ash  Silica fume  Fine aggregate  \\\n",
       "0  0.55  192.5   350.0   0.0      0.0          0.0         699.988   \n",
       "1  0.55  192.5   329.0   0.0      0.0         21.0         694.766   \n",
       "\n",
       "   Coarse aggregate  Total aggregate  Superplasticizer  Migration test age  \\\n",
       "0          1062.249         1762.237               0.0                  28   \n",
       "1          1059.600         1754.366               0.0                  28   \n",
       "\n",
       "  Migration resistance  Cement type_CEM I  Cement type_CEM II/A-D  \\\n",
       "0                  Low                  1                       0   \n",
       "1             Moderate                  0                       1   \n",
       "\n",
       "   Cement type_CEM II/A-V  Cement type_CEM II/B-S  Cement type_CEM II/B-V  \\\n",
       "0                       0                       0                       0   \n",
       "1                       0                       0                       0   \n",
       "\n",
       "   Cement type_CEM III/A  Cement type_CEM IV/A  \n",
       "0                      0                     0  \n",
       "1                      0                     0  "
      ]
     },
     "execution_count": 22,
     "metadata": {},
     "output_type": "execute_result"
    }
   ],
   "source": [
    "# Convert the values in the Cem_type_cat column into one-hot encoded vectors\n",
    "\n",
    "df2=pd.get_dummies(df2, columns=[\"Cement type\"])\n",
    "df2.head(2)\n"
   ]
  },
  {
   "cell_type": "code",
   "execution_count": 23,
   "metadata": {},
   "outputs": [
    {
     "data": {
      "text/html": [
       "<div>\n",
       "<style scoped>\n",
       "    .dataframe tbody tr th:only-of-type {\n",
       "        vertical-align: middle;\n",
       "    }\n",
       "\n",
       "    .dataframe tbody tr th {\n",
       "        vertical-align: top;\n",
       "    }\n",
       "\n",
       "    .dataframe thead th {\n",
       "        text-align: right;\n",
       "    }\n",
       "</style>\n",
       "<table border=\"1\" class=\"dataframe\">\n",
       "  <thead>\n",
       "    <tr style=\"text-align: right;\">\n",
       "      <th></th>\n",
       "      <th>w/b</th>\n",
       "      <th>Water</th>\n",
       "      <th>Cement</th>\n",
       "      <th>Slag</th>\n",
       "      <th>Fly ash</th>\n",
       "      <th>Silica fume</th>\n",
       "      <th>Fine aggregate</th>\n",
       "      <th>Coarse aggregate</th>\n",
       "      <th>Total aggregate</th>\n",
       "      <th>Superplasticizer</th>\n",
       "      <th>Migration test age</th>\n",
       "      <th>Cement type_CEM I</th>\n",
       "      <th>Cement type_CEM II/A-D</th>\n",
       "      <th>Cement type_CEM II/A-V</th>\n",
       "      <th>Cement type_CEM II/B-S</th>\n",
       "      <th>Cement type_CEM II/B-V</th>\n",
       "      <th>Cement type_CEM III/A</th>\n",
       "      <th>Cement type_CEM IV/A</th>\n",
       "      <th>Migration resistance</th>\n",
       "    </tr>\n",
       "  </thead>\n",
       "  <tbody>\n",
       "    <tr>\n",
       "      <th>0</th>\n",
       "      <td>0.55</td>\n",
       "      <td>192.5</td>\n",
       "      <td>350.0</td>\n",
       "      <td>0.0</td>\n",
       "      <td>0.0</td>\n",
       "      <td>0.0</td>\n",
       "      <td>699.988</td>\n",
       "      <td>1062.249</td>\n",
       "      <td>1762.237</td>\n",
       "      <td>0.0</td>\n",
       "      <td>28</td>\n",
       "      <td>1</td>\n",
       "      <td>0</td>\n",
       "      <td>0</td>\n",
       "      <td>0</td>\n",
       "      <td>0</td>\n",
       "      <td>0</td>\n",
       "      <td>0</td>\n",
       "      <td>Low</td>\n",
       "    </tr>\n",
       "    <tr>\n",
       "      <th>1</th>\n",
       "      <td>0.55</td>\n",
       "      <td>192.5</td>\n",
       "      <td>329.0</td>\n",
       "      <td>0.0</td>\n",
       "      <td>0.0</td>\n",
       "      <td>21.0</td>\n",
       "      <td>694.766</td>\n",
       "      <td>1059.600</td>\n",
       "      <td>1754.366</td>\n",
       "      <td>0.0</td>\n",
       "      <td>28</td>\n",
       "      <td>0</td>\n",
       "      <td>1</td>\n",
       "      <td>0</td>\n",
       "      <td>0</td>\n",
       "      <td>0</td>\n",
       "      <td>0</td>\n",
       "      <td>0</td>\n",
       "      <td>Moderate</td>\n",
       "    </tr>\n",
       "    <tr>\n",
       "      <th>2</th>\n",
       "      <td>0.55</td>\n",
       "      <td>192.5</td>\n",
       "      <td>297.5</td>\n",
       "      <td>0.0</td>\n",
       "      <td>52.5</td>\n",
       "      <td>0.0</td>\n",
       "      <td>692.233</td>\n",
       "      <td>1056.951</td>\n",
       "      <td>1749.184</td>\n",
       "      <td>0.0</td>\n",
       "      <td>28</td>\n",
       "      <td>0</td>\n",
       "      <td>0</td>\n",
       "      <td>1</td>\n",
       "      <td>0</td>\n",
       "      <td>0</td>\n",
       "      <td>0</td>\n",
       "      <td>0</td>\n",
       "      <td>Low</td>\n",
       "    </tr>\n",
       "  </tbody>\n",
       "</table>\n",
       "</div>"
      ],
      "text/plain": [
       "    w/b  Water  Cement  Slag  Fly ash  Silica fume  Fine aggregate  \\\n",
       "0  0.55  192.5   350.0   0.0      0.0          0.0         699.988   \n",
       "1  0.55  192.5   329.0   0.0      0.0         21.0         694.766   \n",
       "2  0.55  192.5   297.5   0.0     52.5          0.0         692.233   \n",
       "\n",
       "   Coarse aggregate  Total aggregate  Superplasticizer  Migration test age  \\\n",
       "0          1062.249         1762.237               0.0                  28   \n",
       "1          1059.600         1754.366               0.0                  28   \n",
       "2          1056.951         1749.184               0.0                  28   \n",
       "\n",
       "   Cement type_CEM I  Cement type_CEM II/A-D  Cement type_CEM II/A-V  \\\n",
       "0                  1                       0                       0   \n",
       "1                  0                       1                       0   \n",
       "2                  0                       0                       1   \n",
       "\n",
       "   Cement type_CEM II/B-S  Cement type_CEM II/B-V  Cement type_CEM III/A  \\\n",
       "0                       0                       0                      0   \n",
       "1                       0                       0                      0   \n",
       "2                       0                       0                      0   \n",
       "\n",
       "   Cement type_CEM IV/A Migration resistance  \n",
       "0                     0                  Low  \n",
       "1                     0             Moderate  \n",
       "2                     0                  Low  "
      ]
     },
     "execution_count": 23,
     "metadata": {},
     "output_type": "execute_result"
    }
   ],
   "source": [
    "#Shift column 'Migration resistance' to end position\n",
    "end_column = df2.pop('Migration resistance')\n",
    "\n",
    "# Determine the postion\n",
    "position_all_ing = len(df2.columns)\n",
    " \n",
    "# Insert column using insert(position,column_name,end_column) function\n",
    "\n",
    "df2.insert(position_all_ing, 'Migration resistance', end_column)\n",
    "df2.head(3)\n"
   ]
  },
  {
   "cell_type": "markdown",
   "metadata": {},
   "source": [
    "### Label encoding for \"Migration resistance\""
   ]
  },
  {
   "cell_type": "markdown",
   "metadata": {},
   "source": [
    "The labels Low, Moderate, High, Very High, and Extremely High are encoded as 0, 1, 2, 3, and 4, respectively. It makes sense if the algorithm interprets the resistance level as as 0 < 1 < 2 < 3 < 4, that is, Low < Moderate < High < Very high < Extremely high."
   ]
  },
  {
   "cell_type": "code",
   "execution_count": 24,
   "metadata": {},
   "outputs": [],
   "source": [
    "# replacing values\n",
    "df2['Migration resistance'].replace(['Low', 'Moderate','High','Very high','Extremely high'],\n",
    "                  [0,1,2,3,4], inplace=True)"
   ]
  },
  {
   "cell_type": "code",
   "execution_count": 25,
   "metadata": {},
   "outputs": [
    {
     "data": {
      "text/html": [
       "<div>\n",
       "<style scoped>\n",
       "    .dataframe tbody tr th:only-of-type {\n",
       "        vertical-align: middle;\n",
       "    }\n",
       "\n",
       "    .dataframe tbody tr th {\n",
       "        vertical-align: top;\n",
       "    }\n",
       "\n",
       "    .dataframe thead th {\n",
       "        text-align: right;\n",
       "    }\n",
       "</style>\n",
       "<table border=\"1\" class=\"dataframe\">\n",
       "  <thead>\n",
       "    <tr style=\"text-align: right;\">\n",
       "      <th></th>\n",
       "      <th>w/b</th>\n",
       "      <th>Water</th>\n",
       "      <th>Cement</th>\n",
       "      <th>Slag</th>\n",
       "      <th>Fly ash</th>\n",
       "      <th>Silica fume</th>\n",
       "      <th>Fine aggregate</th>\n",
       "      <th>Coarse aggregate</th>\n",
       "      <th>Total aggregate</th>\n",
       "      <th>Superplasticizer</th>\n",
       "      <th>Migration test age</th>\n",
       "      <th>Cement type_CEM I</th>\n",
       "      <th>Cement type_CEM II/A-D</th>\n",
       "      <th>Cement type_CEM II/A-V</th>\n",
       "      <th>Cement type_CEM II/B-S</th>\n",
       "      <th>Cement type_CEM II/B-V</th>\n",
       "      <th>Cement type_CEM III/A</th>\n",
       "      <th>Cement type_CEM IV/A</th>\n",
       "      <th>Migration resistance</th>\n",
       "    </tr>\n",
       "  </thead>\n",
       "  <tbody>\n",
       "    <tr>\n",
       "      <th>0</th>\n",
       "      <td>0.55</td>\n",
       "      <td>192.5</td>\n",
       "      <td>350.0</td>\n",
       "      <td>0.0</td>\n",
       "      <td>0.0</td>\n",
       "      <td>0.0</td>\n",
       "      <td>699.988</td>\n",
       "      <td>1062.249</td>\n",
       "      <td>1762.237</td>\n",
       "      <td>0.0</td>\n",
       "      <td>28</td>\n",
       "      <td>1</td>\n",
       "      <td>0</td>\n",
       "      <td>0</td>\n",
       "      <td>0</td>\n",
       "      <td>0</td>\n",
       "      <td>0</td>\n",
       "      <td>0</td>\n",
       "      <td>0</td>\n",
       "    </tr>\n",
       "    <tr>\n",
       "      <th>1</th>\n",
       "      <td>0.55</td>\n",
       "      <td>192.5</td>\n",
       "      <td>329.0</td>\n",
       "      <td>0.0</td>\n",
       "      <td>0.0</td>\n",
       "      <td>21.0</td>\n",
       "      <td>694.766</td>\n",
       "      <td>1059.600</td>\n",
       "      <td>1754.366</td>\n",
       "      <td>0.0</td>\n",
       "      <td>28</td>\n",
       "      <td>0</td>\n",
       "      <td>1</td>\n",
       "      <td>0</td>\n",
       "      <td>0</td>\n",
       "      <td>0</td>\n",
       "      <td>0</td>\n",
       "      <td>0</td>\n",
       "      <td>1</td>\n",
       "    </tr>\n",
       "  </tbody>\n",
       "</table>\n",
       "</div>"
      ],
      "text/plain": [
       "    w/b  Water  Cement  Slag  Fly ash  Silica fume  Fine aggregate  \\\n",
       "0  0.55  192.5   350.0   0.0      0.0          0.0         699.988   \n",
       "1  0.55  192.5   329.0   0.0      0.0         21.0         694.766   \n",
       "\n",
       "   Coarse aggregate  Total aggregate  Superplasticizer  Migration test age  \\\n",
       "0          1062.249         1762.237               0.0                  28   \n",
       "1          1059.600         1754.366               0.0                  28   \n",
       "\n",
       "   Cement type_CEM I  Cement type_CEM II/A-D  Cement type_CEM II/A-V  \\\n",
       "0                  1                       0                       0   \n",
       "1                  0                       1                       0   \n",
       "\n",
       "   Cement type_CEM II/B-S  Cement type_CEM II/B-V  Cement type_CEM III/A  \\\n",
       "0                       0                       0                      0   \n",
       "1                       0                       0                      0   \n",
       "\n",
       "   Cement type_CEM IV/A  Migration resistance  \n",
       "0                     0                     0  \n",
       "1                     0                     1  "
      ]
     },
     "execution_count": 25,
     "metadata": {},
     "output_type": "execute_result"
    }
   ],
   "source": [
    "df2.head(2)"
   ]
  },
  {
   "cell_type": "markdown",
   "metadata": {},
   "source": [
    "The value of the features Cement type and Migration resistance are now numerical rather than non-numerical. Indeed, because they are categorical features, the transformed data must also be converted to category data types.\n"
   ]
  },
  {
   "cell_type": "code",
   "execution_count": 26,
   "metadata": {},
   "outputs": [
    {
     "data": {
      "text/plain": [
       "w/b                        float64\n",
       "Water                      float64\n",
       "Cement                     float64\n",
       "Slag                       float64\n",
       "Fly ash                    float64\n",
       "Silica fume                float64\n",
       "Fine aggregate             float64\n",
       "Coarse aggregate           float64\n",
       "Total aggregate            float64\n",
       "Superplasticizer           float64\n",
       "Migration test age           int64\n",
       "Cement type_CEM I         category\n",
       "Cement type_CEM II/A-D    category\n",
       "Cement type_CEM II/A-V    category\n",
       "Cement type_CEM II/B-S    category\n",
       "Cement type_CEM II/B-V    category\n",
       "Cement type_CEM III/A     category\n",
       "Cement type_CEM IV/A      category\n",
       "Migration resistance      category\n",
       "dtype: object"
      ]
     },
     "execution_count": 26,
     "metadata": {},
     "output_type": "execute_result"
    }
   ],
   "source": [
    "df2 = df2.astype({\"Cement type_CEM I\": \"category\", \"Cement type_CEM II/A-D\": \"category\", \n",
    "                  \"Cement type_CEM II/A-V\": \"category\",\"Cement type_CEM II/B-S\": \"category\",\n",
    "                 \"Cement type_CEM II/B-V\": \"category\",\"Cement type_CEM III/A\": \"category\",\n",
    "                  \"Cement type_CEM IV/A\": \"category\",\"Migration resistance\": \"category\",\n",
    "                 })\n",
    "# Sanity check\n",
    "df2.dtypes"
   ]
  },
  {
   "cell_type": "markdown",
   "metadata": {},
   "source": [
    "## Outlier detection"
   ]
  },
  {
   "cell_type": "markdown",
   "metadata": {},
   "source": [
    "To isolate anomalies from the data, we'll use isolation forests, one of the most effective outlier detection algorithms. It creates partitions of the dataset by constructing an ensemble of Isolation Trees, with each data point isolated. "
   ]
  },
  {
   "cell_type": "code",
   "execution_count": 27,
   "metadata": {},
   "outputs": [
    {
     "name": "stdout",
     "output_type": "stream",
     "text": [
      "Before outliers removed: (204, 18) (204,)\n",
      "After outliers removed: (183, 18) (183,)\n"
     ]
    }
   ],
   "source": [
    "# split into input and output elements\n",
    "X_1, y_1 =df2.iloc[:, :-1], df2.iloc[:,-1]\n",
    "\n",
    "# identify outliers in the training dataset\n",
    "iso = IsolationForest(n_estimators=100, max_samples='auto', contamination=0.1, \\\n",
    "                        max_features=1.0, bootstrap=False, n_jobs=-1, random_state=42, verbose=0)\n",
    "y_pred = iso.fit_predict(X_1)\n",
    "\n",
    "# select all rows that are not outliers\n",
    "mask = y_pred != -1\n",
    "\n",
    "X, y = X_1.iloc[mask, :], y_1.iloc[mask]\n",
    "\n",
    "print('Before outliers removed:', X_1.shape, y_1.shape)\n",
    "\n",
    "print('After outliers removed:', X.shape, y.shape)"
   ]
  },
  {
   "cell_type": "code",
   "execution_count": 28,
   "metadata": {},
   "outputs": [
    {
     "data": {
      "text/html": [
       "<div>\n",
       "<style scoped>\n",
       "    .dataframe tbody tr th:only-of-type {\n",
       "        vertical-align: middle;\n",
       "    }\n",
       "\n",
       "    .dataframe tbody tr th {\n",
       "        vertical-align: top;\n",
       "    }\n",
       "\n",
       "    .dataframe thead th {\n",
       "        text-align: right;\n",
       "    }\n",
       "</style>\n",
       "<table border=\"1\" class=\"dataframe\">\n",
       "  <thead>\n",
       "    <tr style=\"text-align: right;\">\n",
       "      <th></th>\n",
       "      <th>w/b</th>\n",
       "      <th>Water</th>\n",
       "      <th>Cement</th>\n",
       "      <th>Slag</th>\n",
       "      <th>Fly ash</th>\n",
       "      <th>Silica fume</th>\n",
       "      <th>Fine aggregate</th>\n",
       "      <th>Coarse aggregate</th>\n",
       "      <th>Total aggregate</th>\n",
       "      <th>Superplasticizer</th>\n",
       "      <th>Migration test age</th>\n",
       "      <th>Cement type_CEM I</th>\n",
       "      <th>Cement type_CEM II/A-D</th>\n",
       "      <th>Cement type_CEM II/A-V</th>\n",
       "      <th>Cement type_CEM II/B-S</th>\n",
       "      <th>Cement type_CEM II/B-V</th>\n",
       "      <th>Cement type_CEM III/A</th>\n",
       "      <th>Cement type_CEM IV/A</th>\n",
       "      <th>Migration resistance</th>\n",
       "    </tr>\n",
       "  </thead>\n",
       "  <tbody>\n",
       "    <tr>\n",
       "      <th>0</th>\n",
       "      <td>0.55</td>\n",
       "      <td>192.5</td>\n",
       "      <td>350.0</td>\n",
       "      <td>0.0</td>\n",
       "      <td>0.0</td>\n",
       "      <td>0.0</td>\n",
       "      <td>699.988</td>\n",
       "      <td>1062.249</td>\n",
       "      <td>1762.237</td>\n",
       "      <td>0.0</td>\n",
       "      <td>28</td>\n",
       "      <td>1</td>\n",
       "      <td>0</td>\n",
       "      <td>0</td>\n",
       "      <td>0</td>\n",
       "      <td>0</td>\n",
       "      <td>0</td>\n",
       "      <td>0</td>\n",
       "      <td>0</td>\n",
       "    </tr>\n",
       "    <tr>\n",
       "      <th>1</th>\n",
       "      <td>0.55</td>\n",
       "      <td>192.5</td>\n",
       "      <td>329.0</td>\n",
       "      <td>0.0</td>\n",
       "      <td>0.0</td>\n",
       "      <td>21.0</td>\n",
       "      <td>694.766</td>\n",
       "      <td>1059.600</td>\n",
       "      <td>1754.366</td>\n",
       "      <td>0.0</td>\n",
       "      <td>28</td>\n",
       "      <td>0</td>\n",
       "      <td>1</td>\n",
       "      <td>0</td>\n",
       "      <td>0</td>\n",
       "      <td>0</td>\n",
       "      <td>0</td>\n",
       "      <td>0</td>\n",
       "      <td>1</td>\n",
       "    </tr>\n",
       "  </tbody>\n",
       "</table>\n",
       "</div>"
      ],
      "text/plain": [
       "    w/b  Water  Cement  Slag  Fly ash  Silica fume  Fine aggregate  \\\n",
       "0  0.55  192.5   350.0   0.0      0.0          0.0         699.988   \n",
       "1  0.55  192.5   329.0   0.0      0.0         21.0         694.766   \n",
       "\n",
       "   Coarse aggregate  Total aggregate  Superplasticizer  Migration test age  \\\n",
       "0          1062.249         1762.237               0.0                  28   \n",
       "1          1059.600         1754.366               0.0                  28   \n",
       "\n",
       "  Cement type_CEM I Cement type_CEM II/A-D Cement type_CEM II/A-V  \\\n",
       "0                 1                      0                      0   \n",
       "1                 0                      1                      0   \n",
       "\n",
       "  Cement type_CEM II/B-S Cement type_CEM II/B-V Cement type_CEM III/A  \\\n",
       "0                      0                      0                     0   \n",
       "1                      0                      0                     0   \n",
       "\n",
       "  Cement type_CEM IV/A Migration resistance  \n",
       "0                    0                    0  \n",
       "1                    0                    1  "
      ]
     },
     "execution_count": 28,
     "metadata": {},
     "output_type": "execute_result"
    }
   ],
   "source": [
    "df2.head(2)"
   ]
  },
  {
   "cell_type": "markdown",
   "metadata": {},
   "source": [
    "Let's visualize inlier and outlier instances."
   ]
  },
  {
   "cell_type": "code",
   "execution_count": 29,
   "metadata": {},
   "outputs": [
    {
     "name": "stdout",
     "output_type": "stream",
     "text": [
      " 1    183\n",
      "-1     21\n",
      "Name: Outliers, dtype: int64\n"
     ]
    },
    {
     "data": {
      "image/png": "[encoded data removed]",
      "text/plain": [
       "<Figure size 576x432 with 1 Axes>"
      ]
     },
     "metadata": {
      "needs_background": "light"
     },
     "output_type": "display_data"
    }
   ],
   "source": [
    "import matplotlib.pyplot as plt\n",
    "from sklearn.decomposition import PCA\n",
    "from sklearn.preprocessing import StandardScaler\n",
    "from mpl_toolkits.mplot3d import Axes3D\n",
    "\n",
    "# Reduce to k=3 dimensions\n",
    "pca = PCA(n_components=3)  \n",
    "scaler = StandardScaler()\n",
    "\n",
    "df2['Outliers']=y_pred\n",
    "outliers=df2.loc[df2['Outliers']==-1]\n",
    "outlier_index=list(outliers.index)\n",
    "print(df2['Outliers'].value_counts())\n",
    "\n",
    "#normalize the metrics\n",
    "X_Std = scaler.fit_transform(df2)\n",
    "X_reduce = pca.fit_transform(X_Std)\n",
    "fig = plt.figure(figsize=(8, 6))\n",
    "ax = fig.add_subplot(111, projection='3d')\n",
    "ax.set_xlabel(\"PC1\", rotation = -20)\n",
    "ax.set_ylabel(\"PC2\", rotation = 45)\n",
    "ax.set_zlabel(\"PC3\", rotation = 90)\n",
    "ax.scatter(X_reduce[:, 0], X_reduce[:, 1], zs=X_reduce[:, 2], s=4, lw=1, label=\"Inliers\",c=\"green\")\n",
    "\n",
    "# Plot x's for the ground truth outliers\n",
    "ax.scatter(X_reduce[outlier_index,0],X_reduce[outlier_index,1], X_reduce[outlier_index,2],\n",
    "           lw=2, s=60, marker=\"x\", c=\"red\", label=\"Outliers\")\n",
    "ax.legend(loc='upper left', bbox_to_anchor=(0.7, .95))\n",
    "ax.text2D(0.5,-0.05, \"(a)\", transform=ax.transAxes, fontsize=12)\n",
    "plt.show()"
   ]
  },
  {
   "cell_type": "markdown",
   "metadata": {},
   "source": [
    "It is clear that the anomaly points are mostly separated from the cluster of normal points. "
   ]
  },
  {
   "cell_type": "code",
   "execution_count": 30,
   "metadata": {},
   "outputs": [
    {
     "data": {
      "text/plain": [
       "0    0\n",
       "4    1\n",
       "5    1\n",
       "6    0\n",
       "7    1\n",
       "Name: Migration resistance, dtype: category\n",
       "Categories (5, int64): [0, 1, 2, 3, 4]"
      ]
     },
     "execution_count": 30,
     "metadata": {},
     "output_type": "execute_result"
    }
   ],
   "source": [
    "y.head()"
   ]
  },
  {
   "cell_type": "code",
   "execution_count": 31,
   "metadata": {},
   "outputs": [
    {
     "data": {
      "text/plain": [
       "2    91\n",
       "0    29\n",
       "3    27\n",
       "1    24\n",
       "4    12\n",
       "Name: Migration resistance, dtype: int64"
      ]
     },
     "execution_count": 31,
     "metadata": {},
     "output_type": "execute_result"
    }
   ],
   "source": [
    "# count the target class labels after outlier removed \n",
    "y.value_counts()"
   ]
  },
  {
   "cell_type": "code",
   "execution_count": 32,
   "metadata": {},
   "outputs": [
    {
     "data": {
      "text/plain": [
       "2    97\n",
       "0    33\n",
       "3    32\n",
       "1    26\n",
       "4    16\n",
       "Name: Migration resistance, dtype: int64"
      ]
     },
     "execution_count": 32,
     "metadata": {},
     "output_type": "execute_result"
    }
   ],
   "source": [
    "# count the target class labels before outlier removed \n",
    "\n",
    "df2['Migration resistance'].value_counts()"
   ]
  },
  {
   "cell_type": "code",
   "execution_count": 33,
   "metadata": {},
   "outputs": [
    {
     "data": {
      "text/plain": [
       "Text(0, 0.5, 'Counts')"
      ]
     },
     "execution_count": 33,
     "metadata": {},
     "output_type": "execute_result"
    },
    {
     "data": {
      "image/png": "[encoded data removed]",
      "text/plain": [
       "<Figure size 432x288 with 1 Axes>"
      ]
     },
     "metadata": {
      "needs_background": "light"
     },
     "output_type": "display_data"
    }
   ],
   "source": [
    "# Visualize the distribution of class labels after outlier removed \n",
    "color = ['blue','orange', 'green', 'black','red']\n",
    "y.value_counts().plot(kind='bar', title='Distribution of lables after outliers removed', color = color);\n",
    "plt.xticks(rotation=0, horizontalalignment=\"center\")\n",
    "plt.xlabel(\"Resistance level\")\n",
    "plt.ylabel(\"Counts\")"
   ]
  },
  {
   "cell_type": "markdown",
   "metadata": {},
   "source": [
    "It can be observed that outliers ranging from 2 to 6 were detected from each class lable."
   ]
  },
  {
   "cell_type": "markdown",
   "metadata": {},
   "source": [
    "Due to the uneven distribution of the classes, the dataset is considered to be imbalanced. Having imbalanced data is one of the most difficult problems in machine learning classification tasks. Because the classifier model should not be geared towards only recognizing the majority class ,but should also give equal importance to the minority class. Therefore, the imbalanced data must first be resolved prior to model training."
   ]
  },
  {
   "cell_type": "markdown",
   "metadata": {},
   "source": [
    "## Handling imbalanced data"
   ]
  },
  {
   "cell_type": "markdown",
   "metadata": {},
   "source": [
    "Synthetic Minority Oversampling Technique or SMOTE cab be applied to address the problem of the imbalanced classes. This technique oversamples the minority class by simply generating data points on the line segment connecting a randomly chosen data point and one of its K-nearest neighbors."
   ]
  },
  {
   "cell_type": "code",
   "execution_count": 34,
   "metadata": {},
   "outputs": [
    {
     "name": "stdout",
     "output_type": "stream",
     "text": [
      "Class=0, n=91 (20.00%)\n",
      "Class=1, n=91 (20.00%)\n",
      "Class=2, n=91 (20.00%)\n",
      "Class=3, n=91 (20.00%)\n",
      "Class=4, n=91 (20.00%)\n"
     ]
    }
   ],
   "source": [
    "from imblearn.over_sampling import SMOTE\n",
    "from collections import Counter\n",
    "\n",
    "# transform the dataset to array\n",
    "X_arr = np.array(X) \n",
    "y_arr = np.array(y)\n",
    "\n",
    "oversample = SMOTE()\n",
    "X, y = oversample.fit_resample(X_arr, y_arr)\n",
    "\n",
    "# summarize distribution\n",
    "counter = Counter(y)\n",
    "for k,v in counter.items():\n",
    "    per = v / len(y) * 100\n",
    "    print('Class=%d, n=%d (%.2f%%)' % (k, v, per))   "
   ]
  },
  {
   "cell_type": "code",
   "execution_count": 35,
   "metadata": {},
   "outputs": [
    {
     "data": {
      "image/png": "[encoded data removed]",
      "text/plain": [
       "<Figure size 432x288 with 1 Axes>"
      ]
     },
     "metadata": {
      "needs_background": "light"
     },
     "output_type": "display_data"
    }
   ],
   "source": [
    "# plot the distribution\n",
    "plt.bar(counter.keys(), counter.values())\n",
    "plt.show()"
   ]
  },
  {
   "cell_type": "markdown",
   "metadata": {},
   "source": [
    "All minority classes have now been oversampled, and each class now has 91 presentations as of the majority of the class before treating the imbalance classes. "
   ]
  },
  {
   "cell_type": "markdown",
   "metadata": {},
   "source": [
    "## Feature scaling"
   ]
  },
  {
   "cell_type": "markdown",
   "metadata": {},
   "source": [
    "Normalization and standardization are two approaches to scaling features onto the same scale. Even if normalization is a commonly used technique for obtaining values in a bounded interval, standardization can be more practical for many machine learning algorithms, particularly optimization algorithms like gradient descent. This is because many linear models, such as logistic regressions and SVM that set the weights to zero or small random values close to zero. "
   ]
  },
  {
   "cell_type": "markdown",
   "metadata": {},
   "source": [
    "Let us first standardize the dataset because some of the learning algorithms that will be used, such as KNN and SVM, require feature scaling."
   ]
  },
  {
   "cell_type": "code",
   "execution_count": null,
   "metadata": {},
   "outputs": [],
   "source": [
    "# Standardize features\n",
    "X= preprocessing.StandardScaler().fit(X).transform(X)"
   ]
  },
  {
   "cell_type": "markdown",
   "metadata": {},
   "source": [
    "In standardization, the mean of each feature is centered at zero, and each feature has a standard deviation of one, resulting in the property of a standard normal distribution, which makes learning the weights easier."
   ]
  },
  {
   "cell_type": "markdown",
   "metadata": {},
   "source": [
    "Let's visualize the distribution of one future (for example the feature 'Cement content') before and after standardization."
   ]
  },
  {
   "cell_type": "code",
   "execution_count": null,
   "metadata": {},
   "outputs": [],
   "source": [
    "# The feature cement content before feature scaling\n",
    "cem_dist1 = X_arr[:,2]\n",
    "\n",
    "# The feature cement content after feature scaling\n",
    "cem_dist2=X[:, 2]\n",
    "\n",
    "n_bins=30\n",
    "\n",
    "fig, axs = plt.subplots(1, 2, sharey=True, tight_layout=True)\n",
    "\n",
    "# We can set the number of bins with the *bins* keyword argument.\n",
    "axs[0].hist(cem_dist1, bins=n_bins)\n",
    "# displaying the title\n",
    "axs[0].set_title('before feature scaling')\n",
    "\n",
    "axs[1].hist(cem_dist2, bins=n_bins)\n",
    "axs[1].set_title('after feature scaling')\n"
   ]
  },
  {
   "cell_type": "code",
   "execution_count": null,
   "metadata": {},
   "outputs": [],
   "source": [
    "# Write cem_dist1 and cem_dist2 in an Excel sheet to visualize with another tool.\n",
    "\n",
    "import pandas as pd\n",
    "\n",
    "## convert your array into a dataframe\n",
    "cem_dist12 = pd.DataFrame (cem_dist1)\n",
    "cem_dist22 = pd.DataFrame (cem_dist2)\n",
    "\n",
    "## save to xlsx file\n",
    "\n",
    "cem_dist12.to_excel(\"cem_dist1.xlsx\",sheet_name='Before_FS')  \n",
    "cem_dist22.to_excel(\"cem_dist2.xlsx\",sheet_name='After_FS')  "
   ]
  },
  {
   "cell_type": "markdown",
   "metadata": {},
   "source": [
    "## Data Partitioning"
   ]
  },
  {
   "cell_type": "markdown",
   "metadata": {},
   "source": [
    "Training/test partitioning usually involves splitting the data into a training and a test set in a predetermined ratio. The training set is used to train the model, whereas the test set is used to evaluate the performance of the trained models against data it has never seen before. "
   ]
  },
  {
   "cell_type": "markdown",
   "metadata": {},
   "source": [
    "Let's divide the data into two parts: 80% and 20%. Eighty percent of the data will be used for model training, with the remaining twenty percent used to test the model's performance."
   ]
  },
  {
   "cell_type": "code",
   "execution_count": null,
   "metadata": {},
   "outputs": [],
   "source": [
    "# Split the data into training and test sets\n",
    "X_train, X_test, y_train, y_test = train_test_split( X, y, test_size=0.2, random_state=42)\n",
    "\n",
    "print ('Train set:', X_train.shape,  y_train.shape)\n",
    "print ('Test set:', X_test.shape,  y_test.shape)"
   ]
  },
  {
   "cell_type": "markdown",
   "metadata": {},
   "source": [
    "# Model Training"
   ]
  },
  {
   "cell_type": "markdown",
   "metadata": {},
   "source": [
    "## Naïve  Bayes"
   ]
  },
  {
   "cell_type": "markdown",
   "metadata": {},
   "source": [
    "There are several Naïve Bayes classifiers, including Bernoulli, Multinomial, and Gaussian. **Gaussian** type is used in this work because it is better suited for continuous/real-valued features."
   ]
  },
  {
   "cell_type": "code",
   "execution_count": 37,
   "metadata": {},
   "outputs": [
    {
     "name": "stdout",
     "output_type": "stream",
     "text": [
      "Fitting 5 folds for each of 14 candidates, totalling 70 fits\n"
     ]
    },
    {
     "name": "stderr",
     "output_type": "stream",
     "text": [
      "[Parallel(n_jobs=-1)]: Using backend LokyBackend with 4 concurrent workers.\n"
     ]
    },
    {
     "name": "stdout",
     "output_type": "stream",
     "text": [
      "Best Score: 0.637290715372907\n",
      "Best Param: {'var_smoothing': 0.01}\n",
      "Train Score: 0.6675824175824175\n",
      "Test Score: 0.6593406593406593\n",
      "NB: Duration: 0:00:02.737435\n"
     ]
    },
    {
     "name": "stderr",
     "output_type": "stream",
     "text": [
      "[Parallel(n_jobs=-1)]: Done  10 tasks      | elapsed:    2.5s\n",
      "[Parallel(n_jobs=-1)]: Done  70 out of  70 | elapsed:    2.6s finished\n"
     ]
    }
   ],
   "source": [
    "start_time = datetime.now()\n",
    "\n",
    "from sklearn.naive_bayes import GaussianNB\n",
    "gaussian_nb = GaussianNB()\n",
    "\n",
    "param_grid_NB = {'var_smoothing': [1e-2, 1e-3, 1e-4, 1e-5, 1e-6, 1e-7, \n",
    "                                   1e-8, 1e-9, 1e-10, 1e-11, 1e-12, 1e-13, 1e-14, 1e-15]\n",
    "                }\n",
    "grid_search_model_NB = GridSearchCV(gaussian_nb, param_grid_NB, cv=5, verbose=5, return_train_score=True, n_jobs=-1)\n",
    "grid_search_model_NB.fit(X_train, y_train)\n",
    "\n",
    "print(f'Best Score: {grid_search_model_NB.best_score_}')\n",
    "print(f'Best Param: {grid_search_model_NB.best_params_}')\n",
    "\n",
    "## fitting the best model\n",
    "best_model_NB = grid_search_model_NB.best_estimator_\n",
    "\n",
    "best_model_NB.fit(X_train, y_train)\n",
    "end_time = datetime.now()\n",
    "\n",
    "print(f'Train Score: {best_model_NB.score(X_train, y_train)}')\n",
    "print(f'Test Score: {best_model_NB.score(X_test, y_test)}')\n",
    "print('NB: Duration: {}'.format(end_time - start_time))\n"
   ]
  },
  {
   "cell_type": "code",
   "execution_count": 38,
   "metadata": {},
   "outputs": [
    {
     "data": {
      "text/plain": [
       "<matplotlib.colorbar.Colorbar at 0x18c594b5248>"
      ]
     },
     "execution_count": 38,
     "metadata": {},
     "output_type": "execute_result"
    },
    {
     "data": {
      "image/png": "[encoded data removed]",
      "text/plain": [
       "<Figure size 576x432 with 2 Axes>"
      ]
     },
     "metadata": {
      "needs_background": "light"
     },
     "output_type": "display_data"
    }
   ],
   "source": [
    "Class_labels = ['Low', 'Moderate', 'High', 'Very high', 'Extremely high']\n",
    "plt.figure(figsize = (8,6))\n",
    "scores_image = mglearn.tools.heatmap(\n",
    "    confusion_matrix(y_test, best_model_NB.predict(X_test)), xlabel='Predicted label',\n",
    "    ylabel='True label', xticklabels=Class_labels,\n",
    "    yticklabels=Class_labels, cmap=plt.cm.bone_r, fmt=\"%d\")\n",
    "plt.title('Scenario 1: Naïve Bayes \\nAccuracy:{0:.2f}'.format(accuracy_score(y_test, best_model_NB.predict(X_test))))\n",
    "plt.gca().invert_yaxis()\n",
    "plt.colorbar(scores_image)"
   ]
  },
  {
   "cell_type": "code",
   "execution_count": 39,
   "metadata": {},
   "outputs": [
    {
     "name": "stdout",
     "output_type": "stream",
     "text": [
      "                precision    recall  f1-score   support\n",
      "\n",
      "           Low       0.56      0.88      0.68        16\n",
      "      Moderate       0.64      0.41      0.50        22\n",
      "          High       0.73      0.55      0.63        20\n",
      "     Very high       0.50      0.54      0.52        13\n",
      "Extremely high       0.83      0.95      0.88        20\n",
      "\n",
      "      accuracy                           0.66        91\n",
      "     macro avg       0.65      0.66      0.64        91\n",
      "  weighted avg       0.67      0.66      0.65        91\n",
      "\n"
     ]
    }
   ],
   "source": [
    "print (metrics.classification_report(y_test, best_model_NB.predict(X_test),target_names=Class_labels ))"
   ]
  },
  {
   "cell_type": "code",
   "execution_count": 40,
   "metadata": {},
   "outputs": [
    {
     "data": {
      "image/png": "[encoded data removed]",
      "text/plain": [
       "<Figure size 432x288 with 1 Axes>"
      ]
     },
     "metadata": {
      "needs_background": "light"
     },
     "output_type": "display_data"
    }
   ],
   "source": [
    "from scipy import interp\n",
    "import matplotlib.pyplot as plt\n",
    "from sklearn.metrics import roc_curve, auc\n",
    "\n",
    "# number of classes\n",
    "n_classes = len(np.unique(y_test))\n",
    "\n",
    "pred_prob_NB = best_model_NB.predict_proba(X_test)\n",
    "\n",
    "# roc curve for classes\n",
    "fpr = {}\n",
    "tpr = {}\n",
    "thresh ={}\n",
    "roc_auc = {}\n",
    "\n",
    "for i in range(n_classes):    \n",
    "    fpr[i], tpr[i], thresh[i] = roc_curve(y_test, pred_prob_NB[:,i], pos_label=i)\n",
    "    roc_auc[i] = auc( fpr[i], tpr[i])\n",
    "    \n",
    "    \n",
    "for i in range(n_classes):\n",
    "    plt.plot(fpr[i], tpr[i], label='ROC curve of class {0} (AUC = {1:0.2f})'\n",
    "                                   ''.format(i, roc_auc[i]))\n",
    "\n",
    "plt.plot([0, 1], [0, 1], 'k--')\n",
    "plt.xlim([-0.05, 1.0])\n",
    "plt.ylim([0.0, 1.05])\n",
    "plt.xlabel('False Positive Rate')\n",
    "plt.ylabel('True Positive Rate')\n",
    "plt.title('Scenario 1: Naïve Bayes')\n",
    "plt.legend(loc=\"lower right\")\n",
    "plt.show()"
   ]
  },
  {
   "cell_type": "code",
   "execution_count": 41,
   "metadata": {},
   "outputs": [
    {
     "name": "stdout",
     "output_type": "stream",
     "text": [
      "One-vs-One AUROC scores:\n",
      "0.9059 (macro),\n",
      "0.9061 (weighted by prevalence)\n",
      "One-vs-Rest AUROC scores:\n",
      "0.9053 (macro),\n",
      "0.9077 (weighted by prevalence)\n"
     ]
    }
   ],
   "source": [
    "# One-vs-One\n",
    "macro_roc_auc_ovo = roc_auc_score(y_test, pred_prob_NB, multi_class=\"ovo\", average=\"macro\")\n",
    "weighted_roc_auc_ovo = roc_auc_score(y_test, pred_prob_NB, multi_class=\"ovo\", average=\"weighted\")\n",
    "\n",
    "# One-vs-Rest\n",
    "macro_roc_auc_ovr = roc_auc_score(y_test, pred_prob_NB, multi_class=\"ovr\", average=\"macro\")\n",
    "weighted_roc_auc_ovr = roc_auc_score(y_test, pred_prob_NB, multi_class=\"ovr\", average=\"weighted\")\n",
    "\n",
    "print(\"One-vs-One AUROC scores:\\n{:.4f} (macro),\\n{:.4f} \"\n",
    "        \"(weighted by prevalence)\".format(macro_roc_auc_ovo, weighted_roc_auc_ovo))\n",
    "\n",
    "print(\"One-vs-Rest AUROC scores:\\n{:.4f} (macro),\\n{:.4f} \"\n",
    "        \"(weighted by prevalence)\".format(macro_roc_auc_ovr, weighted_roc_auc_ovr))"
   ]
  },
  {
   "cell_type": "markdown",
   "metadata": {},
   "source": [
    "## k-Nearest Neighbors"
   ]
  },
  {
   "cell_type": "code",
   "execution_count": 42,
   "metadata": {},
   "outputs": [
    {
     "name": "stdout",
     "output_type": "stream",
     "text": [
      "Best Score: 0.8790715372907154\n",
      "Best Param: {'n_neighbors': 1, 'weights': 'uniform'}\n",
      "Train Score: 1.0\n",
      "Test Score: 0.8791208791208791\n",
      "KNN: Duration: 0:00:04.000707\n"
     ]
    }
   ],
   "source": [
    "start_time = datetime.now()\n",
    "\n",
    "from sklearn.neighbors import KNeighborsClassifier\n",
    "\n",
    "#Prepare and train the model\n",
    "\n",
    "knn = KNeighborsClassifier()\n",
    "\n",
    "## grid search to find the best model parameter\n",
    "\n",
    "param_grid_knn= [{'n_neighbors': list(range(1, 40)), \n",
    "                  'weights':  ['uniform', 'distance']}]\n",
    "\n",
    "grid_search_model_knn = GridSearchCV(knn, param_grid_knn, cv=5, return_train_score=True, n_jobs=-1)\n",
    "grid_search_model_knn.fit(X_train, y_train)\n",
    "\n",
    "\n",
    "print(f'Best Score: {grid_search_model_knn.best_score_}')\n",
    "print(f'Best Param: {grid_search_model_knn.best_params_}')\n",
    "\n",
    "## fitting the best model\n",
    "best_model_KNN = grid_search_model_knn.best_estimator_\n",
    "\n",
    "best_model_KNN.fit(X_train, y_train)\n",
    "end_time = datetime.now()\n",
    "\n",
    "print(f'Train Score: {best_model_KNN.score(X_train, y_train)}')\n",
    "print(f'Test Score: {best_model_KNN.score(X_test, y_test)}')\n",
    "print('KNN: Duration: {}'.format(end_time - start_time))\n"
   ]
  },
  {
   "cell_type": "code",
   "execution_count": 43,
   "metadata": {},
   "outputs": [
    {
     "data": {
      "text/plain": [
       "<matplotlib.colorbar.Colorbar at 0x18c59658a88>"
      ]
     },
     "execution_count": 43,
     "metadata": {},
     "output_type": "execute_result"
    },
    {
     "data": {
      "image/png": "[encoded data removed]",
      "text/plain": [
       "<Figure size 576x432 with 2 Axes>"
      ]
     },
     "metadata": {
      "needs_background": "light"
     },
     "output_type": "display_data"
    }
   ],
   "source": [
    "Class_labels = ['Low', 'Moderate', 'High', 'Very high', 'Extremely high']\n",
    "plt.figure(figsize = (8,6))\n",
    "scores_image = mglearn.tools.heatmap(\n",
    "    confusion_matrix(y_test, best_model_KNN.predict(X_test)), xlabel='Predicted label',\n",
    "    ylabel='True label', xticklabels=Class_labels,\n",
    "    yticklabels=Class_labels, cmap=plt.cm.bone_r, fmt=\"%d\")\n",
    "plt.title('Scenario 1: k-Nearest Neighbors \\nAccuracy:{0:.2f}'.format(accuracy_score(y_test, best_model_KNN.predict(X_test))))\n",
    "plt.gca().invert_yaxis()\n",
    "plt.colorbar(scores_image)"
   ]
  },
  {
   "cell_type": "code",
   "execution_count": 44,
   "metadata": {},
   "outputs": [
    {
     "name": "stdout",
     "output_type": "stream",
     "text": [
      "                precision    recall  f1-score   support\n",
      "\n",
      "           Low       1.00      1.00      1.00        16\n",
      "      Moderate       0.86      0.82      0.84        22\n",
      "          High       0.75      0.75      0.75        20\n",
      "     Very high       0.85      0.85      0.85        13\n",
      "Extremely high       0.95      1.00      0.98        20\n",
      "\n",
      "      accuracy                           0.88        91\n",
      "     macro avg       0.88      0.88      0.88        91\n",
      "  weighted avg       0.88      0.88      0.88        91\n",
      "\n"
     ]
    }
   ],
   "source": [
    "print (metrics.classification_report(y_test, best_model_KNN.predict(X_test),target_names=Class_labels ))"
   ]
  },
  {
   "cell_type": "code",
   "execution_count": 45,
   "metadata": {},
   "outputs": [
    {
     "data": {
      "image/png": "[encoded data removed]",
      "text/plain": [
       "<Figure size 432x288 with 1 Axes>"
      ]
     },
     "metadata": {
      "needs_background": "light"
     },
     "output_type": "display_data"
    }
   ],
   "source": [
    "from scipy import interp\n",
    "import matplotlib.pyplot as plt\n",
    "from sklearn.metrics import roc_curve, auc\n",
    "\n",
    "# number of classes\n",
    "n_classes = len(np.unique(y_test))\n",
    "\n",
    "pred_prob_KNN = best_model_KNN.predict_proba(X_test)\n",
    "\n",
    "# roc curve for classes\n",
    "fpr = {}\n",
    "tpr = {}\n",
    "thresh ={}\n",
    "roc_auc = {}\n",
    "\n",
    "for i in range(n_classes):    \n",
    "    fpr[i], tpr[i], thresh[i] = roc_curve(y_test, pred_prob_KNN[:,i], pos_label=i)\n",
    "    roc_auc[i] = auc( fpr[i], tpr[i])\n",
    "    \n",
    "    \n",
    "for i in range(n_classes):\n",
    "    plt.plot(fpr[i], tpr[i], label='ROC curve of class {0} (AUC = {1:0.2f})'\n",
    "                                   ''.format(i, roc_auc[i]))\n",
    "\n",
    "plt.plot([0, 1], [0, 1], 'k--')\n",
    "plt.xlim([-0.05, 1.0])\n",
    "plt.ylim([0.0, 1.05])\n",
    "plt.xlabel('False Positive Rate')\n",
    "plt.ylabel('True Positive Rate')\n",
    "plt.title('Scenario 1: k-Nearest Neighbors')\n",
    "plt.legend(loc=\"lower right\")\n",
    "plt.show()"
   ]
  },
  {
   "cell_type": "code",
   "execution_count": 46,
   "metadata": {},
   "outputs": [
    {
     "name": "stdout",
     "output_type": "stream",
     "text": [
      "One-vs-One AUROC scores:\n",
      "0.9268 (macro),\n",
      "0.9254 (weighted by prevalence)\n",
      "One-vs-Rest AUROC scores:\n",
      "0.9261 (macro),\n",
      "0.9232 (weighted by prevalence)\n"
     ]
    }
   ],
   "source": [
    "# One-vs-One\n",
    "macro_roc_auc_ovo = roc_auc_score(y_test, pred_prob_KNN, multi_class=\"ovo\", average=\"macro\")\n",
    "weighted_roc_auc_ovo = roc_auc_score(y_test, pred_prob_KNN, multi_class=\"ovo\", average=\"weighted\")\n",
    "\n",
    "# One-vs-Rest\n",
    "macro_roc_auc_ovr = roc_auc_score(y_test, pred_prob_KNN, multi_class=\"ovr\", average=\"macro\")\n",
    "weighted_roc_auc_ovr = roc_auc_score(y_test, pred_prob_KNN, multi_class=\"ovr\", average=\"weighted\")\n",
    "\n",
    "print(\"One-vs-One AUROC scores:\\n{:.4f} (macro),\\n{:.4f} \"\n",
    "        \"(weighted by prevalence)\".format(macro_roc_auc_ovo, weighted_roc_auc_ovo))\n",
    "\n",
    "print(\"One-vs-Rest AUROC scores:\\n{:.4f} (macro),\\n{:.4f} \"\n",
    "        \"(weighted by prevalence)\".format(macro_roc_auc_ovr, weighted_roc_auc_ovr))"
   ]
  },
  {
   "cell_type": "markdown",
   "metadata": {},
   "source": [
    "## Decision Tree"
   ]
  },
  {
   "cell_type": "code",
   "execution_count": 47,
   "metadata": {},
   "outputs": [
    {
     "name": "stdout",
     "output_type": "stream",
     "text": [
      "Best Score: 0.8269406392694062\n",
      "Best Param: {'ccp_alpha': 0.001, 'criterion': 'entropy', 'max_depth': 500, 'min_samples_leaf': 1, 'min_samples_split': 2}\n",
      "Train Score: 1.0\n",
      "Test Score: 0.8571428571428571\n",
      "DT: Duration: 0:00:13.029235\n"
     ]
    }
   ],
   "source": [
    "start_time = datetime.now()\n",
    "\n",
    "#Prepare and train the model\n",
    "\n",
    "DT=DecisionTreeClassifier()\n",
    "\n",
    "\n",
    "## grid search to find the best model parameter\n",
    "\n",
    "param_grid_dt = [{'criterion': ['entropy', 'gini'], \n",
    "                  'ccp_alpha': [0.1, 0.01, 0.001],\n",
    "                    'max_depth': ['none', 5, 6, 7, 8, 9, 10, 20, 40, 100, 200, 500],\n",
    "                   'min_samples_split': [2, 5, 10],\n",
    "                     'min_samples_leaf': [1,2,3,4,5,6]}]\n",
    "\n",
    "grid_search_model_dt = GridSearchCV(DT, param_grid_dt, cv=5, return_train_score=True, n_jobs=-1)\n",
    "grid_search_model_dt.fit(X_train, y_train)\n",
    "\n",
    "\n",
    "print(f'Best Score: {grid_search_model_dt.best_score_}')\n",
    "print(f'Best Param: {grid_search_model_dt.best_params_}')\n",
    "\n",
    "## fitting the best model\n",
    "best_model_dt = grid_search_model_dt.best_estimator_\n",
    "\n",
    "best_model_dt.fit(X_train, y_train)\n",
    "end_time = datetime.now()\n",
    "\n",
    "print(f'Train Score: {best_model_dt.score(X_train, y_train)}')\n",
    "print(f'Test Score: {best_model_dt.score(X_test, y_test)}')\n",
    "print('DT: Duration: {}'.format(end_time - start_time))"
   ]
  },
  {
   "cell_type": "code",
   "execution_count": 48,
   "metadata": {},
   "outputs": [
    {
     "data": {
      "text/plain": [
       "<matplotlib.colorbar.Colorbar at 0x18c59912588>"
      ]
     },
     "execution_count": 48,
     "metadata": {},
     "output_type": "execute_result"
    },
    {
     "data": {
      "image/png": "[encoded data removed]",
      "text/plain": [
       "<Figure size 576x432 with 2 Axes>"
      ]
     },
     "metadata": {
      "needs_background": "light"
     },
     "output_type": "display_data"
    }
   ],
   "source": [
    "Class_labels = ['Low', 'Moderate', 'High', 'Very high','Extremely high']\n",
    "plt.figure(figsize = (8,6))\n",
    "scores_image = mglearn.tools.heatmap(\n",
    "    confusion_matrix(y_test, best_model_dt.predict(X_test)), xlabel='Predicted label',\n",
    "    ylabel='True label', xticklabels=Class_labels,\n",
    "    yticklabels=Class_labels, cmap=plt.cm.bone_r, fmt=\"%d\")\n",
    "plt.title('Scenario 1: Decision Tree \\nAccuracy:{0:.2f}'.format(accuracy_score(y_test, best_model_dt.predict(X_test))))\n",
    "plt.gca().invert_yaxis()\n",
    "plt.colorbar(scores_image)"
   ]
  },
  {
   "cell_type": "code",
   "execution_count": 49,
   "metadata": {},
   "outputs": [
    {
     "name": "stdout",
     "output_type": "stream",
     "text": [
      "                precision    recall  f1-score   support\n",
      "\n",
      "           Low       0.83      0.94      0.88        16\n",
      "      Moderate       0.85      0.77      0.81        22\n",
      "          High       0.80      0.80      0.80        20\n",
      "     Very high       0.91      0.77      0.83        13\n",
      "Extremely high       0.91      1.00      0.95        20\n",
      "\n",
      "      accuracy                           0.86        91\n",
      "     macro avg       0.86      0.86      0.86        91\n",
      "  weighted avg       0.86      0.86      0.86        91\n",
      "\n"
     ]
    }
   ],
   "source": [
    "print (metrics.classification_report(y_test, best_model_dt.predict(X_test),target_names=Class_labels ))"
   ]
  },
  {
   "cell_type": "code",
   "execution_count": 50,
   "metadata": {},
   "outputs": [
    {
     "data": {
      "image/png": "[encoded data removed]",
      "text/plain": [
       "<Figure size 432x288 with 1 Axes>"
      ]
     },
     "metadata": {
      "needs_background": "light"
     },
     "output_type": "display_data"
    }
   ],
   "source": [
    "from scipy import interp\n",
    "import matplotlib.pyplot as plt\n",
    "from sklearn.metrics import roc_curve, auc\n",
    "\n",
    "# number of classes\n",
    "n_classes = len(np.unique(y_test))\n",
    "\n",
    "pred_prob_dt = best_model_dt.predict_proba(X_test)\n",
    "\n",
    "# roc curve for classes\n",
    "fpr = {}\n",
    "tpr = {}\n",
    "thresh ={}\n",
    "roc_auc = {}\n",
    "\n",
    "for i in range(n_classes):    \n",
    "    fpr[i], tpr[i], thresh[i] = roc_curve(y_test, pred_prob_dt[:,i], pos_label=i)\n",
    "    roc_auc[i] = auc( fpr[i], tpr[i])\n",
    "    \n",
    "    \n",
    "for i in range(n_classes):\n",
    "    plt.plot(fpr[i], tpr[i], label='ROC curve of class {0} (AUC = {1:0.2f})'\n",
    "                                   ''.format(i, roc_auc[i]))\n",
    "\n",
    "plt.plot([0, 1], [0, 1], 'k--')\n",
    "plt.xlim([-0.05, 1.0])\n",
    "plt.ylim([0.0, 1.05])\n",
    "plt.xlabel('False Positive Rate')\n",
    "plt.ylabel('True Positive Rate')\n",
    "plt.title('Scenario 1: Decision Tree')\n",
    "plt.legend(loc=\"lower right\")\n",
    "plt.show()"
   ]
  },
  {
   "cell_type": "code",
   "execution_count": 51,
   "metadata": {},
   "outputs": [
    {
     "name": "stdout",
     "output_type": "stream",
     "text": [
      "One-vs-One AUROC scores:\n",
      "0.9099 (macro),\n",
      "0.9098 (weighted by prevalence)\n",
      "One-vs-Rest AUROC scores:\n",
      "0.9099 (macro),\n",
      "0.9096 (weighted by prevalence)\n"
     ]
    }
   ],
   "source": [
    "# One-vs-One\n",
    "macro_roc_auc_ovo = roc_auc_score(y_test, pred_prob_dt, multi_class=\"ovo\", average=\"macro\")\n",
    "weighted_roc_auc_ovo = roc_auc_score(y_test, pred_prob_dt, multi_class=\"ovo\", average=\"weighted\")\n",
    "\n",
    "# One-vs-Rest\n",
    "macro_roc_auc_ovr = roc_auc_score(y_test, pred_prob_dt, multi_class=\"ovr\", average=\"macro\")\n",
    "weighted_roc_auc_ovr = roc_auc_score(y_test, pred_prob_dt, multi_class=\"ovr\", average=\"weighted\")\n",
    "\n",
    "print(\"One-vs-One AUROC scores:\\n{:.4f} (macro),\\n{:.4f} \"\n",
    "        \"(weighted by prevalence)\".format(macro_roc_auc_ovo, weighted_roc_auc_ovo))\n",
    "\n",
    "print(\"One-vs-Rest AUROC scores:\\n{:.4f} (macro),\\n{:.4f} \"\n",
    "        \"(weighted by prevalence)\".format(macro_roc_auc_ovr, weighted_roc_auc_ovr))"
   ]
  },
  {
   "cell_type": "markdown",
   "metadata": {},
   "source": [
    "## Support Vector Machine"
   ]
  },
  {
   "cell_type": "code",
   "execution_count": 52,
   "metadata": {},
   "outputs": [
    {
     "name": "stdout",
     "output_type": "stream",
     "text": [
      "Best Score: 0.8873287671232877\n",
      "Best Param: {'C': 10, 'gamma': 0.1, 'kernel': 'rbf'}\n",
      "Train Score: 0.9642857142857143\n",
      "Test Score: 0.8791208791208791\n",
      "SVM: Duration: 0:00:06.439900\n"
     ]
    }
   ],
   "source": [
    "start_time = datetime.now()\n",
    "\n",
    "\n",
    "from sklearn.svm import SVC\n",
    "\n",
    "#Prepare and train the model\n",
    "\n",
    "svm = SVC(probability=True)\n",
    "\n",
    "## grid search to find the best model parameter\n",
    "\n",
    "param_grid_svm = [{'kernel': ['rbf'],\n",
    "               'C': [0.001, 0.01, 0.1, 1, 10, 100],\n",
    "               'gamma': [0.001, 0.01, 0.1, 1, 10, 100]},\n",
    "              {'kernel': ['linear'],\n",
    "               'C': [0.001, 0.01, 0.1, 1, 10, 100]}]\n",
    "\n",
    "grid_search_model_svm = GridSearchCV(svm, param_grid_svm, cv=5, return_train_score=True, n_jobs=-1)\n",
    "grid_search_model_svm.fit(X_train, y_train)\n",
    "\n",
    "\n",
    "print(f'Best Score: {grid_search_model_svm.best_score_}')\n",
    "print(f'Best Param: {grid_search_model_svm.best_params_}')\n",
    "\n",
    "## fitting the best model\n",
    "best_model_svm = grid_search_model_svm.best_estimator_\n",
    "\n",
    "best_model_svm.fit(X_train, y_train)\n",
    "end_time = datetime.now()\n",
    "\n",
    "print(f'Train Score: {best_model_svm.score(X_train, y_train)}')\n",
    "print(f'Test Score: {best_model_svm.score(X_test, y_test)}')\n",
    "print('SVM: Duration: {}'.format(end_time - start_time))\n"
   ]
  },
  {
   "cell_type": "code",
   "execution_count": 53,
   "metadata": {},
   "outputs": [
    {
     "data": {
      "text/plain": [
       "<matplotlib.colorbar.Colorbar at 0x18c5980bfc8>"
      ]
     },
     "execution_count": 53,
     "metadata": {},
     "output_type": "execute_result"
    },
    {
     "data": {
      "image/png": "[encoded data removed]",
      "text/plain": [
       "<Figure size 576x432 with 2 Axes>"
      ]
     },
     "metadata": {
      "needs_background": "light"
     },
     "output_type": "display_data"
    }
   ],
   "source": [
    "Class_labels = ['Low', 'Moderate', 'High', 'Very high','Extremely high']\n",
    "plt.figure(figsize = (8,6))\n",
    "scores_image = mglearn.tools.heatmap(\n",
    "    confusion_matrix(y_test, best_model_svm.predict(X_test)), xlabel='Predicted label',\n",
    "    ylabel='True label', xticklabels=Class_labels,\n",
    "    yticklabels=Class_labels, cmap=plt.cm.bone_r, fmt=\"%d\")\n",
    "plt.title('Scenario 1: Suport Vector Machine \\nAccuracy:{0:.2f}'.format(accuracy_score(y_test, best_model_svm.predict(X_test))))\n",
    "plt.gca().invert_yaxis()\n",
    "plt.colorbar(scores_image)"
   ]
  },
  {
   "cell_type": "code",
   "execution_count": 54,
   "metadata": {},
   "outputs": [
    {
     "name": "stdout",
     "output_type": "stream",
     "text": [
      "                precision    recall  f1-score   support\n",
      "\n",
      "           Low       1.00      1.00      1.00        16\n",
      "      Moderate       0.89      0.73      0.80        22\n",
      "          High       0.70      0.80      0.74        20\n",
      "     Very high       0.86      0.92      0.89        13\n",
      "Extremely high       1.00      1.00      1.00        20\n",
      "\n",
      "      accuracy                           0.88        91\n",
      "     macro avg       0.89      0.89      0.89        91\n",
      "  weighted avg       0.89      0.88      0.88        91\n",
      "\n"
     ]
    }
   ],
   "source": [
    "print (metrics.classification_report(y_test, best_model_svm.predict(X_test),target_names=Class_labels ))"
   ]
  },
  {
   "cell_type": "code",
   "execution_count": 55,
   "metadata": {},
   "outputs": [
    {
     "data": {
      "image/png": "[encoded data removed]",
      "text/plain": [
       "<Figure size 432x288 with 1 Axes>"
      ]
     },
     "metadata": {
      "needs_background": "light"
     },
     "output_type": "display_data"
    }
   ],
   "source": [
    "from scipy import interp\n",
    "import matplotlib.pyplot as plt\n",
    "from sklearn.metrics import roc_curve, auc\n",
    "\n",
    "# number of classes\n",
    "n_classes = len(np.unique(y_test))\n",
    "\n",
    "pred_prob_svm = best_model_svm.predict_proba(X_test)\n",
    "\n",
    "# roc curve for classes\n",
    "fpr = {}\n",
    "tpr = {}\n",
    "thresh ={}\n",
    "roc_auc = {}\n",
    "\n",
    "for i in range(n_classes):    \n",
    "    fpr[i], tpr[i], thresh[i] = roc_curve(y_test, pred_prob_svm[:,i], pos_label=i)\n",
    "    roc_auc[i] = auc( fpr[i], tpr[i])\n",
    "    \n",
    "    \n",
    "for i in range(n_classes):\n",
    "    plt.plot(fpr[i], tpr[i], label='ROC curve of class {0} (AUC = {1:0.2f})'\n",
    "                                   ''.format(i, roc_auc[i]))\n",
    "\n",
    "plt.plot([0, 1], [0, 1], 'k--')\n",
    "plt.xlim([-0.05, 1.0])\n",
    "plt.ylim([0.0, 1.05])\n",
    "plt.xlabel('False Positive Rate')\n",
    "plt.ylabel('True Positive Rate')\n",
    "plt.title('Scenario 1: Suport Vector Machine')\n",
    "plt.legend(loc=\"lower right\")\n",
    "plt.show()"
   ]
  },
  {
   "cell_type": "code",
   "execution_count": 56,
   "metadata": {},
   "outputs": [
    {
     "name": "stdout",
     "output_type": "stream",
     "text": [
      "One-vs-One AUROC scores:\n",
      "0.9845 (macro),\n",
      "0.9839 (weighted by prevalence)\n",
      "One-vs-Rest AUROC scores:\n",
      "0.9839 (macro),\n",
      "0.9829 (weighted by prevalence)\n"
     ]
    }
   ],
   "source": [
    "# One-vs-One\n",
    "macro_roc_auc_ovo = roc_auc_score(y_test, pred_prob_svm, multi_class=\"ovo\", average=\"macro\")\n",
    "weighted_roc_auc_ovo = roc_auc_score(y_test, pred_prob_svm, multi_class=\"ovo\", average=\"weighted\")\n",
    "\n",
    "# One-vs-Rest\n",
    "macro_roc_auc_ovr = roc_auc_score(y_test, pred_prob_svm, multi_class=\"ovr\", average=\"macro\")\n",
    "weighted_roc_auc_ovr = roc_auc_score(y_test, pred_prob_svm, multi_class=\"ovr\", average=\"weighted\")\n",
    "\n",
    "print(\"One-vs-One AUROC scores:\\n{:.4f} (macro),\\n{:.4f} \"\n",
    "        \"(weighted by prevalence)\".format(macro_roc_auc_ovo, weighted_roc_auc_ovo))\n",
    "\n",
    "print(\"One-vs-Rest AUROC scores:\\n{:.4f} (macro),\\n{:.4f} \"\n",
    "        \"(weighted by prevalence)\".format(macro_roc_auc_ovr, weighted_roc_auc_ovr))"
   ]
  },
  {
   "cell_type": "markdown",
   "metadata": {},
   "source": [
    "## Random Forest"
   ]
  },
  {
   "cell_type": "code",
   "execution_count": 37,
   "metadata": {},
   "outputs": [
    {
     "name": "stdout",
     "output_type": "stream",
     "text": [
      "Fitting 5 folds for each of 1152 candidates, totalling 5760 fits\n"
     ]
    },
    {
     "name": "stderr",
     "output_type": "stream",
     "text": [
      "[Parallel(n_jobs=-1)]: Using backend LokyBackend with 4 concurrent workers.\n",
      "[Parallel(n_jobs=-1)]: Done  33 tasks      | elapsed:    3.1s\n",
      "[Parallel(n_jobs=-1)]: Done 154 tasks      | elapsed:    7.1s\n",
      "[Parallel(n_jobs=-1)]: Done 357 tasks      | elapsed:   14.8s\n",
      "[Parallel(n_jobs=-1)]: Done 844 tasks      | elapsed:   31.5s\n",
      "[Parallel(n_jobs=-1)]: Done 1574 tasks      | elapsed:   57.4s\n",
      "[Parallel(n_jobs=-1)]: Done 2464 tasks      | elapsed:  1.6min\n",
      "[Parallel(n_jobs=-1)]: Done 3301 tasks      | elapsed:  2.4min\n",
      "[Parallel(n_jobs=-1)]: Done 3908 tasks      | elapsed:  3.0min\n",
      "[Parallel(n_jobs=-1)]: Done 4597 tasks      | elapsed:  3.6min\n",
      "[Parallel(n_jobs=-1)]: Done 5366 tasks      | elapsed:  4.6min\n",
      "[Parallel(n_jobs=-1)]: Done 5760 out of 5760 | elapsed:  5.1min finished\n"
     ]
    },
    {
     "name": "stdout",
     "output_type": "stream",
     "text": [
      "Best Score: 0.8434170471841703\n",
      "Best Param: {'criterion': 'entropy', 'max_depth': 6, 'max_features': 4, 'min_samples_leaf': 4, 'min_samples_split': 4, 'n_estimators': 50}\n",
      "Train Score: 0.8928571428571429\n",
      "Test Score: 0.8571428571428571\n",
      "Random Forest: Duration: 0:05:05.173139\n"
     ]
    }
   ],
   "source": [
    "start_time = datetime.now()\n",
    "\n",
    "rf = RandomForestClassifier()\n",
    "\n",
    "param_grid_rf = {'max_depth': [2, 4, 5,6],\n",
    "                'max_features':[1,2,3,4],\n",
    "                'min_samples_leaf': [3, 4, 5],\n",
    "                'min_samples_split': [4, 6, 8, 10],\n",
    "                'criterion' :['gini', 'entropy'],\n",
    "                'n_estimators': [10, 50, 100]}\n",
    "\n",
    "grid_search_model_rf = GridSearchCV(rf, param_grid = param_grid_rf,cv = 5, n_jobs = -1, verbose = 2)\n",
    "grid_search_model_rf.fit(X_train, y_train)\n",
    "\n",
    "print(f'Best Score: {grid_search_model_rf.best_score_}')\n",
    "print(f'Best Param: {grid_search_model_rf.best_params_}')\n",
    "\n",
    "## fitting the best model\n",
    "\n",
    "best_model_rf = grid_search_model_rf.best_estimator_\n",
    "best_model_rf.fit(X_train, y_train)\n",
    "\n",
    "end_time = datetime.now()\n",
    "\n",
    "print(f'Train Score: {best_model_rf.score(X_train, y_train)}')\n",
    "print(f'Test Score: {best_model_rf.score(X_test, y_test)}')\n",
    "print('Random Forest: Duration: {}'.format(end_time - start_time))"
   ]
  },
  {
   "cell_type": "code",
   "execution_count": 58,
   "metadata": {},
   "outputs": [
    {
     "data": {
      "text/plain": [
       "<matplotlib.colorbar.Colorbar at 0x18c59c025c8>"
      ]
     },
     "execution_count": 58,
     "metadata": {},
     "output_type": "execute_result"
    },
    {
     "data": {
      "image/png": "[encoded data removed]",
      "text/plain": [
       "<Figure size 576x432 with 2 Axes>"
      ]
     },
     "metadata": {
      "needs_background": "light"
     },
     "output_type": "display_data"
    }
   ],
   "source": [
    "Class_labels = ['Low', 'Moderate', 'High', 'Very high','Extremely high']\n",
    "plt.figure(figsize = (8,6))\n",
    "scores_image = mglearn.tools.heatmap(\n",
    "    confusion_matrix(y_test, best_model_rf.predict(X_test)), xlabel='Predicted label',\n",
    "    ylabel='True label', xticklabels=Class_labels,\n",
    "    yticklabels=Class_labels, cmap=plt.cm.bone_r, fmt=\"%d\")\n",
    "plt.title('Scenario 1: Random Forest \\nAccuracy:{0:.2f}'.format(accuracy_score(y_test, best_model_rf.predict(X_test))))\n",
    "plt.gca().invert_yaxis()\n",
    "plt.colorbar(scores_image)"
   ]
  },
  {
   "cell_type": "code",
   "execution_count": 59,
   "metadata": {},
   "outputs": [
    {
     "name": "stdout",
     "output_type": "stream",
     "text": [
      "                precision    recall  f1-score   support\n",
      "\n",
      "           Low       0.88      0.94      0.91        16\n",
      "      Moderate       0.89      0.77      0.83        22\n",
      "          High       0.74      0.70      0.72        20\n",
      "     Very high       0.71      0.92      0.80        13\n",
      "Extremely high       1.00      0.95      0.97        20\n",
      "\n",
      "      accuracy                           0.85        91\n",
      "     macro avg       0.84      0.86      0.85        91\n",
      "  weighted avg       0.85      0.85      0.85        91\n",
      "\n"
     ]
    }
   ],
   "source": [
    "print (metrics.classification_report(y_test, best_model_rf.predict(X_test),target_names=Class_labels))"
   ]
  },
  {
   "cell_type": "code",
   "execution_count": 60,
   "metadata": {},
   "outputs": [
    {
     "data": {
      "image/png": "[encoded data removed]",
      "text/plain": [
       "<Figure size 432x288 with 1 Axes>"
      ]
     },
     "metadata": {
      "needs_background": "light"
     },
     "output_type": "display_data"
    }
   ],
   "source": [
    "from scipy import interp\n",
    "import matplotlib.pyplot as plt\n",
    "from sklearn.metrics import roc_curve, auc\n",
    "\n",
    "# number of classes\n",
    "n_classes = len(np.unique(y_test))\n",
    "\n",
    "pred_prob_rf = best_model_rf.predict_proba(X_test)\n",
    "\n",
    "# roc curve for classes\n",
    "fpr = {}\n",
    "tpr = {}\n",
    "thresh ={}\n",
    "roc_auc = {}\n",
    "\n",
    "for i in range(n_classes):    \n",
    "    fpr[i], tpr[i], thresh[i] = roc_curve(y_test, pred_prob_rf[:,i], pos_label=i)\n",
    "    roc_auc[i] = auc( fpr[i], tpr[i])\n",
    "    \n",
    "    \n",
    "for i in range(n_classes):\n",
    "    plt.plot(fpr[i], tpr[i], label='ROC curve of class {0} (AUC = {1:0.2f})'\n",
    "                                   ''.format(i, roc_auc[i]))\n",
    "\n",
    "plt.plot([0, 1], [0, 1], 'k--')\n",
    "plt.xlim([-0.05, 1.0])\n",
    "plt.ylim([0.0, 1.05])\n",
    "plt.xlabel('False Positive Rate')\n",
    "plt.ylabel('True Positive Rate')\n",
    "plt.title('Scenario 1: Random Forest')\n",
    "plt.legend(loc=\"lower right\")\n",
    "plt.show()"
   ]
  },
  {
   "cell_type": "code",
   "execution_count": 61,
   "metadata": {},
   "outputs": [
    {
     "name": "stdout",
     "output_type": "stream",
     "text": [
      "One-vs-One AUROC scores:\n",
      "0.9782 (macro),\n",
      "0.9786 (weighted by prevalence)\n",
      "One-vs-Rest AUROC scores:\n",
      "0.9788 (macro),\n",
      "0.9792 (weighted by prevalence)\n"
     ]
    }
   ],
   "source": [
    "# One-vs-One\n",
    "macro_roc_auc_ovo = roc_auc_score(y_test, pred_prob_rf, multi_class=\"ovo\", average=\"macro\")\n",
    "weighted_roc_auc_ovo = roc_auc_score(y_test, pred_prob_rf, multi_class=\"ovo\", average=\"weighted\")\n",
    "\n",
    "# One-vs-Rest\n",
    "macro_roc_auc_ovr = roc_auc_score(y_test, pred_prob_rf, multi_class=\"ovr\", average=\"macro\")\n",
    "weighted_roc_auc_ovr = roc_auc_score(y_test, pred_prob_rf, multi_class=\"ovr\", average=\"weighted\")\n",
    "\n",
    "print(\"One-vs-One AUROC scores:\\n{:.4f} (macro),\\n{:.4f} \"\n",
    "        \"(weighted by prevalence)\".format(macro_roc_auc_ovo, weighted_roc_auc_ovo))\n",
    "\n",
    "print(\"One-vs-Rest AUROC scores:\\n{:.4f} (macro),\\n{:.4f} \"\n",
    "        \"(weighted by prevalence)\".format(macro_roc_auc_ovr, weighted_roc_auc_ovr))"
   ]
  },
  {
   "cell_type": "markdown",
   "metadata": {},
   "source": [
    "# <div class=\"alert alert-block alert-info\"><b><font color='red'> Scenario: 2 <font color='red'> </b> </div>"
   ]
  },
  {
   "cell_type": "code",
   "execution_count": 62,
   "metadata": {},
   "outputs": [
    {
     "data": {
      "text/html": [
       "<div>\n",
       "<style scoped>\n",
       "    .dataframe tbody tr th:only-of-type {\n",
       "        vertical-align: middle;\n",
       "    }\n",
       "\n",
       "    .dataframe tbody tr th {\n",
       "        vertical-align: top;\n",
       "    }\n",
       "\n",
       "    .dataframe thead th {\n",
       "        text-align: right;\n",
       "    }\n",
       "</style>\n",
       "<table border=\"1\" class=\"dataframe\">\n",
       "  <thead>\n",
       "    <tr style=\"text-align: right;\">\n",
       "      <th></th>\n",
       "      <th>w/b</th>\n",
       "      <th>Water</th>\n",
       "      <th>Cement type</th>\n",
       "      <th>Cement</th>\n",
       "      <th>Slag</th>\n",
       "      <th>Fly ash</th>\n",
       "      <th>Silica fume</th>\n",
       "      <th>Fine aggregate</th>\n",
       "      <th>Coarse aggregate</th>\n",
       "      <th>Total aggregate</th>\n",
       "      <th>Superplasticizer</th>\n",
       "      <th>Migration test age</th>\n",
       "      <th>Migration resistance</th>\n",
       "    </tr>\n",
       "  </thead>\n",
       "  <tbody>\n",
       "    <tr>\n",
       "      <th>0</th>\n",
       "      <td>0.55</td>\n",
       "      <td>192.5</td>\n",
       "      <td>CEM I</td>\n",
       "      <td>350.0</td>\n",
       "      <td>0.0</td>\n",
       "      <td>0.0</td>\n",
       "      <td>0.0</td>\n",
       "      <td>699.988</td>\n",
       "      <td>1062.249</td>\n",
       "      <td>1762.237</td>\n",
       "      <td>0.0</td>\n",
       "      <td>28</td>\n",
       "      <td>Low</td>\n",
       "    </tr>\n",
       "    <tr>\n",
       "      <th>1</th>\n",
       "      <td>0.55</td>\n",
       "      <td>192.5</td>\n",
       "      <td>CEM II/A-D</td>\n",
       "      <td>329.0</td>\n",
       "      <td>0.0</td>\n",
       "      <td>0.0</td>\n",
       "      <td>21.0</td>\n",
       "      <td>694.766</td>\n",
       "      <td>1059.600</td>\n",
       "      <td>1754.366</td>\n",
       "      <td>0.0</td>\n",
       "      <td>28</td>\n",
       "      <td>Moderate</td>\n",
       "    </tr>\n",
       "  </tbody>\n",
       "</table>\n",
       "</div>"
      ],
      "text/plain": [
       "    w/b  Water Cement type  Cement  Slag  Fly ash  Silica fume  \\\n",
       "0  0.55  192.5       CEM I   350.0   0.0      0.0          0.0   \n",
       "1  0.55  192.5  CEM II/A-D   329.0   0.0      0.0         21.0   \n",
       "\n",
       "   Fine aggregate  Coarse aggregate  Total aggregate  Superplasticizer  \\\n",
       "0         699.988          1062.249         1762.237               0.0   \n",
       "1         694.766          1059.600         1754.366               0.0   \n",
       "\n",
       "   Migration test age Migration resistance  \n",
       "0                  28                  Low  \n",
       "1                  28             Moderate  "
      ]
     },
     "execution_count": 62,
     "metadata": {},
     "output_type": "execute_result"
    }
   ],
   "source": [
    "# Let us creat a data set after removing unecessary feature\n",
    "df3= df0.drop(columns=['Lime filler','Plasticizer','Air entraining'])\n",
    "df3.head(2)"
   ]
  },
  {
   "cell_type": "code",
   "execution_count": 63,
   "metadata": {},
   "outputs": [
    {
     "data": {
      "text/plain": [
       "High              97\n",
       "Low               33\n",
       "Very high         32\n",
       "Moderate          26\n",
       "Extremely high    16\n",
       "Name: Migration resistance, dtype: int64"
      ]
     },
     "execution_count": 63,
     "metadata": {},
     "output_type": "execute_result"
    }
   ],
   "source": [
    "df3['Migration resistance'].value_counts()"
   ]
  },
  {
   "cell_type": "markdown",
   "metadata": {},
   "source": [
    "## Encoding Categorical Data "
   ]
  },
  {
   "cell_type": "code",
   "execution_count": 64,
   "metadata": {},
   "outputs": [
    {
     "data": {
      "text/plain": [
       "w/b                     float64\n",
       "Water                   float64\n",
       "Cement type              object\n",
       "Cement                  float64\n",
       "Slag                    float64\n",
       "Fly ash                 float64\n",
       "Silica fume             float64\n",
       "Fine aggregate          float64\n",
       "Coarse aggregate        float64\n",
       "Total aggregate         float64\n",
       "Superplasticizer        float64\n",
       "Migration test age        int64\n",
       "Migration resistance     object\n",
       "dtype: object"
      ]
     },
     "execution_count": 64,
     "metadata": {},
     "output_type": "execute_result"
    }
   ],
   "source": [
    "# Examine  the data types of all features considered in the dataframe\n",
    "df3.dtypes"
   ]
  },
  {
   "cell_type": "markdown",
   "metadata": {},
   "source": [
    "It can be noticed that the data types of cement type and Migration resistance read as object. This is because the data of these features are non-numerical. The data type of this feature shall be transformed from non-numerical labels to numerical labels using label encoder."
   ]
  },
  {
   "cell_type": "markdown",
   "metadata": {},
   "source": [
    "Now let's convert a \"Cement type\" and \"Migration resistance\" column to a category as it is a prerequisite for encoding."
   ]
  },
  {
   "cell_type": "code",
   "execution_count": 65,
   "metadata": {},
   "outputs": [
    {
     "data": {
      "text/plain": [
       "w/b                      float64\n",
       "Water                    float64\n",
       "Cement type             category\n",
       "Cement                   float64\n",
       "Slag                     float64\n",
       "Fly ash                  float64\n",
       "Silica fume              float64\n",
       "Fine aggregate           float64\n",
       "Coarse aggregate         float64\n",
       "Total aggregate          float64\n",
       "Superplasticizer         float64\n",
       "Migration test age         int64\n",
       "Migration resistance    category\n",
       "dtype: object"
      ]
     },
     "execution_count": 65,
     "metadata": {},
     "output_type": "execute_result"
    }
   ],
   "source": [
    "df3 = df3.astype({\"Cement type\": \"category\", \"Migration resistance\": \"category\"})\n",
    "# Sanity check\n",
    "df3.dtypes"
   ]
  },
  {
   "cell_type": "markdown",
   "metadata": {},
   "source": [
    "Let's look at the cement type labels."
   ]
  },
  {
   "cell_type": "code",
   "execution_count": 66,
   "metadata": {},
   "outputs": [
    {
     "data": {
      "text/plain": [
       "[CEM I, CEM II/A-D, CEM II/A-V, CEM II/B-V, CEM III/A, CEM II/B-S, CEM IV/A]\n",
       "Categories (7, object): [CEM I, CEM II/A-D, CEM II/A-V, CEM II/B-V, CEM III/A, CEM II/B-S, CEM IV/A]"
      ]
     },
     "execution_count": 66,
     "metadata": {},
     "output_type": "execute_result"
    }
   ],
   "source": [
    "df3['Cement type'].unique()"
   ]
  },
  {
   "cell_type": "markdown",
   "metadata": {},
   "source": [
    "There are only seven different types of cement, which can be divided into four categories (CEM I, CEM II, CEM III, and CEM IV). Although they are divided into four major groups, there are no orders or scales for group numbering. As a result, the cement type categorical data is considered nominal rather than ordinal. When converting categorical data (with nominal data type) to numeric data, one-hot encoding is the best option. It assigns binary numbers to each category (0 or 1)."
   ]
  },
  {
   "cell_type": "markdown",
   "metadata": {},
   "source": [
    "Let us now investigate the class labels of the feature Migration resistance. "
   ]
  },
  {
   "cell_type": "code",
   "execution_count": 67,
   "metadata": {},
   "outputs": [
    {
     "data": {
      "text/plain": [
       "[Low, Moderate, High, Very high, Extremely high]\n",
       "Categories (5, object): [Low, Moderate, High, Very high, Extremely high]"
      ]
     },
     "execution_count": 67,
     "metadata": {},
     "output_type": "execute_result"
    }
   ],
   "source": [
    "df3['Migration resistance'].unique()"
   ]
  },
  {
   "cell_type": "markdown",
   "metadata": {},
   "source": [
    "Though label encoding techniques that encode labels with values ranging from 0 to no of class -1 are the best option for converting the labels of the feature \"Migration resistance\", they could be manually encoded to avoid random labeling."
   ]
  },
  {
   "cell_type": "markdown",
   "metadata": {},
   "source": [
    "### One-Hot Encoding for \"Cement type\""
   ]
  },
  {
   "cell_type": "code",
   "execution_count": 68,
   "metadata": {},
   "outputs": [
    {
     "data": {
      "text/html": [
       "<div>\n",
       "<style scoped>\n",
       "    .dataframe tbody tr th:only-of-type {\n",
       "        vertical-align: middle;\n",
       "    }\n",
       "\n",
       "    .dataframe tbody tr th {\n",
       "        vertical-align: top;\n",
       "    }\n",
       "\n",
       "    .dataframe thead th {\n",
       "        text-align: right;\n",
       "    }\n",
       "</style>\n",
       "<table border=\"1\" class=\"dataframe\">\n",
       "  <thead>\n",
       "    <tr style=\"text-align: right;\">\n",
       "      <th></th>\n",
       "      <th>w/b</th>\n",
       "      <th>Water</th>\n",
       "      <th>Cement</th>\n",
       "      <th>Slag</th>\n",
       "      <th>Fly ash</th>\n",
       "      <th>Silica fume</th>\n",
       "      <th>Fine aggregate</th>\n",
       "      <th>Coarse aggregate</th>\n",
       "      <th>Total aggregate</th>\n",
       "      <th>Superplasticizer</th>\n",
       "      <th>Migration test age</th>\n",
       "      <th>Migration resistance</th>\n",
       "      <th>Cement type_CEM I</th>\n",
       "      <th>Cement type_CEM II/A-D</th>\n",
       "      <th>Cement type_CEM II/A-V</th>\n",
       "      <th>Cement type_CEM II/B-S</th>\n",
       "      <th>Cement type_CEM II/B-V</th>\n",
       "      <th>Cement type_CEM III/A</th>\n",
       "      <th>Cement type_CEM IV/A</th>\n",
       "    </tr>\n",
       "  </thead>\n",
       "  <tbody>\n",
       "    <tr>\n",
       "      <th>0</th>\n",
       "      <td>0.55</td>\n",
       "      <td>192.5</td>\n",
       "      <td>350.0</td>\n",
       "      <td>0.0</td>\n",
       "      <td>0.0</td>\n",
       "      <td>0.0</td>\n",
       "      <td>699.988</td>\n",
       "      <td>1062.249</td>\n",
       "      <td>1762.237</td>\n",
       "      <td>0.0</td>\n",
       "      <td>28</td>\n",
       "      <td>Low</td>\n",
       "      <td>1</td>\n",
       "      <td>0</td>\n",
       "      <td>0</td>\n",
       "      <td>0</td>\n",
       "      <td>0</td>\n",
       "      <td>0</td>\n",
       "      <td>0</td>\n",
       "    </tr>\n",
       "    <tr>\n",
       "      <th>1</th>\n",
       "      <td>0.55</td>\n",
       "      <td>192.5</td>\n",
       "      <td>329.0</td>\n",
       "      <td>0.0</td>\n",
       "      <td>0.0</td>\n",
       "      <td>21.0</td>\n",
       "      <td>694.766</td>\n",
       "      <td>1059.600</td>\n",
       "      <td>1754.366</td>\n",
       "      <td>0.0</td>\n",
       "      <td>28</td>\n",
       "      <td>Moderate</td>\n",
       "      <td>0</td>\n",
       "      <td>1</td>\n",
       "      <td>0</td>\n",
       "      <td>0</td>\n",
       "      <td>0</td>\n",
       "      <td>0</td>\n",
       "      <td>0</td>\n",
       "    </tr>\n",
       "  </tbody>\n",
       "</table>\n",
       "</div>"
      ],
      "text/plain": [
       "    w/b  Water  Cement  Slag  Fly ash  Silica fume  Fine aggregate  \\\n",
       "0  0.55  192.5   350.0   0.0      0.0          0.0         699.988   \n",
       "1  0.55  192.5   329.0   0.0      0.0         21.0         694.766   \n",
       "\n",
       "   Coarse aggregate  Total aggregate  Superplasticizer  Migration test age  \\\n",
       "0          1062.249         1762.237               0.0                  28   \n",
       "1          1059.600         1754.366               0.0                  28   \n",
       "\n",
       "  Migration resistance  Cement type_CEM I  Cement type_CEM II/A-D  \\\n",
       "0                  Low                  1                       0   \n",
       "1             Moderate                  0                       1   \n",
       "\n",
       "   Cement type_CEM II/A-V  Cement type_CEM II/B-S  Cement type_CEM II/B-V  \\\n",
       "0                       0                       0                       0   \n",
       "1                       0                       0                       0   \n",
       "\n",
       "   Cement type_CEM III/A  Cement type_CEM IV/A  \n",
       "0                      0                     0  \n",
       "1                      0                     0  "
      ]
     },
     "execution_count": 68,
     "metadata": {},
     "output_type": "execute_result"
    }
   ],
   "source": [
    "# Convert the values in the Cem_type_cat column into one-hot encoded vectors\n",
    "df3=pd.get_dummies(df3, columns=[\"Cement type\"])\n",
    "df3.head(2)"
   ]
  },
  {
   "cell_type": "code",
   "execution_count": 69,
   "metadata": {},
   "outputs": [
    {
     "data": {
      "text/html": [
       "<div>\n",
       "<style scoped>\n",
       "    .dataframe tbody tr th:only-of-type {\n",
       "        vertical-align: middle;\n",
       "    }\n",
       "\n",
       "    .dataframe tbody tr th {\n",
       "        vertical-align: top;\n",
       "    }\n",
       "\n",
       "    .dataframe thead th {\n",
       "        text-align: right;\n",
       "    }\n",
       "</style>\n",
       "<table border=\"1\" class=\"dataframe\">\n",
       "  <thead>\n",
       "    <tr style=\"text-align: right;\">\n",
       "      <th></th>\n",
       "      <th>w/b</th>\n",
       "      <th>Water</th>\n",
       "      <th>Cement</th>\n",
       "      <th>Slag</th>\n",
       "      <th>Fly ash</th>\n",
       "      <th>Silica fume</th>\n",
       "      <th>Fine aggregate</th>\n",
       "      <th>Coarse aggregate</th>\n",
       "      <th>Total aggregate</th>\n",
       "      <th>Superplasticizer</th>\n",
       "      <th>Migration test age</th>\n",
       "      <th>Cement type_CEM I</th>\n",
       "      <th>Cement type_CEM II/A-D</th>\n",
       "      <th>Cement type_CEM II/A-V</th>\n",
       "      <th>Cement type_CEM II/B-S</th>\n",
       "      <th>Cement type_CEM II/B-V</th>\n",
       "      <th>Cement type_CEM III/A</th>\n",
       "      <th>Cement type_CEM IV/A</th>\n",
       "      <th>Migration resistance</th>\n",
       "    </tr>\n",
       "  </thead>\n",
       "  <tbody>\n",
       "    <tr>\n",
       "      <th>0</th>\n",
       "      <td>0.55</td>\n",
       "      <td>192.5</td>\n",
       "      <td>350.0</td>\n",
       "      <td>0.0</td>\n",
       "      <td>0.0</td>\n",
       "      <td>0.0</td>\n",
       "      <td>699.988</td>\n",
       "      <td>1062.249</td>\n",
       "      <td>1762.237</td>\n",
       "      <td>0.0</td>\n",
       "      <td>28</td>\n",
       "      <td>1</td>\n",
       "      <td>0</td>\n",
       "      <td>0</td>\n",
       "      <td>0</td>\n",
       "      <td>0</td>\n",
       "      <td>0</td>\n",
       "      <td>0</td>\n",
       "      <td>Low</td>\n",
       "    </tr>\n",
       "    <tr>\n",
       "      <th>1</th>\n",
       "      <td>0.55</td>\n",
       "      <td>192.5</td>\n",
       "      <td>329.0</td>\n",
       "      <td>0.0</td>\n",
       "      <td>0.0</td>\n",
       "      <td>21.0</td>\n",
       "      <td>694.766</td>\n",
       "      <td>1059.600</td>\n",
       "      <td>1754.366</td>\n",
       "      <td>0.0</td>\n",
       "      <td>28</td>\n",
       "      <td>0</td>\n",
       "      <td>1</td>\n",
       "      <td>0</td>\n",
       "      <td>0</td>\n",
       "      <td>0</td>\n",
       "      <td>0</td>\n",
       "      <td>0</td>\n",
       "      <td>Moderate</td>\n",
       "    </tr>\n",
       "  </tbody>\n",
       "</table>\n",
       "</div>"
      ],
      "text/plain": [
       "    w/b  Water  Cement  Slag  Fly ash  Silica fume  Fine aggregate  \\\n",
       "0  0.55  192.5   350.0   0.0      0.0          0.0         699.988   \n",
       "1  0.55  192.5   329.0   0.0      0.0         21.0         694.766   \n",
       "\n",
       "   Coarse aggregate  Total aggregate  Superplasticizer  Migration test age  \\\n",
       "0          1062.249         1762.237               0.0                  28   \n",
       "1          1059.600         1754.366               0.0                  28   \n",
       "\n",
       "   Cement type_CEM I  Cement type_CEM II/A-D  Cement type_CEM II/A-V  \\\n",
       "0                  1                       0                       0   \n",
       "1                  0                       1                       0   \n",
       "\n",
       "   Cement type_CEM II/B-S  Cement type_CEM II/B-V  Cement type_CEM III/A  \\\n",
       "0                       0                       0                      0   \n",
       "1                       0                       0                      0   \n",
       "\n",
       "   Cement type_CEM IV/A Migration resistance  \n",
       "0                     0                  Low  \n",
       "1                     0             Moderate  "
      ]
     },
     "execution_count": 69,
     "metadata": {},
     "output_type": "execute_result"
    }
   ],
   "source": [
    "#Shift column 'Migration resistance' to end position\n",
    "end_column = df3.pop('Migration resistance')\n",
    "\n",
    "# Determine the postion\n",
    "position_all_ing = len(df3.columns)\n",
    " \n",
    "# Insert column using insert(position,column_name,end_column) function\n",
    "\n",
    "df3.insert(position_all_ing, 'Migration resistance', end_column)\n",
    "df3.head(2)"
   ]
  },
  {
   "cell_type": "markdown",
   "metadata": {},
   "source": [
    "### Label encoding for \"Migration resistance\""
   ]
  },
  {
   "cell_type": "markdown",
   "metadata": {},
   "source": [
    "The labels Low, Moderate, High, Very High, and Extremely High are encoded as 0, 1, 2, 3, and 4, respectively. It makes sense if the algorithm interprets the resistance level as as 0 < 1 < 2 < 3 < 4, that is, Low < Moderate < High < Very high < Extremely high."
   ]
  },
  {
   "cell_type": "code",
   "execution_count": 70,
   "metadata": {},
   "outputs": [
    {
     "data": {
      "text/html": [
       "<div>\n",
       "<style scoped>\n",
       "    .dataframe tbody tr th:only-of-type {\n",
       "        vertical-align: middle;\n",
       "    }\n",
       "\n",
       "    .dataframe tbody tr th {\n",
       "        vertical-align: top;\n",
       "    }\n",
       "\n",
       "    .dataframe thead th {\n",
       "        text-align: right;\n",
       "    }\n",
       "</style>\n",
       "<table border=\"1\" class=\"dataframe\">\n",
       "  <thead>\n",
       "    <tr style=\"text-align: right;\">\n",
       "      <th></th>\n",
       "      <th>w/b</th>\n",
       "      <th>Water</th>\n",
       "      <th>Cement</th>\n",
       "      <th>Slag</th>\n",
       "      <th>Fly ash</th>\n",
       "      <th>Silica fume</th>\n",
       "      <th>Fine aggregate</th>\n",
       "      <th>Coarse aggregate</th>\n",
       "      <th>Total aggregate</th>\n",
       "      <th>Superplasticizer</th>\n",
       "      <th>Migration test age</th>\n",
       "      <th>Cement type_CEM I</th>\n",
       "      <th>Cement type_CEM II/A-D</th>\n",
       "      <th>Cement type_CEM II/A-V</th>\n",
       "      <th>Cement type_CEM II/B-S</th>\n",
       "      <th>Cement type_CEM II/B-V</th>\n",
       "      <th>Cement type_CEM III/A</th>\n",
       "      <th>Cement type_CEM IV/A</th>\n",
       "      <th>Migration resistance</th>\n",
       "    </tr>\n",
       "  </thead>\n",
       "  <tbody>\n",
       "    <tr>\n",
       "      <th>0</th>\n",
       "      <td>0.55</td>\n",
       "      <td>192.5</td>\n",
       "      <td>350.0</td>\n",
       "      <td>0.0</td>\n",
       "      <td>0.0</td>\n",
       "      <td>0.0</td>\n",
       "      <td>699.988</td>\n",
       "      <td>1062.249</td>\n",
       "      <td>1762.237</td>\n",
       "      <td>0.0</td>\n",
       "      <td>28</td>\n",
       "      <td>1</td>\n",
       "      <td>0</td>\n",
       "      <td>0</td>\n",
       "      <td>0</td>\n",
       "      <td>0</td>\n",
       "      <td>0</td>\n",
       "      <td>0</td>\n",
       "      <td>0</td>\n",
       "    </tr>\n",
       "    <tr>\n",
       "      <th>1</th>\n",
       "      <td>0.55</td>\n",
       "      <td>192.5</td>\n",
       "      <td>329.0</td>\n",
       "      <td>0.0</td>\n",
       "      <td>0.0</td>\n",
       "      <td>21.0</td>\n",
       "      <td>694.766</td>\n",
       "      <td>1059.600</td>\n",
       "      <td>1754.366</td>\n",
       "      <td>0.0</td>\n",
       "      <td>28</td>\n",
       "      <td>0</td>\n",
       "      <td>1</td>\n",
       "      <td>0</td>\n",
       "      <td>0</td>\n",
       "      <td>0</td>\n",
       "      <td>0</td>\n",
       "      <td>0</td>\n",
       "      <td>1</td>\n",
       "    </tr>\n",
       "  </tbody>\n",
       "</table>\n",
       "</div>"
      ],
      "text/plain": [
       "    w/b  Water  Cement  Slag  Fly ash  Silica fume  Fine aggregate  \\\n",
       "0  0.55  192.5   350.0   0.0      0.0          0.0         699.988   \n",
       "1  0.55  192.5   329.0   0.0      0.0         21.0         694.766   \n",
       "\n",
       "   Coarse aggregate  Total aggregate  Superplasticizer  Migration test age  \\\n",
       "0          1062.249         1762.237               0.0                  28   \n",
       "1          1059.600         1754.366               0.0                  28   \n",
       "\n",
       "   Cement type_CEM I  Cement type_CEM II/A-D  Cement type_CEM II/A-V  \\\n",
       "0                  1                       0                       0   \n",
       "1                  0                       1                       0   \n",
       "\n",
       "   Cement type_CEM II/B-S  Cement type_CEM II/B-V  Cement type_CEM III/A  \\\n",
       "0                       0                       0                      0   \n",
       "1                       0                       0                      0   \n",
       "\n",
       "   Cement type_CEM IV/A  Migration resistance  \n",
       "0                     0                     0  \n",
       "1                     0                     1  "
      ]
     },
     "execution_count": 70,
     "metadata": {},
     "output_type": "execute_result"
    }
   ],
   "source": [
    "# replacing values\n",
    "df3['Migration resistance'].replace(['Low', 'Moderate','High','Very high','Extremely high'],\n",
    "                        [0,1,2,3,4], inplace=True)\n",
    "df3.head(2)"
   ]
  },
  {
   "cell_type": "markdown",
   "metadata": {},
   "source": [
    "The value of the features Cement type and Migration resistance are now numerical rather than non-numerical. Indeed, because they are categorical features, the transformed data must also be converted to category data types.\n"
   ]
  },
  {
   "cell_type": "code",
   "execution_count": 71,
   "metadata": {},
   "outputs": [
    {
     "data": {
      "text/plain": [
       "w/b                        float64\n",
       "Water                      float64\n",
       "Cement                     float64\n",
       "Slag                       float64\n",
       "Fly ash                    float64\n",
       "Silica fume                float64\n",
       "Fine aggregate             float64\n",
       "Coarse aggregate           float64\n",
       "Total aggregate            float64\n",
       "Superplasticizer           float64\n",
       "Migration test age           int64\n",
       "Cement type_CEM I         category\n",
       "Cement type_CEM II/A-D    category\n",
       "Cement type_CEM II/A-V    category\n",
       "Cement type_CEM II/B-S    category\n",
       "Cement type_CEM II/B-V    category\n",
       "Cement type_CEM III/A     category\n",
       "Cement type_CEM IV/A      category\n",
       "Migration resistance      category\n",
       "dtype: object"
      ]
     },
     "execution_count": 71,
     "metadata": {},
     "output_type": "execute_result"
    }
   ],
   "source": [
    "# change the features into catagory\n",
    "df3 = df3.astype({\"Cement type_CEM I\": \"category\", \"Cement type_CEM II/A-D\": \"category\", \n",
    "                  \"Cement type_CEM II/A-V\": \"category\",\"Cement type_CEM II/B-S\": \"category\",\n",
    "                 \"Cement type_CEM II/B-V\": \"category\",\"Cement type_CEM III/A\": \"category\",\n",
    "                  \"Cement type_CEM IV/A\": \"category\",\"Migration resistance\": \"category\",\n",
    "                 })\n",
    "# Sanity check\n",
    "df3.dtypes"
   ]
  },
  {
   "cell_type": "markdown",
   "metadata": {},
   "source": [
    "## Outlier detection"
   ]
  },
  {
   "cell_type": "markdown",
   "metadata": {},
   "source": [
    "To isolate anomalies from the data, we'll use isolation forests, one of the most effective outlier detection algorithms. It creates partitions of the dataset by constructing an ensemble of Isolation Trees, with each data point isolated. "
   ]
  },
  {
   "cell_type": "code",
   "execution_count": 72,
   "metadata": {},
   "outputs": [
    {
     "name": "stdout",
     "output_type": "stream",
     "text": [
      "Before outliers removed: (204, 18) (204,)\n",
      "After outliers removed: (183, 18) (183,)\n"
     ]
    }
   ],
   "source": [
    "# split into input and output elements\n",
    "X_1, y_1 =df3.iloc[:, :-1], df3.iloc[:,-1]\n",
    "\n",
    "# identify outliers in the training dataset\n",
    "iso = IsolationForest(n_estimators=100, max_samples='auto', contamination=0.1, \\\n",
    "                        max_features=1.0, bootstrap=False, n_jobs=-1, random_state=42, verbose=0)\n",
    "y_pred = iso.fit_predict(X_1)\n",
    "\n",
    "# select all rows that are not outliers\n",
    "mask = y_pred != -1\n",
    "\n",
    "X, y = X_1.iloc[mask, :], y_1.iloc[mask]\n",
    "\n",
    "print('Before outliers removed:', X_1.shape, y_1.shape)\n",
    "\n",
    "print('After outliers removed:', X.shape, y.shape)"
   ]
  },
  {
   "cell_type": "code",
   "execution_count": 73,
   "metadata": {},
   "outputs": [
    {
     "data": {
      "text/html": [
       "<div>\n",
       "<style scoped>\n",
       "    .dataframe tbody tr th:only-of-type {\n",
       "        vertical-align: middle;\n",
       "    }\n",
       "\n",
       "    .dataframe tbody tr th {\n",
       "        vertical-align: top;\n",
       "    }\n",
       "\n",
       "    .dataframe thead th {\n",
       "        text-align: right;\n",
       "    }\n",
       "</style>\n",
       "<table border=\"1\" class=\"dataframe\">\n",
       "  <thead>\n",
       "    <tr style=\"text-align: right;\">\n",
       "      <th></th>\n",
       "      <th>w/b</th>\n",
       "      <th>Water</th>\n",
       "      <th>Cement</th>\n",
       "      <th>Slag</th>\n",
       "      <th>Fly ash</th>\n",
       "      <th>Silica fume</th>\n",
       "      <th>Fine aggregate</th>\n",
       "      <th>Coarse aggregate</th>\n",
       "      <th>Total aggregate</th>\n",
       "      <th>Superplasticizer</th>\n",
       "      <th>Migration test age</th>\n",
       "      <th>Cement type_CEM I</th>\n",
       "      <th>Cement type_CEM II/A-D</th>\n",
       "      <th>Cement type_CEM II/A-V</th>\n",
       "      <th>Cement type_CEM II/B-S</th>\n",
       "      <th>Cement type_CEM II/B-V</th>\n",
       "      <th>Cement type_CEM III/A</th>\n",
       "      <th>Cement type_CEM IV/A</th>\n",
       "      <th>Migration resistance</th>\n",
       "    </tr>\n",
       "  </thead>\n",
       "  <tbody>\n",
       "    <tr>\n",
       "      <th>0</th>\n",
       "      <td>0.55</td>\n",
       "      <td>192.5</td>\n",
       "      <td>350.0</td>\n",
       "      <td>0.0</td>\n",
       "      <td>0.0</td>\n",
       "      <td>0.0</td>\n",
       "      <td>699.988</td>\n",
       "      <td>1062.249</td>\n",
       "      <td>1762.237</td>\n",
       "      <td>0.0</td>\n",
       "      <td>28</td>\n",
       "      <td>1</td>\n",
       "      <td>0</td>\n",
       "      <td>0</td>\n",
       "      <td>0</td>\n",
       "      <td>0</td>\n",
       "      <td>0</td>\n",
       "      <td>0</td>\n",
       "      <td>0</td>\n",
       "    </tr>\n",
       "    <tr>\n",
       "      <th>1</th>\n",
       "      <td>0.55</td>\n",
       "      <td>192.5</td>\n",
       "      <td>329.0</td>\n",
       "      <td>0.0</td>\n",
       "      <td>0.0</td>\n",
       "      <td>21.0</td>\n",
       "      <td>694.766</td>\n",
       "      <td>1059.600</td>\n",
       "      <td>1754.366</td>\n",
       "      <td>0.0</td>\n",
       "      <td>28</td>\n",
       "      <td>0</td>\n",
       "      <td>1</td>\n",
       "      <td>0</td>\n",
       "      <td>0</td>\n",
       "      <td>0</td>\n",
       "      <td>0</td>\n",
       "      <td>0</td>\n",
       "      <td>1</td>\n",
       "    </tr>\n",
       "  </tbody>\n",
       "</table>\n",
       "</div>"
      ],
      "text/plain": [
       "    w/b  Water  Cement  Slag  Fly ash  Silica fume  Fine aggregate  \\\n",
       "0  0.55  192.5   350.0   0.0      0.0          0.0         699.988   \n",
       "1  0.55  192.5   329.0   0.0      0.0         21.0         694.766   \n",
       "\n",
       "   Coarse aggregate  Total aggregate  Superplasticizer  Migration test age  \\\n",
       "0          1062.249         1762.237               0.0                  28   \n",
       "1          1059.600         1754.366               0.0                  28   \n",
       "\n",
       "  Cement type_CEM I Cement type_CEM II/A-D Cement type_CEM II/A-V  \\\n",
       "0                 1                      0                      0   \n",
       "1                 0                      1                      0   \n",
       "\n",
       "  Cement type_CEM II/B-S Cement type_CEM II/B-V Cement type_CEM III/A  \\\n",
       "0                      0                      0                     0   \n",
       "1                      0                      0                     0   \n",
       "\n",
       "  Cement type_CEM IV/A Migration resistance  \n",
       "0                    0                    0  \n",
       "1                    0                    1  "
      ]
     },
     "execution_count": 73,
     "metadata": {},
     "output_type": "execute_result"
    }
   ],
   "source": [
    "df3.head(2)"
   ]
  },
  {
   "cell_type": "code",
   "execution_count": 74,
   "metadata": {},
   "outputs": [
    {
     "data": {
      "text/plain": [
       "Text(0, 0.5, 'Counts')"
      ]
     },
     "execution_count": 74,
     "metadata": {},
     "output_type": "execute_result"
    },
    {
     "data": {
      "image/png": "[encoded data removed]",
      "text/plain": [
       "<Figure size 432x288 with 1 Axes>"
      ]
     },
     "metadata": {
      "needs_background": "light"
     },
     "output_type": "display_data"
    }
   ],
   "source": [
    "# Visualize the distribution of class labels after outlier removed \n",
    "color = ['blue','orange', 'green', 'black','red']\n",
    "y.value_counts().plot(kind='bar', title='Distribution of lables after outliers removed', color = color);\n",
    "plt.xticks(rotation=0, horizontalalignment=\"center\")\n",
    "plt.xlabel(\"Resistance level\")\n",
    "plt.ylabel(\"Counts\")"
   ]
  },
  {
   "cell_type": "markdown",
   "metadata": {},
   "source": [
    "It can be observed that outliers ranging from 2 to 6 were detected from each class lable."
   ]
  },
  {
   "cell_type": "markdown",
   "metadata": {},
   "source": [
    "Due to the uneven distribution of the classes, the dataset is considered to be imbalanced. Having imbalanced data is one of the most difficult problems in machine learning classification tasks. Because the classifier model should not be geared towards only recognizing the majority class ,but should also give equal importance to the minority class. Therefore, the imbalanced data must first be resolved prior to model training."
   ]
  },
  {
   "cell_type": "markdown",
   "metadata": {},
   "source": [
    "## Handling imbalanced data"
   ]
  },
  {
   "cell_type": "markdown",
   "metadata": {},
   "source": [
    "Synthetic Minority Oversampling Technique or SMOTE cab be applied to address the problem of the imbalanced classes. This technique oversamples the minority class by simply generating data points on the line segment connecting a randomly chosen data point and one of its K-nearest neighbors."
   ]
  },
  {
   "cell_type": "code",
   "execution_count": 75,
   "metadata": {},
   "outputs": [
    {
     "name": "stdout",
     "output_type": "stream",
     "text": [
      "Class=0, n=91 (20.00%)\n",
      "Class=1, n=91 (20.00%)\n",
      "Class=2, n=91 (20.00%)\n",
      "Class=3, n=91 (20.00%)\n",
      "Class=4, n=91 (20.00%)\n"
     ]
    }
   ],
   "source": [
    "# transform the dataset to array\n",
    "X_arr = np.array(X) \n",
    "y_arr = np.array(y)\n",
    "\n",
    "oversample = SMOTE()\n",
    "X, y = oversample.fit_resample(X_arr, y_arr)\n",
    "\n",
    "# summarize distribution\n",
    "counter = Counter(y)\n",
    "for k,v in counter.items():\n",
    "    per = v / len(y) * 100\n",
    "    print('Class=%d, n=%d (%.2f%%)' % (k, v, per))   "
   ]
  },
  {
   "cell_type": "code",
   "execution_count": 76,
   "metadata": {},
   "outputs": [
    {
     "data": {
      "image/png": "[encoded data removed]",
      "text/plain": [
       "<Figure size 432x288 with 1 Axes>"
      ]
     },
     "metadata": {
      "needs_background": "light"
     },
     "output_type": "display_data"
    }
   ],
   "source": [
    "# plot the distribution\n",
    "plt.bar(counter.keys(), counter.values())\n",
    "plt.show()"
   ]
  },
  {
   "cell_type": "markdown",
   "metadata": {},
   "source": [
    "All minority classes have now been oversampled, and each class now has 91 presentations as of the majority of the class before treating the imbalance classes. "
   ]
  },
  {
   "cell_type": "markdown",
   "metadata": {},
   "source": [
    "## Feature Selection"
   ]
  },
  {
   "cell_type": "markdown",
   "metadata": {},
   "source": [
    "The embedded technique based on a random forest algorithm can be used to select relevant features from the dataset, since it combines the benefits of the filter and the wrapper approaches in terms of minimal computational effort and adequate accuracy. The random forest measures the importance of a feature as the averaged impurity decrease derived from all decision trees in the forest, without assuming anything about the data."
   ]
  },
  {
   "cell_type": "code",
   "execution_count": 77,
   "metadata": {},
   "outputs": [],
   "source": [
    "# Spit the data into training and test\n",
    "X_train, X_test, y_train, y_test = train_test_split(X, y, test_size=0.15, random_state=1)"
   ]
  },
  {
   "cell_type": "code",
   "execution_count": 78,
   "metadata": {},
   "outputs": [
    {
     "data": {
      "text/plain": [
       "Text(0.5, 0, 'Random Forest Feature Importance')"
      ]
     },
     "execution_count": 78,
     "metadata": {},
     "output_type": "execute_result"
    },
    {
     "data": {
      "image/png": "[encoded data removed]",
      "text/plain": [
       "<Figure size 432x288 with 1 Axes>"
      ]
     },
     "metadata": {
      "needs_background": "light"
     },
     "output_type": "display_data"
    }
   ],
   "source": [
    "# Train the model using RandomForestRegressor\n",
    "rf = RandomForestClassifier(n_estimators = 1000)\n",
    "rf.fit(X_train, y_train)\n",
    "\n",
    "# Determine feature importance values\n",
    "rf.feature_importances_\n",
    "\n",
    "# Let’s sort the plot the importances (chart will be easier to interpret than values).\n",
    "sorted_idx = rf.feature_importances_.argsort()\n",
    "plt.barh(df3.columns[sorted_idx], rf.feature_importances_[sorted_idx])\n",
    "plt.xlabel(\"Random Forest Feature Importance\")"
   ]
  },
  {
   "cell_type": "markdown",
   "metadata": {},
   "source": [
    "The measures of the feature importance added up to one. Binders (cement, fly ash, slag, and silica fume) collectively have the highest predictive power of the model, accounting for about 32 percent, followed by aggregates (fine, coarse, and total aggregate) at approximately 29 percent. The features w/b ratio, migration test age, and water account for about 13, 11 and 8 percent, respectively. The feature cement types are considered to be powerless predictors for the classification of concrete chloride resistance. "
   ]
  },
  {
   "cell_type": "markdown",
   "metadata": {},
   "source": [
    "Write the prediction in an Excel spreadsheet to visualize it with another tool.\n"
   ]
  },
  {
   "cell_type": "code",
   "execution_count": 79,
   "metadata": {},
   "outputs": [],
   "source": [
    "# Transform array to DataFrame\n",
    "Features = pd.DataFrame(df3.columns[sorted_idx])\n",
    "Score =  pd.DataFrame(rf.feature_importances_[sorted_idx])\n",
    "Feature_Importance = pd.concat([Features, Score], axis=1) \n",
    "\n",
    "# Write the prediction in an Excel sheet to visualize with another tool.\n",
    "\n",
    "Feature_Importance.to_excel(\"Feature_Importance_class.xlsx\",sheet_name='Corr')  "
   ]
  },
  {
   "cell_type": "markdown",
   "metadata": {},
   "source": [
    "Let's take into account all features except those that describe cement types, which have been found to be ineffective predictors by the applied feature selection process."
   ]
  },
  {
   "cell_type": "code",
   "execution_count": 80,
   "metadata": {},
   "outputs": [
    {
     "data": {
      "text/html": [
       "<div>\n",
       "<style scoped>\n",
       "    .dataframe tbody tr th:only-of-type {\n",
       "        vertical-align: middle;\n",
       "    }\n",
       "\n",
       "    .dataframe tbody tr th {\n",
       "        vertical-align: top;\n",
       "    }\n",
       "\n",
       "    .dataframe thead th {\n",
       "        text-align: right;\n",
       "    }\n",
       "</style>\n",
       "<table border=\"1\" class=\"dataframe\">\n",
       "  <thead>\n",
       "    <tr style=\"text-align: right;\">\n",
       "      <th></th>\n",
       "      <th>w/b</th>\n",
       "      <th>Water</th>\n",
       "      <th>Cement</th>\n",
       "      <th>Slag</th>\n",
       "      <th>Fly ash</th>\n",
       "      <th>Silica fume</th>\n",
       "      <th>Fine aggregate</th>\n",
       "      <th>Coarse aggregate</th>\n",
       "      <th>Total aggregate</th>\n",
       "      <th>Superplasticizer</th>\n",
       "      <th>Migration test age</th>\n",
       "      <th>Migration resistance</th>\n",
       "    </tr>\n",
       "  </thead>\n",
       "  <tbody>\n",
       "    <tr>\n",
       "      <th>0</th>\n",
       "      <td>0.55</td>\n",
       "      <td>192.5</td>\n",
       "      <td>350.0</td>\n",
       "      <td>0.0</td>\n",
       "      <td>0.0</td>\n",
       "      <td>0.0</td>\n",
       "      <td>699.988</td>\n",
       "      <td>1062.249</td>\n",
       "      <td>1762.237</td>\n",
       "      <td>0.0</td>\n",
       "      <td>28.0</td>\n",
       "      <td>0.0</td>\n",
       "    </tr>\n",
       "    <tr>\n",
       "      <th>1</th>\n",
       "      <td>0.35</td>\n",
       "      <td>157.5</td>\n",
       "      <td>450.0</td>\n",
       "      <td>0.0</td>\n",
       "      <td>0.0</td>\n",
       "      <td>0.0</td>\n",
       "      <td>821.943</td>\n",
       "      <td>940.395</td>\n",
       "      <td>1762.338</td>\n",
       "      <td>0.0</td>\n",
       "      <td>28.0</td>\n",
       "      <td>1.0</td>\n",
       "    </tr>\n",
       "  </tbody>\n",
       "</table>\n",
       "</div>"
      ],
      "text/plain": [
       "    w/b  Water  Cement  Slag  Fly ash  Silica fume  Fine aggregate  \\\n",
       "0  0.55  192.5   350.0   0.0      0.0          0.0         699.988   \n",
       "1  0.35  157.5   450.0   0.0      0.0          0.0         821.943   \n",
       "\n",
       "   Coarse aggregate  Total aggregate  Superplasticizer  Migration test age  \\\n",
       "0          1062.249         1762.237               0.0                28.0   \n",
       "1           940.395         1762.338               0.0                28.0   \n",
       "\n",
       "   Migration resistance  \n",
       "0                   0.0  \n",
       "1                   1.0  "
      ]
     },
     "execution_count": 80,
     "metadata": {},
     "output_type": "execute_result"
    }
   ],
   "source": [
    "# crate a DataFrame by horizonally stacking X and y\n",
    "df3_new=pd.DataFrame(np.hstack((X,np.array([y]).T)),columns=df3.columns)\n",
    "\n",
    "df3_new_1 = df3_new.loc[:,['w/b','Water','Cement', 'Slag', 'Fly ash', 'Silica fume', 'Fine aggregate', 'Coarse aggregate', \n",
    "                             'Total aggregate','Superplasticizer','Migration test age', 'Migration resistance']]\n",
    "\n",
    "df3_new_1.head(2)"
   ]
  },
  {
   "cell_type": "code",
   "execution_count": 81,
   "metadata": {},
   "outputs": [
    {
     "data": {
      "text/plain": [
       "(455, 12)"
      ]
     },
     "execution_count": 81,
     "metadata": {},
     "output_type": "execute_result"
    }
   ],
   "source": [
    "# check the shape of the DataFrame\n",
    "df3_new_1.shape"
   ]
  },
  {
   "cell_type": "code",
   "execution_count": 82,
   "metadata": {},
   "outputs": [
    {
     "data": {
      "text/plain": [
       "w/b                     float64\n",
       "Water                   float64\n",
       "Cement                  float64\n",
       "Slag                    float64\n",
       "Fly ash                 float64\n",
       "Silica fume             float64\n",
       "Fine aggregate          float64\n",
       "Coarse aggregate        float64\n",
       "Total aggregate         float64\n",
       "Superplasticizer        float64\n",
       "Migration test age      float64\n",
       "Migration resistance    float64\n",
       "dtype: object"
      ]
     },
     "execution_count": 82,
     "metadata": {},
     "output_type": "execute_result"
    }
   ],
   "source": [
    "# check the data type of the DataFrame\n",
    "df3_new_1.dtypes"
   ]
  },
  {
   "cell_type": "code",
   "execution_count": 83,
   "metadata": {},
   "outputs": [
    {
     "data": {
      "text/plain": [
       "w/b                      float64\n",
       "Water                    float64\n",
       "Cement                   float64\n",
       "Slag                     float64\n",
       "Fly ash                  float64\n",
       "Silica fume              float64\n",
       "Fine aggregate           float64\n",
       "Coarse aggregate         float64\n",
       "Total aggregate          float64\n",
       "Superplasticizer         float64\n",
       "Migration test age       float64\n",
       "Migration resistance    category\n",
       "dtype: object"
      ]
     },
     "execution_count": 83,
     "metadata": {},
     "output_type": "execute_result"
    }
   ],
   "source": [
    "# convert a DataFrame columns from object to float\n",
    "df3_new_1 = df3_new_1.astype(str).astype(float)\n",
    "\n",
    "# convert a DataFrame column \"Migration resistanc\" from float to category\n",
    "df3_new_1=df3_new_1.astype({'Migration resistance': 'category'})\n",
    "\n",
    "# Sanity check\n",
    "df3_new_1.dtypes"
   ]
  },
  {
   "cell_type": "code",
   "execution_count": 84,
   "metadata": {},
   "outputs": [],
   "source": [
    "# load input and target features\n",
    "X = df3_new_1.iloc[:,0:-1]\n",
    "y = df3_new_1.iloc[:,-1]"
   ]
  },
  {
   "cell_type": "markdown",
   "metadata": {},
   "source": [
    "## Feature scaling and data partitioning"
   ]
  },
  {
   "cell_type": "markdown",
   "metadata": {},
   "source": [
    "Let us first standardize the dataset because some of the learning algorithms that will be used, such as KNN and SVM, require feature scaling. Then split the dataset into two sets: training (80%) and test (20%). "
   ]
  },
  {
   "cell_type": "code",
   "execution_count": 85,
   "metadata": {},
   "outputs": [
    {
     "name": "stdout",
     "output_type": "stream",
     "text": [
      "Train set: (364, 11) (364,)\n",
      "Test set: (91, 11) (91,)\n"
     ]
    }
   ],
   "source": [
    "# Standardize features\n",
    "\n",
    "X= preprocessing.StandardScaler().fit(X).transform(X)\n",
    "\n",
    "# Split the data into training and test sets\n",
    "X_train, X_test, y_train, y_test = train_test_split( X, y, test_size=0.2, random_state=0)\n",
    "\n",
    "print ('Train set:', X_train.shape,  y_train.shape)\n",
    "print ('Test set:', X_test.shape,  y_test.shape)"
   ]
  },
  {
   "cell_type": "markdown",
   "metadata": {},
   "source": [
    "# Model Training"
   ]
  },
  {
   "cell_type": "markdown",
   "metadata": {},
   "source": [
    "## Naive Bayes"
   ]
  },
  {
   "cell_type": "code",
   "execution_count": 86,
   "metadata": {},
   "outputs": [
    {
     "name": "stdout",
     "output_type": "stream",
     "text": [
      "Fitting 5 folds for each of 14 candidates, totalling 70 fits\n"
     ]
    },
    {
     "name": "stderr",
     "output_type": "stream",
     "text": [
      "[Parallel(n_jobs=-1)]: Using backend LokyBackend with 4 concurrent workers.\n",
      "[Parallel(n_jobs=-1)]: Done  10 tasks      | elapsed:    0.9s\n",
      "[Parallel(n_jobs=-1)]: Done  70 out of  70 | elapsed:    1.1s finished\n"
     ]
    },
    {
     "name": "stdout",
     "output_type": "stream",
     "text": [
      "Best Score: 0.6647640791476408\n",
      "Best Param: {'var_smoothing': 0.01}\n",
      "Train Score: 0.6785714285714286\n",
      "Test Score: 0.6043956043956044\n",
      "KNN: Duration: 0:00:01.214303\n"
     ]
    }
   ],
   "source": [
    "start_time = datetime.now()\n",
    "\n",
    "from sklearn.naive_bayes import GaussianNB\n",
    "gaussian_nb = GaussianNB()\n",
    "\n",
    "param_grid_NB = {'var_smoothing': [1e-2, 1e-3, 1e-4, 1e-5, 1e-6, 1e-7, \n",
    "                                   1e-8, 1e-9, 1e-10, 1e-11, 1e-12, 1e-13, 1e-14, 1e-15]\n",
    "                }\n",
    "grid_search_model_NB = GridSearchCV(gaussian_nb, param_grid_NB, cv=5, verbose=5, return_train_score=True, n_jobs=-1)\n",
    "grid_search_model_NB.fit(X_train, y_train)\n",
    "\n",
    "print(f'Best Score: {grid_search_model_NB.best_score_}')\n",
    "print(f'Best Param: {grid_search_model_NB.best_params_}')\n",
    "\n",
    "## fitting the best model\n",
    "best_model_NB = grid_search_model_NB.best_estimator_\n",
    "\n",
    "best_model_NB.fit(X_train, y_train)\n",
    "end_time = datetime.now()\n",
    "\n",
    "print(f'Train Score: {best_model_NB.score(X_train, y_train)}')\n",
    "print(f'Test Score: {best_model_NB.score(X_test, y_test)}')\n",
    "print('KNN: Duration: {}'.format(end_time - start_time))\n"
   ]
  },
  {
   "cell_type": "code",
   "execution_count": 87,
   "metadata": {},
   "outputs": [
    {
     "data": {
      "text/plain": [
       "<matplotlib.colorbar.Colorbar at 0x18c5bdab4c8>"
      ]
     },
     "execution_count": 87,
     "metadata": {},
     "output_type": "execute_result"
    },
    {
     "data": {
      "image/png": "[encoded data removed]",
      "text/plain": [
       "<Figure size 576x432 with 2 Axes>"
      ]
     },
     "metadata": {
      "needs_background": "light"
     },
     "output_type": "display_data"
    }
   ],
   "source": [
    "Class_labels = ['Low', 'Moderate', 'High', 'Very high','Extremely high']\n",
    "plt.figure(figsize = (8,6))\n",
    "scores_image = mglearn.tools.heatmap(\n",
    "    confusion_matrix(y_test, best_model_NB.predict(X_test)), xlabel='Predicted label',\n",
    "    ylabel='True label', xticklabels=Class_labels,\n",
    "    yticklabels=Class_labels, cmap=plt.cm.afmhot_r, fmt=\"%d\")\n",
    "plt.title('Scenario 2: Naive Bayes \\nAccuracy:{0:.2f}'.format(accuracy_score(y_test, best_model_NB.predict(X_test))))\n",
    "plt.gca().invert_yaxis()\n",
    "plt.colorbar(scores_image)"
   ]
  },
  {
   "cell_type": "code",
   "execution_count": 88,
   "metadata": {},
   "outputs": [
    {
     "name": "stdout",
     "output_type": "stream",
     "text": [
      "                precision    recall  f1-score   support\n",
      "\n",
      "           Low       0.59      0.94      0.73        17\n",
      "      Moderate       0.69      0.55      0.61        20\n",
      "          High       0.77      0.48      0.59        21\n",
      "     Very high       0.36      0.31      0.33        16\n",
      "Extremely high       0.62      0.76      0.68        17\n",
      "\n",
      "      accuracy                           0.60        91\n",
      "     macro avg       0.61      0.61      0.59        91\n",
      "  weighted avg       0.62      0.60      0.59        91\n",
      "\n"
     ]
    }
   ],
   "source": [
    "print (metrics.classification_report(y_test, best_model_NB.predict(X_test),target_names=Class_labels ))"
   ]
  },
  {
   "cell_type": "code",
   "execution_count": 89,
   "metadata": {},
   "outputs": [
    {
     "data": {
      "image/png": "[encoded data removed]",
      "text/plain": [
       "<Figure size 432x288 with 1 Axes>"
      ]
     },
     "metadata": {
      "needs_background": "light"
     },
     "output_type": "display_data"
    }
   ],
   "source": [
    "from scipy import interp\n",
    "import matplotlib.pyplot as plt\n",
    "from sklearn.metrics import roc_curve, auc\n",
    "\n",
    "# number of classes\n",
    "n_classes = len(np.unique(y_test))\n",
    "\n",
    "pred_prob_NB = best_model_NB.predict_proba(X_test)\n",
    "\n",
    "# roc curve for classes\n",
    "fpr = {}\n",
    "tpr = {}\n",
    "thresh ={}\n",
    "roc_auc = {}\n",
    "\n",
    "for i in range(n_classes):    \n",
    "    fpr[i], tpr[i], thresh[i] = roc_curve(y_test, pred_prob_NB[:,i], pos_label=i)\n",
    "    roc_auc[i] = auc( fpr[i], tpr[i])\n",
    "    \n",
    "    \n",
    "for i in range(n_classes):\n",
    "    plt.plot(fpr[i], tpr[i], label='ROC curve of class {0} (AUC = {1:0.2f})'\n",
    "                                   ''.format(i, roc_auc[i]))\n",
    "\n",
    "plt.plot([0, 1], [0, 1], 'k--')\n",
    "plt.xlim([-0.05, 1.0])\n",
    "plt.ylim([0.0, 1.05])\n",
    "plt.xlabel('False Positive Rate')\n",
    "plt.ylabel('True Positive Rate')\n",
    "plt.title('Scenario 2: Naïve Bayes')\n",
    "plt.legend(loc=\"lower right\")\n",
    "plt.show()"
   ]
  },
  {
   "cell_type": "code",
   "execution_count": 90,
   "metadata": {},
   "outputs": [
    {
     "name": "stdout",
     "output_type": "stream",
     "text": [
      "One-vs-One AUROC scores:\n",
      "0.8715 (macro),\n",
      "0.8703 (weighted by prevalence)\n",
      "One-vs-Rest AUROC scores:\n",
      "0.8696 (macro),\n",
      "0.8687 (weighted by prevalence)\n"
     ]
    }
   ],
   "source": [
    "# One-vs-One\n",
    "macro_roc_auc_ovo = roc_auc_score(y_test, pred_prob_NB, multi_class=\"ovo\", average=\"macro\")\n",
    "weighted_roc_auc_ovo = roc_auc_score(y_test, pred_prob_NB, multi_class=\"ovo\", average=\"weighted\")\n",
    "\n",
    "# One-vs-Rest\n",
    "macro_roc_auc_ovr = roc_auc_score(y_test, pred_prob_NB, multi_class=\"ovr\", average=\"macro\")\n",
    "weighted_roc_auc_ovr = roc_auc_score(y_test, pred_prob_NB, multi_class=\"ovr\", average=\"weighted\")\n",
    "\n",
    "print(\"One-vs-One AUROC scores:\\n{:.4f} (macro),\\n{:.4f} \"\n",
    "        \"(weighted by prevalence)\".format(macro_roc_auc_ovo, weighted_roc_auc_ovo))\n",
    "\n",
    "print(\"One-vs-Rest AUROC scores:\\n{:.4f} (macro),\\n{:.4f} \"\n",
    "        \"(weighted by prevalence)\".format(macro_roc_auc_ovr, weighted_roc_auc_ovr))"
   ]
  },
  {
   "cell_type": "markdown",
   "metadata": {},
   "source": [
    "## k-Nearest Neighbors"
   ]
  },
  {
   "cell_type": "code",
   "execution_count": 91,
   "metadata": {},
   "outputs": [
    {
     "name": "stdout",
     "output_type": "stream",
     "text": [
      "Best Score: 0.8900684931506848\n",
      "Best Param: {'n_neighbors': 1, 'weights': 'uniform'}\n",
      "Train Score: 1.0\n",
      "Test Score: 0.8681318681318682\n",
      "KNN: Duration: 0:00:03.124210\n"
     ]
    }
   ],
   "source": [
    "start_time = datetime.now()\n",
    "\n",
    "from sklearn.neighbors import KNeighborsClassifier\n",
    "\n",
    "#Prepare and train the model\n",
    "\n",
    "knn = KNeighborsClassifier()\n",
    "\n",
    "## grid search to find the best model parameter\n",
    "\n",
    "param_grid_knn= [{'n_neighbors': list(range(1, 40)), \n",
    "                  'weights':  ['uniform', 'distance']}]\n",
    "\n",
    "grid_search_model_knn = GridSearchCV(knn, param_grid_knn, cv=5, return_train_score=True, n_jobs=-1)\n",
    "grid_search_model_knn.fit(X_train, y_train)\n",
    "\n",
    "\n",
    "print(f'Best Score: {grid_search_model_knn.best_score_}')\n",
    "print(f'Best Param: {grid_search_model_knn.best_params_}')\n",
    "\n",
    "## fitting the best model\n",
    "best_model_KNN = grid_search_model_knn.best_estimator_\n",
    "\n",
    "best_model_KNN.fit(X_train, y_train)\n",
    "end_time = datetime.now()\n",
    "\n",
    "print(f'Train Score: {best_model_KNN.score(X_train, y_train)}')\n",
    "print(f'Test Score: {best_model_KNN.score(X_test, y_test)}')\n",
    "print('KNN: Duration: {}'.format(end_time - start_time))\n"
   ]
  },
  {
   "cell_type": "code",
   "execution_count": 92,
   "metadata": {},
   "outputs": [
    {
     "data": {
      "text/plain": [
       "<matplotlib.colorbar.Colorbar at 0x18c5bf69a48>"
      ]
     },
     "execution_count": 92,
     "metadata": {},
     "output_type": "execute_result"
    },
    {
     "data": {
      "image/png": "[encoded data removed]",
      "text/plain": [
       "<Figure size 576x432 with 2 Axes>"
      ]
     },
     "metadata": {
      "needs_background": "light"
     },
     "output_type": "display_data"
    }
   ],
   "source": [
    "Class_labels = ['Low', 'Moderate', 'High', 'Very high','Extremely high']\n",
    "plt.figure(figsize = (8,6))\n",
    "scores_image = mglearn.tools.heatmap(\n",
    "    confusion_matrix(y_test, best_model_KNN.predict(X_test)), xlabel='Predicted label',\n",
    "    ylabel='True label', xticklabels=Class_labels,\n",
    "    yticklabels=Class_labels, cmap=plt.cm.afmhot_r, fmt=\"%d\")\n",
    "plt.title('Scenario 2: k-Nearest Neighbors \\nAccuracy:{0:.2f}'.format(accuracy_score(y_test, best_model_KNN.predict(X_test))))\n",
    "plt.gca().invert_yaxis()\n",
    "plt.colorbar(scores_image)"
   ]
  },
  {
   "cell_type": "code",
   "execution_count": 93,
   "metadata": {},
   "outputs": [
    {
     "name": "stdout",
     "output_type": "stream",
     "text": [
      "                precision    recall  f1-score   support\n",
      "\n",
      "           Low       0.94      1.00      0.97        17\n",
      "      Moderate       0.79      0.95      0.86        20\n",
      "          High       0.81      0.62      0.70        21\n",
      "     Very high       0.82      0.88      0.85        16\n",
      "Extremely high       1.00      0.94      0.97        17\n",
      "\n",
      "      accuracy                           0.87        91\n",
      "     macro avg       0.87      0.88      0.87        91\n",
      "  weighted avg       0.87      0.87      0.86        91\n",
      "\n"
     ]
    }
   ],
   "source": [
    "print (metrics.classification_report(y_test, best_model_KNN.predict(X_test),target_names=Class_labels ))"
   ]
  },
  {
   "cell_type": "code",
   "execution_count": 94,
   "metadata": {},
   "outputs": [
    {
     "data": {
      "image/png": "[encoded data removed]",
      "text/plain": [
       "<Figure size 432x288 with 1 Axes>"
      ]
     },
     "metadata": {
      "needs_background": "light"
     },
     "output_type": "display_data"
    }
   ],
   "source": [
    "from scipy import interp\n",
    "import matplotlib.pyplot as plt\n",
    "from sklearn.metrics import roc_curve, auc\n",
    "\n",
    "# number of classes\n",
    "n_classes = len(np.unique(y_test))\n",
    "\n",
    "pred_prob_KNN = best_model_KNN.predict_proba(X_test)\n",
    "\n",
    "# roc curve for classes\n",
    "fpr = {}\n",
    "tpr = {}\n",
    "thresh ={}\n",
    "roc_auc = {}\n",
    "\n",
    "for i in range(n_classes):    \n",
    "    fpr[i], tpr[i], thresh[i] = roc_curve(y_test, pred_prob_KNN[:,i], pos_label=i)\n",
    "    roc_auc[i] = auc( fpr[i], tpr[i])\n",
    "    \n",
    "    \n",
    "for i in range(n_classes):\n",
    "    plt.plot(fpr[i], tpr[i], label='ROC curve of class {0} (AUC = {1:0.2f})'\n",
    "                                   ''.format(i, roc_auc[i]))\n",
    "\n",
    "plt.plot([0, 1], [0, 1], 'k--')\n",
    "plt.xlim([-0.05, 1.0])\n",
    "plt.ylim([0.0, 1.05])\n",
    "plt.xlabel('False Positive Rate')\n",
    "plt.ylabel('True Positive Rate')\n",
    "plt.title('Scenario 2: k-Nearest Neighbors')\n",
    "plt.legend(loc=\"lower right\")\n",
    "plt.show()"
   ]
  },
  {
   "cell_type": "code",
   "execution_count": 95,
   "metadata": {},
   "outputs": [
    {
     "name": "stdout",
     "output_type": "stream",
     "text": [
      "One-vs-One AUROC scores:\n",
      "0.9232 (macro),\n",
      "0.9206 (weighted by prevalence)\n",
      "One-vs-Rest AUROC scores:\n",
      "0.9218 (macro),\n",
      "0.9166 (weighted by prevalence)\n"
     ]
    }
   ],
   "source": [
    "# One-vs-One\n",
    "macro_roc_auc_ovo = roc_auc_score(y_test, pred_prob_KNN, multi_class=\"ovo\", average=\"macro\")\n",
    "weighted_roc_auc_ovo = roc_auc_score(y_test, pred_prob_KNN, multi_class=\"ovo\", average=\"weighted\")\n",
    "\n",
    "# One-vs-Rest\n",
    "macro_roc_auc_ovr = roc_auc_score(y_test, pred_prob_KNN, multi_class=\"ovr\", average=\"macro\")\n",
    "weighted_roc_auc_ovr = roc_auc_score(y_test, pred_prob_KNN, multi_class=\"ovr\", average=\"weighted\")\n",
    "\n",
    "print(\"One-vs-One AUROC scores:\\n{:.4f} (macro),\\n{:.4f} \"\n",
    "        \"(weighted by prevalence)\".format(macro_roc_auc_ovo, weighted_roc_auc_ovo))\n",
    "\n",
    "print(\"One-vs-Rest AUROC scores:\\n{:.4f} (macro),\\n{:.4f} \"\n",
    "        \"(weighted by prevalence)\".format(macro_roc_auc_ovr, weighted_roc_auc_ovr))"
   ]
  },
  {
   "cell_type": "markdown",
   "metadata": {},
   "source": [
    "## Decision Tree "
   ]
  },
  {
   "cell_type": "code",
   "execution_count": 96,
   "metadata": {},
   "outputs": [
    {
     "name": "stdout",
     "output_type": "stream",
     "text": [
      "Best Score: 0.8517884322678843\n",
      "Best Param: {'ccp_alpha': 0.001, 'criterion': 'entropy', 'max_depth': 500, 'min_samples_leaf': 3, 'min_samples_split': 5}\n",
      "Train Score: 0.9340659340659341\n",
      "Test Score: 0.8131868131868132\n",
      "DT: Duration: 0:00:15.012394\n"
     ]
    }
   ],
   "source": [
    "start_time = datetime.now()\n",
    "\n",
    "#Prepare and train the model\n",
    "\n",
    "DT=DecisionTreeClassifier()\n",
    "\n",
    "\n",
    "## grid search to find the best model parameter\n",
    "\n",
    "param_grid_dt = [{'criterion': ['entropy', 'gini'], \n",
    "                  'ccp_alpha': [0.1, 0.01, 0.001],\n",
    "                    'max_depth': ['none', 5, 6, 7, 8, 9, 10, 20, 40, 100, 200, 500],\n",
    "                   'min_samples_split': [2, 5, 10],\n",
    "                     'min_samples_leaf': [1,2,3,4,5,6]}]\n",
    "\n",
    "grid_search_model_dt = GridSearchCV(DT, param_grid_dt, cv=5, return_train_score=True, n_jobs=-1)\n",
    "grid_search_model_dt.fit(X_train, y_train)\n",
    "\n",
    "\n",
    "print(f'Best Score: {grid_search_model_dt.best_score_}')\n",
    "print(f'Best Param: {grid_search_model_dt.best_params_}')\n",
    "\n",
    "## fitting the best model\n",
    "best_model_dt = grid_search_model_dt.best_estimator_\n",
    "\n",
    "best_model_dt.fit(X_train, y_train)\n",
    "end_time = datetime.now()\n",
    "\n",
    "print(f'Train Score: {best_model_dt.score(X_train, y_train)}')\n",
    "print(f'Test Score: {best_model_dt.score(X_test, y_test)}')\n",
    "print('DT: Duration: {}'.format(end_time - start_time))"
   ]
  },
  {
   "cell_type": "code",
   "execution_count": 97,
   "metadata": {},
   "outputs": [
    {
     "data": {
      "text/plain": [
       "<matplotlib.colorbar.Colorbar at 0x18c5c231488>"
      ]
     },
     "execution_count": 97,
     "metadata": {},
     "output_type": "execute_result"
    },
    {
     "data": {
      "image/png": "[encoded data removed]",
      "text/plain": [
       "<Figure size 576x432 with 2 Axes>"
      ]
     },
     "metadata": {
      "needs_background": "light"
     },
     "output_type": "display_data"
    }
   ],
   "source": [
    "Class_labels = ['Low', 'Moderate', 'High', 'Very high','Extremely high']\n",
    "plt.figure(figsize = (8,6))\n",
    "scores_image = mglearn.tools.heatmap(\n",
    "    confusion_matrix(y_test, best_model_dt.predict(X_test)), xlabel='Predicted label',\n",
    "    ylabel='True label', xticklabels=Class_labels,\n",
    "    yticklabels=Class_labels, cmap=plt.cm.afmhot_r, fmt=\"%d\")\n",
    "plt.title('Scenario 2: Decision Tree \\nAccuracy:{0:.2f}'.format(accuracy_score(y_test, best_model_dt.predict(X_test))))\n",
    "plt.gca().invert_yaxis()\n",
    "plt.colorbar(scores_image)"
   ]
  },
  {
   "cell_type": "code",
   "execution_count": 98,
   "metadata": {},
   "outputs": [
    {
     "name": "stdout",
     "output_type": "stream",
     "text": [
      "                precision    recall  f1-score   support\n",
      "\n",
      "           Low       0.89      1.00      0.94        17\n",
      "      Moderate       0.93      0.70      0.80        20\n",
      "          High       0.64      0.76      0.70        21\n",
      "     Very high       0.72      0.81      0.76        16\n",
      "Extremely high       1.00      0.82      0.90        17\n",
      "\n",
      "      accuracy                           0.81        91\n",
      "     macro avg       0.84      0.82      0.82        91\n",
      "  weighted avg       0.83      0.81      0.82        91\n",
      "\n"
     ]
    }
   ],
   "source": [
    "print (metrics.classification_report(y_test, best_model_dt.predict(X_test),target_names=Class_labels))"
   ]
  },
  {
   "cell_type": "code",
   "execution_count": 99,
   "metadata": {},
   "outputs": [
    {
     "data": {
      "image/png": "[encoded data removed]",
      "text/plain": [
       "<Figure size 432x288 with 1 Axes>"
      ]
     },
     "metadata": {
      "needs_background": "light"
     },
     "output_type": "display_data"
    }
   ],
   "source": [
    "from scipy import interp\n",
    "import matplotlib.pyplot as plt\n",
    "from sklearn.metrics import roc_curve, auc\n",
    "\n",
    "# number of classes\n",
    "n_classes = len(np.unique(y_test))\n",
    "\n",
    "pred_prob_dt = best_model_dt.predict_proba(X_test)\n",
    "\n",
    "# roc curve for classes\n",
    "fpr = {}\n",
    "tpr = {}\n",
    "thresh ={}\n",
    "roc_auc = {}\n",
    "\n",
    "for i in range(n_classes):    \n",
    "    fpr[i], tpr[i], thresh[i] = roc_curve(y_test, pred_prob_KNN[:,i], pos_label=i)\n",
    "    roc_auc[i] = auc( fpr[i], tpr[i])\n",
    "    \n",
    "    \n",
    "for i in range(n_classes):\n",
    "    plt.plot(fpr[i], tpr[i], label='ROC curve of class {0} (AUC = {1:0.2f})'\n",
    "                                   ''.format(i, roc_auc[i]))\n",
    "\n",
    "plt.plot([0, 1], [0, 1], 'k--')\n",
    "plt.xlim([-0.05, 1.0])\n",
    "plt.ylim([0.0, 1.05])\n",
    "plt.xlabel('False Positive Rate')\n",
    "plt.ylabel('True Positive Rate')\n",
    "plt.title('Scenario 2: Decision Tree')\n",
    "plt.legend(loc=\"lower right\")\n",
    "plt.show()"
   ]
  },
  {
   "cell_type": "code",
   "execution_count": 100,
   "metadata": {},
   "outputs": [
    {
     "name": "stdout",
     "output_type": "stream",
     "text": [
      "One-vs-One AUROC scores:\n",
      "0.9184 (macro),\n",
      "0.9174 (weighted by prevalence)\n",
      "One-vs-Rest AUROC scores:\n",
      "0.9176 (macro),\n",
      "0.9161 (weighted by prevalence)\n"
     ]
    }
   ],
   "source": [
    "# One-vs-One\n",
    "macro_roc_auc_ovo = roc_auc_score(y_test, pred_prob_dt, multi_class=\"ovo\", average=\"macro\")\n",
    "weighted_roc_auc_ovo = roc_auc_score(y_test, pred_prob_dt, multi_class=\"ovo\", average=\"weighted\")\n",
    "\n",
    "# One-vs-Rest\n",
    "macro_roc_auc_ovr = roc_auc_score(y_test, pred_prob_dt, multi_class=\"ovr\", average=\"macro\")\n",
    "weighted_roc_auc_ovr = roc_auc_score(y_test, pred_prob_dt, multi_class=\"ovr\", average=\"weighted\")\n",
    "\n",
    "print(\"One-vs-One AUROC scores:\\n{:.4f} (macro),\\n{:.4f} \"\n",
    "        \"(weighted by prevalence)\".format(macro_roc_auc_ovo, weighted_roc_auc_ovo))\n",
    "\n",
    "print(\"One-vs-Rest AUROC scores:\\n{:.4f} (macro),\\n{:.4f} \"\n",
    "        \"(weighted by prevalence)\".format(macro_roc_auc_ovr, weighted_roc_auc_ovr))"
   ]
  },
  {
   "cell_type": "markdown",
   "metadata": {},
   "source": [
    "## Suport Vector Machine"
   ]
  },
  {
   "cell_type": "code",
   "execution_count": 101,
   "metadata": {},
   "outputs": [
    {
     "name": "stdout",
     "output_type": "stream",
     "text": [
      "Best Score: 0.9065449010654489\n",
      "Best Param: {'C': 100, 'gamma': 0.1, 'kernel': 'rbf'}\n",
      "Train Score: 0.9917582417582418\n",
      "Test Score: 0.8901098901098901\n",
      "SVM: Duration: 0:00:05.047103\n"
     ]
    }
   ],
   "source": [
    "start_time = datetime.now()\n",
    "\n",
    "\n",
    "from sklearn.svm import SVC\n",
    "\n",
    "#Prepare and train the model\n",
    "\n",
    "svm = SVC(probability=True)\n",
    "\n",
    "## grid search to find the best model parameter\n",
    "\n",
    "param_grid_svm = [{'kernel': ['rbf'],\n",
    "               'C': [0.001, 0.01, 0.1, 1, 10, 100],\n",
    "               'gamma': [0.001, 0.01, 0.1, 1, 10, 100]},\n",
    "              {'kernel': ['linear'],\n",
    "               'C': [0.001, 0.01, 0.1, 1, 10, 100]}]\n",
    "\n",
    "grid_search_model_svm = GridSearchCV(svm, param_grid_svm, cv=5, return_train_score=True, n_jobs=-1)\n",
    "grid_search_model_svm.fit(X_train, y_train)\n",
    "\n",
    "\n",
    "print(f'Best Score: {grid_search_model_svm.best_score_}')\n",
    "print(f'Best Param: {grid_search_model_svm.best_params_}')\n",
    "\n",
    "## fitting the best model\n",
    "best_model_svm = grid_search_model_svm.best_estimator_\n",
    "\n",
    "best_model_svm.fit(X_train, y_train)\n",
    "end_time = datetime.now()\n",
    "\n",
    "print(f'Train Score: {best_model_svm.score(X_train, y_train)}')\n",
    "print(f'Test Score: {best_model_svm.score(X_test, y_test)}')\n",
    "print('SVM: Duration: {}'.format(end_time - start_time))\n"
   ]
  },
  {
   "cell_type": "code",
   "execution_count": 102,
   "metadata": {},
   "outputs": [
    {
     "data": {
      "text/plain": [
       "<matplotlib.colorbar.Colorbar at 0x18c5be6af48>"
      ]
     },
     "execution_count": 102,
     "metadata": {},
     "output_type": "execute_result"
    },
    {
     "data": {
      "image/png": "[encoded data removed]",
      "text/plain": [
       "<Figure size 576x432 with 2 Axes>"
      ]
     },
     "metadata": {
      "needs_background": "light"
     },
     "output_type": "display_data"
    }
   ],
   "source": [
    "Class_labels = ['Low', 'Moderate', 'High', 'Very high','Extremely high']\n",
    "plt.figure(figsize = (8,6))\n",
    "scores_image = mglearn.tools.heatmap(\n",
    "    confusion_matrix(y_test, best_model_svm.predict(X_test)), xlabel='Predicted label',\n",
    "    ylabel='True label', xticklabels=Class_labels,\n",
    "    yticklabels=Class_labels, cmap=plt.cm.afmhot_r, fmt=\"%d\")\n",
    "plt.title('Scenario 2: Suport Vector Machine \\nAccuracy:{0:.2f}'.format(accuracy_score(y_test, best_model_svm.predict(X_test))))\n",
    "plt.gca().invert_yaxis()\n",
    "plt.colorbar(scores_image)"
   ]
  },
  {
   "cell_type": "code",
   "execution_count": 103,
   "metadata": {},
   "outputs": [
    {
     "name": "stdout",
     "output_type": "stream",
     "text": [
      "                precision    recall  f1-score   support\n",
      "\n",
      "           Low       1.00      1.00      1.00        17\n",
      "      Moderate       0.85      0.85      0.85        20\n",
      "          High       0.80      0.76      0.78        21\n",
      "     Very high       0.88      0.88      0.88        16\n",
      "Extremely high       0.94      1.00      0.97        17\n",
      "\n",
      "      accuracy                           0.89        91\n",
      "     macro avg       0.89      0.90      0.90        91\n",
      "  weighted avg       0.89      0.89      0.89        91\n",
      "\n"
     ]
    }
   ],
   "source": [
    "print (metrics.classification_report(y_test, best_model_svm.predict(X_test),target_names=Class_labels ))"
   ]
  },
  {
   "cell_type": "code",
   "execution_count": 104,
   "metadata": {},
   "outputs": [
    {
     "data": {
      "image/png": "[encoded data removed]",
      "text/plain": [
       "<Figure size 432x288 with 1 Axes>"
      ]
     },
     "metadata": {
      "needs_background": "light"
     },
     "output_type": "display_data"
    }
   ],
   "source": [
    "from scipy import interp\n",
    "import matplotlib.pyplot as plt\n",
    "from sklearn.metrics import roc_curve, auc\n",
    "\n",
    "# number of classes\n",
    "n_classes = len(np.unique(y_test))\n",
    "\n",
    "pred_prob_svm = best_model_svm.predict_proba(X_test)\n",
    "\n",
    "# roc curve for classes\n",
    "fpr = {}\n",
    "tpr = {}\n",
    "thresh ={}\n",
    "roc_auc = {}\n",
    "\n",
    "for i in range(n_classes):    \n",
    "    fpr[i], tpr[i], thresh[i] = roc_curve(y_test, pred_prob_svm[:,i], pos_label=i)\n",
    "    roc_auc[i] = auc( fpr[i], tpr[i])\n",
    "    \n",
    "    \n",
    "for i in range(n_classes):\n",
    "    plt.plot(fpr[i], tpr[i], label='ROC curve of class {0} (AUC = {1:0.2f})'\n",
    "                                   ''.format(i, roc_auc[i]))\n",
    "\n",
    "plt.plot([0, 1], [0, 1], 'k--')\n",
    "plt.xlim([-0.05, 1.0])\n",
    "plt.ylim([0.0, 1.05])\n",
    "plt.xlabel('False Positive Rate')\n",
    "plt.ylabel('True Positive Rate')\n",
    "plt.title('Scenario 2: Suport Vector Machine')\n",
    "plt.legend(loc=\"lower right\")\n",
    "plt.show()"
   ]
  },
  {
   "cell_type": "code",
   "execution_count": 105,
   "metadata": {},
   "outputs": [
    {
     "name": "stdout",
     "output_type": "stream",
     "text": [
      "One-vs-One AUROC scores:\n",
      "0.9755 (macro),\n",
      "0.9738 (weighted by prevalence)\n",
      "One-vs-Rest AUROC scores:\n",
      "0.9741 (macro),\n",
      "0.9714 (weighted by prevalence)\n"
     ]
    }
   ],
   "source": [
    "# One-vs-One\n",
    "macro_roc_auc_ovo = roc_auc_score(y_test, pred_prob_svm, multi_class=\"ovo\", average=\"macro\")\n",
    "weighted_roc_auc_ovo = roc_auc_score(y_test, pred_prob_svm, multi_class=\"ovo\", average=\"weighted\")\n",
    "\n",
    "# One-vs-Rest\n",
    "macro_roc_auc_ovr = roc_auc_score(y_test, pred_prob_svm, multi_class=\"ovr\", average=\"macro\")\n",
    "weighted_roc_auc_ovr = roc_auc_score(y_test, pred_prob_svm, multi_class=\"ovr\", average=\"weighted\")\n",
    "\n",
    "print(\"One-vs-One AUROC scores:\\n{:.4f} (macro),\\n{:.4f} \"\n",
    "        \"(weighted by prevalence)\".format(macro_roc_auc_ovo, weighted_roc_auc_ovo))\n",
    "\n",
    "print(\"One-vs-Rest AUROC scores:\\n{:.4f} (macro),\\n{:.4f} \"\n",
    "        \"(weighted by prevalence)\".format(macro_roc_auc_ovr, weighted_roc_auc_ovr))"
   ]
  },
  {
   "cell_type": "markdown",
   "metadata": {},
   "source": [
    "## Random Forest"
   ]
  },
  {
   "cell_type": "code",
   "execution_count": 106,
   "metadata": {},
   "outputs": [
    {
     "name": "stdout",
     "output_type": "stream",
     "text": [
      "Fitting 5 folds for each of 1152 candidates, totalling 5760 fits\n"
     ]
    },
    {
     "name": "stderr",
     "output_type": "stream",
     "text": [
      "[Parallel(n_jobs=-1)]: Using backend LokyBackend with 4 concurrent workers.\n",
      "[Parallel(n_jobs=-1)]: Done  58 tasks      | elapsed:    1.8s\n",
      "[Parallel(n_jobs=-1)]: Done 300 tasks      | elapsed:   10.9s\n",
      "[Parallel(n_jobs=-1)]: Done 706 tasks      | elapsed:   25.9s\n",
      "[Parallel(n_jobs=-1)]: Done 1272 tasks      | elapsed:   47.5s\n",
      "[Parallel(n_jobs=-1)]: Done 2002 tasks      | elapsed:  1.3min\n",
      "[Parallel(n_jobs=-1)]: Done 2892 tasks      | elapsed:  1.8min\n",
      "[Parallel(n_jobs=-1)]: Done 3946 tasks      | elapsed:  2.6min\n",
      "[Parallel(n_jobs=-1)]: Done 5160 tasks      | elapsed:  3.5min\n",
      "[Parallel(n_jobs=-1)]: Done 5760 out of 5760 | elapsed:  3.9min finished\n"
     ]
    },
    {
     "name": "stdout",
     "output_type": "stream",
     "text": [
      "Best Score: 0.8542998477929984\n",
      "Best Param: {'criterion': 'entropy', 'max_depth': 6, 'max_features': 4, 'min_samples_leaf': 4, 'min_samples_split': 6, 'n_estimators': 100}\n",
      "Train Score: 0.9340659340659341\n",
      "Test Score: 0.8241758241758241\n",
      "Random Forest: Duration: 0:03:53.311655\n"
     ]
    }
   ],
   "source": [
    "start_time = datetime.now()\n",
    "\n",
    "rf = RandomForestClassifier()\n",
    "\n",
    "param_grid_rf = {'max_depth': [2, 4, 5,6],\n",
    "                'max_features':[1,2,3,4],\n",
    "                'min_samples_leaf': [3, 4, 5],\n",
    "                'min_samples_split': [4, 6, 8, 10],\n",
    "                'criterion' :['gini', 'entropy'],\n",
    "                'n_estimators': [10, 50, 100]}\n",
    "\n",
    "grid_search_model_rf = GridSearchCV(rf, param_grid = param_grid_rf,cv = 5, n_jobs = -1, verbose = 2)\n",
    "grid_search_model_rf.fit(X_train, y_train)\n",
    "\n",
    "print(f'Best Score: {grid_search_model_rf.best_score_}')\n",
    "print(f'Best Param: {grid_search_model_rf.best_params_}')\n",
    "\n",
    "## fitting the best model\n",
    "\n",
    "best_model_rf = grid_search_model_rf.best_estimator_\n",
    "best_model_rf.fit(X_train, y_train)\n",
    "\n",
    "end_time = datetime.now()\n",
    "\n",
    "print(f'Train Score: {best_model_rf.score(X_train, y_train)}')\n",
    "print(f'Test Score: {best_model_rf.score(X_test, y_test)}')\n",
    "print('Random Forest: Duration: {}'.format(end_time - start_time))"
   ]
  },
  {
   "cell_type": "code",
   "execution_count": 107,
   "metadata": {},
   "outputs": [
    {
     "data": {
      "text/plain": [
       "<matplotlib.colorbar.Colorbar at 0x18c59adcc48>"
      ]
     },
     "execution_count": 107,
     "metadata": {},
     "output_type": "execute_result"
    },
    {
     "data": {
      "image/png": "[encoded data removed]",
      "text/plain": [
       "<Figure size 576x432 with 2 Axes>"
      ]
     },
     "metadata": {
      "needs_background": "light"
     },
     "output_type": "display_data"
    }
   ],
   "source": [
    "Class_labels = ['Low', 'Moderate', 'High', 'Very high','Extremely high']\n",
    "plt.figure(figsize = (8,6))\n",
    "scores_image = mglearn.tools.heatmap(\n",
    "    confusion_matrix(y_test, best_model_rf.predict(X_test)), xlabel='Predicted label',\n",
    "    ylabel='True label', xticklabels=Class_labels,\n",
    "    yticklabels=Class_labels, cmap=plt.cm.afmhot_r, fmt=\"%d\")\n",
    "plt.title('Scenario 2: Random Forest \\nAccuracy:{0:.2f}'.format(accuracy_score(y_test, best_model_rf.predict(X_test))))\n",
    "plt.gca().invert_yaxis()\n",
    "plt.colorbar(scores_image)"
   ]
  },
  {
   "cell_type": "code",
   "execution_count": 108,
   "metadata": {},
   "outputs": [
    {
     "name": "stdout",
     "output_type": "stream",
     "text": [
      "                precision    recall  f1-score   support\n",
      "\n",
      "           Low       0.85      1.00      0.92        17\n",
      "      Moderate       0.94      0.80      0.86        20\n",
      "          High       0.76      0.76      0.76        21\n",
      "     Very high       0.73      0.69      0.71        16\n",
      "Extremely high       0.83      0.88      0.86        17\n",
      "\n",
      "      accuracy                           0.82        91\n",
      "     macro avg       0.82      0.83      0.82        91\n",
      "  weighted avg       0.83      0.82      0.82        91\n",
      "\n"
     ]
    }
   ],
   "source": [
    "print (metrics.classification_report(y_test,  best_model_rf.predict(X_test),target_names=Class_labels ))"
   ]
  },
  {
   "cell_type": "code",
   "execution_count": 109,
   "metadata": {},
   "outputs": [
    {
     "data": {
      "image/png": "[encoded data removed]",
      "text/plain": [
       "<Figure size 432x288 with 1 Axes>"
      ]
     },
     "metadata": {
      "needs_background": "light"
     },
     "output_type": "display_data"
    }
   ],
   "source": [
    "from scipy import interp\n",
    "import matplotlib.pyplot as plt\n",
    "from sklearn.metrics import roc_curve, auc\n",
    "\n",
    "# number of classes\n",
    "n_classes = len(np.unique(y_test))\n",
    "\n",
    "pred_prob_rf = best_model_rf.predict_proba(X_test)\n",
    "\n",
    "# roc curve for classes\n",
    "fpr = {}\n",
    "tpr = {}\n",
    "thresh ={}\n",
    "roc_auc = {}\n",
    "\n",
    "for i in range(n_classes):    \n",
    "    fpr[i], tpr[i], thresh[i] = roc_curve(y_test, pred_prob_rf[:,i], pos_label=i)\n",
    "    roc_auc[i] = auc( fpr[i], tpr[i])\n",
    "    \n",
    "    \n",
    "for i in range(n_classes):\n",
    "    plt.plot(fpr[i], tpr[i], label='ROC curve of class {0} (AUC = {1:0.2f})'\n",
    "                                   ''.format(i, roc_auc[i]))\n",
    "\n",
    "plt.plot([0, 1], [0, 1], 'k--')\n",
    "plt.xlim([-0.05, 1.0])\n",
    "plt.ylim([0.0, 1.05])\n",
    "plt.xlabel('False Positive Rate')\n",
    "plt.ylabel('True Positive Rate')\n",
    "plt.title('Scenario 2: Random Forest')\n",
    "plt.legend(loc=\"lower right\")\n",
    "plt.show()"
   ]
  },
  {
   "cell_type": "code",
   "execution_count": 110,
   "metadata": {},
   "outputs": [
    {
     "name": "stdout",
     "output_type": "stream",
     "text": [
      "One-vs-One AUROC scores:\n",
      "0.9661 (macro),\n",
      "0.9648 (weighted by prevalence)\n",
      "One-vs-Rest AUROC scores:\n",
      "0.9652 (macro),\n",
      "0.9627 (weighted by prevalence)\n"
     ]
    }
   ],
   "source": [
    "# One-vs-One\n",
    "macro_roc_auc_ovo = roc_auc_score(y_test, pred_prob_rf, multi_class=\"ovo\", average=\"macro\")\n",
    "weighted_roc_auc_ovo = roc_auc_score(y_test, pred_prob_rf, multi_class=\"ovo\", average=\"weighted\")\n",
    "\n",
    "# One-vs-Rest\n",
    "macro_roc_auc_ovr = roc_auc_score(y_test, pred_prob_rf, multi_class=\"ovr\", average=\"macro\")\n",
    "weighted_roc_auc_ovr = roc_auc_score(y_test, pred_prob_rf, multi_class=\"ovr\", average=\"weighted\")\n",
    "\n",
    "print(\"One-vs-One AUROC scores:\\n{:.4f} (macro),\\n{:.4f} \"\n",
    "        \"(weighted by prevalence)\".format(macro_roc_auc_ovo, weighted_roc_auc_ovo))\n",
    "\n",
    "print(\"One-vs-Rest AUROC scores:\\n{:.4f} (macro),\\n{:.4f} \"\n",
    "        \"(weighted by prevalence)\".format(macro_roc_auc_ovr, weighted_roc_auc_ovr))"
   ]
  },
  {
   "cell_type": "markdown",
   "metadata": {},
   "source": [
    "# Concluding remarks"
   ]
  },
  {
   "cell_type": "markdown",
   "metadata": {},
   "source": [
    "As demonstrated above, all models were validated using previously unseen data. The validation results confirmed that, despite the fact that the dataset contained limited data covering a wider range of concrete types, all models except NB classified the level of chloride resistance of concrete with remarkably high accuracy. Among all algorithms, the SVM performed the best, with 89 percent and 88 percent accuracy in Scenarios 1 and 2, respectively. Despite this, the models in Scenario 1 performed significantly better than the models in Scenario 2. This corroborates that the inclusion in the dataset of all features describing the considered mix components is crucial for a more accurate and reliable classification of the chloride resistance of concrete. The models have both practical and economic implications. Engineers around the world can use the models to quickly evaluate the performance of concrete against chloride resistance without the need for time-consuming and costly laboratory testing. "
   ]
  }
 ],
 "metadata": {
  "kernelspec": {
   "display_name": "Python 3",
   "language": "python",
   "name": "python3"
  },
  "language_info": {
   "codemirror_mode": {
    "name": "ipython",
    "version": 3
   },
   "file_extension": ".py",
   "mimetype": "text/x-python",
   "name": "python",
   "nbconvert_exporter": "python",
   "pygments_lexer": "ipython3",
   "version": "3.7.6"
  }
 },
 "nbformat": 4,
 "nbformat_minor": 4
}
